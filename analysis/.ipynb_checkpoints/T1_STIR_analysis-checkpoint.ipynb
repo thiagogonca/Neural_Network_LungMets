{
 "cells": [
  {
   "cell_type": "markdown",
   "metadata": {},
   "source": [
    "# Infraestrutura e Dependências "
   ]
  },
  {
   "cell_type": "markdown",
   "metadata": {},
   "source": [
    "## * Verificando se o tensorflow encontra a GPU local"
   ]
  },
  {
   "cell_type": "code",
   "execution_count": 1,
   "metadata": {},
   "outputs": [
    {
     "name": "stderr",
     "output_type": "stream",
     "text": [
      "2023-09-19 21:42:08.433359: I tensorflow/core/platform/cpu_feature_guard.cc:182] This TensorFlow binary is optimized to use available CPU instructions in performance-critical operations.\n",
      "To enable the following instructions: AVX2 FMA, in other operations, rebuild TensorFlow with the appropriate compiler flags.\n"
     ]
    },
    {
     "name": "stdout",
     "output_type": "stream",
     "text": [
      "Available GPUs: [PhysicalDevice(name='/physical_device:GPU:0', device_type='GPU')]\n"
     ]
    },
    {
     "name": "stderr",
     "output_type": "stream",
     "text": [
      "2023-09-19 21:42:10.553054: I tensorflow/compiler/xla/stream_executor/cuda/cuda_gpu_executor.cc:996] successful NUMA node read from SysFS had negative value (-1), but there must be at least one NUMA node, so returning NUMA node zero. See more at https://github.com/torvalds/linux/blob/v6.0/Documentation/ABI/testing/sysfs-bus-pci#L344-L355\n",
      "2023-09-19 21:42:10.574716: I tensorflow/compiler/xla/stream_executor/cuda/cuda_gpu_executor.cc:996] successful NUMA node read from SysFS had negative value (-1), but there must be at least one NUMA node, so returning NUMA node zero. See more at https://github.com/torvalds/linux/blob/v6.0/Documentation/ABI/testing/sysfs-bus-pci#L344-L355\n",
      "2023-09-19 21:42:10.574844: I tensorflow/compiler/xla/stream_executor/cuda/cuda_gpu_executor.cc:996] successful NUMA node read from SysFS had negative value (-1), but there must be at least one NUMA node, so returning NUMA node zero. See more at https://github.com/torvalds/linux/blob/v6.0/Documentation/ABI/testing/sysfs-bus-pci#L344-L355\n"
     ]
    }
   ],
   "source": [
    "import tensorflow as tf\n",
    "\n",
    "# List available GPUs\n",
    "\n",
    "gpus = tf.config.list_physical_devices('GPU')\n",
    "print(\"Available GPUs:\", gpus)\n",
    "\n",
    "# Allocate GPU memory dynamically\n",
    "for gpu in gpus:\n",
    "    tf.config.experimental.set_memory_growth(gpu, True)\n"
   ]
  },
  {
   "cell_type": "markdown",
   "metadata": {},
   "source": [
    "## * Verificando as propriedades da GPU local"
   ]
  },
  {
   "cell_type": "code",
   "execution_count": 2,
   "metadata": {},
   "outputs": [
    {
     "name": "stdout",
     "output_type": "stream",
     "text": [
      "Tue Sep 19 21:42:10 2023       \r\n",
      "+---------------------------------------------------------------------------------------+\r\n",
      "| NVIDIA-SMI 530.30.02              Driver Version: 530.30.02    CUDA Version: 12.1     |\r\n",
      "|-----------------------------------------+----------------------+----------------------+\r\n",
      "| GPU  Name                  Persistence-M| Bus-Id        Disp.A | Volatile Uncorr. ECC |\r\n",
      "| Fan  Temp  Perf            Pwr:Usage/Cap|         Memory-Usage | GPU-Util  Compute M. |\r\n",
      "|                                         |                      |               MIG M. |\r\n",
      "|=========================================+======================+======================|\r\n",
      "|   0  NVIDIA GeForce GTX 1650         On | 00000000:01:00.0 Off |                  N/A |\r\n",
      "| N/A   55C    P3               11W /  50W|    476MiB /  4096MiB |     23%      Default |\r\n",
      "|                                         |                      |                  N/A |\r\n",
      "+-----------------------------------------+----------------------+----------------------+\r\n",
      "                                                                                         \r\n",
      "+---------------------------------------------------------------------------------------+\r\n",
      "| Processes:                                                                            |\r\n",
      "|  GPU   GI   CI        PID   Type   Process name                            GPU Memory |\r\n",
      "|        ID   ID                                                             Usage      |\r\n",
      "|=======================================================================================|\r\n",
      "+---------------------------------------------------------------------------------------+\r\n"
     ]
    }
   ],
   "source": [
    "!nvidia-smi\n"
   ]
  },
  {
   "cell_type": "markdown",
   "metadata": {},
   "source": [
    "## * Verificando se as bilbiotecas foram instaladas corretamente, junto do tensorflow"
   ]
  },
  {
   "cell_type": "code",
   "execution_count": 3,
   "metadata": {},
   "outputs": [
    {
     "name": "stdout",
     "output_type": "stream",
     "text": [
      "Package                      Version\n",
      "---------------------------- --------------------\n",
      "absl-py                      1.4.0\n",
      "anyio                        3.6.2\n",
      "argon2-cffi                  21.3.0\n",
      "argon2-cffi-bindings         21.2.0\n",
      "arrow                        1.2.3\n",
      "asttokens                    2.2.1\n",
      "astunparse                   1.6.3\n",
      "attrs                        22.2.0\n",
      "backcall                     0.2.0\n",
      "beautifulsoup4               4.12.0\n",
      "bleach                       6.0.0\n",
      "cachetools                   5.3.0\n",
      "certifi                      2019.11.28\n",
      "cffi                         1.15.1\n",
      "chardet                      3.0.4\n",
      "comm                         0.1.3\n",
      "contourpy                    1.0.7\n",
      "cycler                       0.11.0\n",
      "dbus-python                  1.2.16\n",
      "debugpy                      1.6.6\n",
      "decorator                    5.1.1\n",
      "defusedxml                   0.7.1\n",
      "executing                    1.2.0\n",
      "fastjsonschema               2.16.3\n",
      "flatbuffers                  23.3.3\n",
      "fonttools                    4.39.2\n",
      "fqdn                         1.5.1\n",
      "gast                         0.4.0\n",
      "google-auth                  2.16.2\n",
      "google-auth-oauthlib         0.4.6\n",
      "google-pasta                 0.2.0\n",
      "grpcio                       1.51.3\n",
      "h5py                         3.8.0\n",
      "idna                         2.8\n",
      "importlib-metadata           6.1.0\n",
      "importlib-resources          5.12.0\n",
      "ipykernel                    6.22.0\n",
      "ipython                      8.11.0\n",
      "ipython-genutils             0.2.0\n",
      "ipywidgets                   8.0.5\n",
      "isoduration                  20.11.0\n",
      "jax                          0.4.6\n",
      "jedi                         0.18.2\n",
      "Jinja2                       3.1.2\n",
      "joblib                       1.3.2\n",
      "jsonpointer                  2.3\n",
      "jsonschema                   4.17.3\n",
      "jupyter                      1.0.0\n",
      "jupyter_client               8.1.0\n",
      "jupyter-console              6.6.3\n",
      "jupyter_core                 5.3.0\n",
      "jupyter-events               0.6.3\n",
      "jupyter-http-over-ws         0.0.8\n",
      "jupyter_server               2.5.0\n",
      "jupyter_server_terminals     0.4.4\n",
      "jupyterlab-pygments          0.2.2\n",
      "jupyterlab-widgets           3.0.6\n",
      "keras                        2.12.0\n",
      "kiwisolver                   1.4.4\n",
      "libclang                     16.0.0\n",
      "Markdown                     3.4.3\n",
      "MarkupSafe                   2.1.2\n",
      "matplotlib                   3.5.1\n",
      "matplotlib-inline            0.1.6\n",
      "mistune                      2.0.5\n",
      "nbclassic                    0.5.3\n",
      "nbclient                     0.7.2\n",
      "nbconvert                    7.2.10\n",
      "nbformat                     5.8.0\n",
      "nest-asyncio                 1.5.6\n",
      "notebook                     6.5.3\n",
      "notebook_shim                0.2.2\n",
      "numpy                        1.22.0\n",
      "oauthlib                     3.2.2\n",
      "opt-einsum                   3.3.0\n",
      "packaging                    23.0\n",
      "pandas                       1.4.0\n",
      "pandocfilters                1.5.0\n",
      "parso                        0.8.3\n",
      "pexpect                      4.8.0\n",
      "pickleshare                  0.7.5\n",
      "Pillow                       9.4.0\n",
      "pip                          23.0.1\n",
      "pkgutil_resolve_name         1.3.10\n",
      "platformdirs                 3.1.1\n",
      "prometheus-client            0.16.0\n",
      "prompt-toolkit               3.0.38\n",
      "protobuf                     4.22.1\n",
      "psutil                       5.9.4\n",
      "ptyprocess                   0.7.0\n",
      "pure-eval                    0.2.2\n",
      "pyasn1                       0.4.8\n",
      "pyasn1-modules               0.2.8\n",
      "pycparser                    2.21\n",
      "Pygments                     2.14.0\n",
      "PyGObject                    3.36.0\n",
      "pyparsing                    3.0.9\n",
      "pyrsistent                   0.19.3\n",
      "python-apt                   2.0.1+ubuntu0.20.4.1\n",
      "python-dateutil              2.8.2\n",
      "python-json-logger           2.0.7\n",
      "pytz                         2023.3.post1\n",
      "PyYAML                       6.0\n",
      "pyzmq                        25.0.2\n",
      "qtconsole                    5.4.1\n",
      "QtPy                         2.3.0\n",
      "requests                     2.22.0\n",
      "requests-oauthlib            1.3.1\n",
      "requests-unixsocket          0.2.0\n",
      "rfc3339-validator            0.1.4\n",
      "rfc3986-validator            0.1.1\n",
      "rsa                          4.9\n",
      "scikit-learn                 1.0.2\n",
      "scipy                        1.10.1\n",
      "seaborn                      0.11.2\n",
      "Send2Trash                   1.8.0\n",
      "setuptools                   67.6.0\n",
      "six                          1.14.0\n",
      "sniffio                      1.3.0\n",
      "soupsieve                    2.4\n",
      "stack-data                   0.6.2\n",
      "tensorboard                  2.12.0\n",
      "tensorboard-data-server      0.7.0\n",
      "tensorboard-plugin-wit       1.8.1\n",
      "tensorflow                   2.12.0\n",
      "tensorflow-estimator         2.12.0\n",
      "tensorflow-io-gcs-filesystem 0.31.0\n",
      "termcolor                    2.2.0\n",
      "terminado                    0.17.1\n",
      "threadpoolctl                3.2.0\n",
      "tinycss2                     1.2.1\n",
      "tornado                      6.2\n",
      "traitlets                    5.9.0\n",
      "typing_extensions            4.5.0\n",
      "uri-template                 1.2.0\n",
      "urllib3                      1.25.8\n",
      "wcwidth                      0.2.6\n",
      "webcolors                    1.12\n",
      "webencodings                 0.5.1\n",
      "websocket-client             1.5.1\n",
      "Werkzeug                     2.2.3\n",
      "wheel                        0.40.0\n",
      "widgetsnbextension           4.0.6\n",
      "wrapt                        1.14.1\n",
      "yellowbrick                  1.5\n",
      "zipp                         3.15.0\n",
      "\n",
      "\u001b[1m[\u001b[0m\u001b[34;49mnotice\u001b[0m\u001b[1;39;49m]\u001b[0m\u001b[39;49m A new release of pip is available: \u001b[0m\u001b[31;49m23.0.1\u001b[0m\u001b[39;49m -> \u001b[0m\u001b[32;49m23.2.1\u001b[0m\n",
      "\u001b[1m[\u001b[0m\u001b[34;49mnotice\u001b[0m\u001b[1;39;49m]\u001b[0m\u001b[39;49m To update, run: \u001b[0m\u001b[32;49mpython3 -m pip install --upgrade pip\u001b[0m\n"
     ]
    }
   ],
   "source": [
    "!pip list"
   ]
  },
  {
   "cell_type": "markdown",
   "metadata": {},
   "source": [
    "# Análise e processamento dos dados T1"
   ]
  },
  {
   "cell_type": "code",
   "execution_count": 4,
   "metadata": {},
   "outputs": [],
   "source": [
    "import os\n",
    "import numpy as np\n",
    "import pandas as pd\n",
    "import matplotlib.pyplot as plt\n",
    "%matplotlib inline\n",
    "import seaborn as sns\n",
    "import json\n",
    "import math"
   ]
  },
  {
   "cell_type": "code",
   "execution_count": 5,
   "metadata": {},
   "outputs": [],
   "source": [
    "CURRENT = os.getcwd()\n",
    "ROOT = os.path.join(\"/project\")\n",
    "DATASETS = os.path.join(ROOT, \"datasets\")\n",
    "DATASETS_EXTRACTED = os.path.join(DATASETS, \"extracted\")\n",
    "T1_PATH = os.path.join(DATASETS_EXTRACTED, \"T1.csv\")"
   ]
  },
  {
   "cell_type": "code",
   "execution_count": 6,
   "metadata": {},
   "outputs": [],
   "source": [
    "T1 = pd.read_csv(T1_PATH) \\\n",
    "      .sort_values(by=\"case_PatientID\", ignore_index=True)"
   ]
  },
  {
   "cell_type": "code",
   "execution_count": 7,
   "metadata": {},
   "outputs": [
    {
     "data": {
      "text/html": [
       "<div>\n",
       "<style scoped>\n",
       "    .dataframe tbody tr th:only-of-type {\n",
       "        vertical-align: middle;\n",
       "    }\n",
       "\n",
       "    .dataframe tbody tr th {\n",
       "        vertical-align: top;\n",
       "    }\n",
       "\n",
       "    .dataframe thead th {\n",
       "        text-align: right;\n",
       "    }\n",
       "</style>\n",
       "<table border=\"1\" class=\"dataframe\">\n",
       "  <thead>\n",
       "    <tr style=\"text-align: right;\">\n",
       "      <th></th>\n",
       "      <th>case_PatientID</th>\n",
       "      <th>T1_original_shape_Elongation</th>\n",
       "      <th>T1_original_shape_Flatness</th>\n",
       "      <th>T1_original_shape_LeastAxisLength</th>\n",
       "      <th>T1_original_shape_MajorAxisLength</th>\n",
       "      <th>T1_original_shape_Maximum2DDiameterColumn</th>\n",
       "      <th>T1_original_shape_Maximum2DDiameterRow</th>\n",
       "      <th>T1_original_shape_Maximum2DDiameterSlice</th>\n",
       "      <th>T1_original_shape_Maximum3DDiameter</th>\n",
       "      <th>T1_original_shape_MeshVolume</th>\n",
       "      <th>...</th>\n",
       "      <th>T1_wavelet-LLL_gldm_LowGrayLevelEmphasis</th>\n",
       "      <th>T1_wavelet-LLL_gldm_SmallDependenceEmphasis</th>\n",
       "      <th>T1_wavelet-LLL_gldm_SmallDependenceHighGrayLevelEmphasis</th>\n",
       "      <th>T1_wavelet-LLL_gldm_SmallDependenceLowGrayLevelEmphasis</th>\n",
       "      <th>T1_wavelet-LLL_ngtdm_Busyness</th>\n",
       "      <th>T1_wavelet-LLL_ngtdm_Coarseness</th>\n",
       "      <th>T1_wavelet-LLL_ngtdm_Complexity</th>\n",
       "      <th>T1_wavelet-LLL_ngtdm_Contrast</th>\n",
       "      <th>T1_wavelet-LLL_ngtdm_Strength</th>\n",
       "      <th>T1_LungMets</th>\n",
       "    </tr>\n",
       "  </thead>\n",
       "  <tbody>\n",
       "    <tr>\n",
       "      <th>0</th>\n",
       "      <td>STS_001</td>\n",
       "      <td>0.767756</td>\n",
       "      <td>0.643837</td>\n",
       "      <td>65.059651</td>\n",
       "      <td>101.049858</td>\n",
       "      <td>116.730459</td>\n",
       "      <td>111.000000</td>\n",
       "      <td>93.962759</td>\n",
       "      <td>118.224363</td>\n",
       "      <td>363096.000</td>\n",
       "      <td>...</td>\n",
       "      <td>0.014371</td>\n",
       "      <td>0.111562</td>\n",
       "      <td>13.895895</td>\n",
       "      <td>0.002196</td>\n",
       "      <td>4.370039</td>\n",
       "      <td>0.000824</td>\n",
       "      <td>301.427279</td>\n",
       "      <td>0.046065</td>\n",
       "      <td>0.190421</td>\n",
       "      <td>0</td>\n",
       "    </tr>\n",
       "    <tr>\n",
       "      <th>1</th>\n",
       "      <td>STS_002</td>\n",
       "      <td>0.895324</td>\n",
       "      <td>0.672732</td>\n",
       "      <td>33.881630</td>\n",
       "      <td>50.364231</td>\n",
       "      <td>58.249464</td>\n",
       "      <td>54.083269</td>\n",
       "      <td>58.249464</td>\n",
       "      <td>58.557664</td>\n",
       "      <td>52524.000</td>\n",
       "      <td>...</td>\n",
       "      <td>0.007644</td>\n",
       "      <td>0.283175</td>\n",
       "      <td>256.102692</td>\n",
       "      <td>0.002118</td>\n",
       "      <td>0.111926</td>\n",
       "      <td>0.008068</td>\n",
       "      <td>4598.211806</td>\n",
       "      <td>0.165676</td>\n",
       "      <td>15.788664</td>\n",
       "      <td>0</td>\n",
       "    </tr>\n",
       "    <tr>\n",
       "      <th>2</th>\n",
       "      <td>STS_003</td>\n",
       "      <td>0.701973</td>\n",
       "      <td>0.685473</td>\n",
       "      <td>42.574564</td>\n",
       "      <td>62.109765</td>\n",
       "      <td>65.520989</td>\n",
       "      <td>72.622311</td>\n",
       "      <td>55.072679</td>\n",
       "      <td>76.249590</td>\n",
       "      <td>80582.625</td>\n",
       "      <td>...</td>\n",
       "      <td>0.038509</td>\n",
       "      <td>0.204710</td>\n",
       "      <td>93.914428</td>\n",
       "      <td>0.002267</td>\n",
       "      <td>0.556427</td>\n",
       "      <td>0.004609</td>\n",
       "      <td>1929.223121</td>\n",
       "      <td>0.103765</td>\n",
       "      <td>9.977033</td>\n",
       "      <td>0</td>\n",
       "    </tr>\n",
       "    <tr>\n",
       "      <th>3</th>\n",
       "      <td>STS_004</td>\n",
       "      <td>0.545471</td>\n",
       "      <td>0.447141</td>\n",
       "      <td>53.787869</td>\n",
       "      <td>120.292849</td>\n",
       "      <td>158.858428</td>\n",
       "      <td>141.509717</td>\n",
       "      <td>77.129761</td>\n",
       "      <td>159.113167</td>\n",
       "      <td>296077.500</td>\n",
       "      <td>...</td>\n",
       "      <td>0.023288</td>\n",
       "      <td>0.123753</td>\n",
       "      <td>34.798096</td>\n",
       "      <td>0.001625</td>\n",
       "      <td>1.628723</td>\n",
       "      <td>0.001227</td>\n",
       "      <td>1201.436704</td>\n",
       "      <td>0.036651</td>\n",
       "      <td>2.595787</td>\n",
       "      <td>0</td>\n",
       "    </tr>\n",
       "    <tr>\n",
       "      <th>4</th>\n",
       "      <td>STS_005</td>\n",
       "      <td>0.601763</td>\n",
       "      <td>0.490816</td>\n",
       "      <td>69.224991</td>\n",
       "      <td>141.040479</td>\n",
       "      <td>166.628329</td>\n",
       "      <td>162.996932</td>\n",
       "      <td>98.407317</td>\n",
       "      <td>169.307413</td>\n",
       "      <td>588868.875</td>\n",
       "      <td>...</td>\n",
       "      <td>0.018963</td>\n",
       "      <td>0.101468</td>\n",
       "      <td>35.585558</td>\n",
       "      <td>0.001280</td>\n",
       "      <td>1.759809</td>\n",
       "      <td>0.000670</td>\n",
       "      <td>2467.946316</td>\n",
       "      <td>0.017227</td>\n",
       "      <td>3.329724</td>\n",
       "      <td>0</td>\n",
       "    </tr>\n",
       "  </tbody>\n",
       "</table>\n",
       "<p>5 rows × 1039 columns</p>\n",
       "</div>"
      ],
      "text/plain": [
       "  case_PatientID  T1_original_shape_Elongation  T1_original_shape_Flatness  \\\n",
       "0        STS_001                      0.767756                    0.643837   \n",
       "1        STS_002                      0.895324                    0.672732   \n",
       "2        STS_003                      0.701973                    0.685473   \n",
       "3        STS_004                      0.545471                    0.447141   \n",
       "4        STS_005                      0.601763                    0.490816   \n",
       "\n",
       "   T1_original_shape_LeastAxisLength  T1_original_shape_MajorAxisLength  \\\n",
       "0                          65.059651                         101.049858   \n",
       "1                          33.881630                          50.364231   \n",
       "2                          42.574564                          62.109765   \n",
       "3                          53.787869                         120.292849   \n",
       "4                          69.224991                         141.040479   \n",
       "\n",
       "   T1_original_shape_Maximum2DDiameterColumn  \\\n",
       "0                                 116.730459   \n",
       "1                                  58.249464   \n",
       "2                                  65.520989   \n",
       "3                                 158.858428   \n",
       "4                                 166.628329   \n",
       "\n",
       "   T1_original_shape_Maximum2DDiameterRow  \\\n",
       "0                              111.000000   \n",
       "1                               54.083269   \n",
       "2                               72.622311   \n",
       "3                              141.509717   \n",
       "4                              162.996932   \n",
       "\n",
       "   T1_original_shape_Maximum2DDiameterSlice  \\\n",
       "0                                 93.962759   \n",
       "1                                 58.249464   \n",
       "2                                 55.072679   \n",
       "3                                 77.129761   \n",
       "4                                 98.407317   \n",
       "\n",
       "   T1_original_shape_Maximum3DDiameter  T1_original_shape_MeshVolume  ...  \\\n",
       "0                           118.224363                    363096.000  ...   \n",
       "1                            58.557664                     52524.000  ...   \n",
       "2                            76.249590                     80582.625  ...   \n",
       "3                           159.113167                    296077.500  ...   \n",
       "4                           169.307413                    588868.875  ...   \n",
       "\n",
       "   T1_wavelet-LLL_gldm_LowGrayLevelEmphasis  \\\n",
       "0                                  0.014371   \n",
       "1                                  0.007644   \n",
       "2                                  0.038509   \n",
       "3                                  0.023288   \n",
       "4                                  0.018963   \n",
       "\n",
       "   T1_wavelet-LLL_gldm_SmallDependenceEmphasis  \\\n",
       "0                                     0.111562   \n",
       "1                                     0.283175   \n",
       "2                                     0.204710   \n",
       "3                                     0.123753   \n",
       "4                                     0.101468   \n",
       "\n",
       "   T1_wavelet-LLL_gldm_SmallDependenceHighGrayLevelEmphasis  \\\n",
       "0                                          13.895895          \n",
       "1                                         256.102692          \n",
       "2                                          93.914428          \n",
       "3                                          34.798096          \n",
       "4                                          35.585558          \n",
       "\n",
       "   T1_wavelet-LLL_gldm_SmallDependenceLowGrayLevelEmphasis  \\\n",
       "0                                           0.002196         \n",
       "1                                           0.002118         \n",
       "2                                           0.002267         \n",
       "3                                           0.001625         \n",
       "4                                           0.001280         \n",
       "\n",
       "   T1_wavelet-LLL_ngtdm_Busyness  T1_wavelet-LLL_ngtdm_Coarseness  \\\n",
       "0                       4.370039                         0.000824   \n",
       "1                       0.111926                         0.008068   \n",
       "2                       0.556427                         0.004609   \n",
       "3                       1.628723                         0.001227   \n",
       "4                       1.759809                         0.000670   \n",
       "\n",
       "   T1_wavelet-LLL_ngtdm_Complexity  T1_wavelet-LLL_ngtdm_Contrast  \\\n",
       "0                       301.427279                       0.046065   \n",
       "1                      4598.211806                       0.165676   \n",
       "2                      1929.223121                       0.103765   \n",
       "3                      1201.436704                       0.036651   \n",
       "4                      2467.946316                       0.017227   \n",
       "\n",
       "   T1_wavelet-LLL_ngtdm_Strength  T1_LungMets  \n",
       "0                       0.190421            0  \n",
       "1                      15.788664            0  \n",
       "2                       9.977033            0  \n",
       "3                       2.595787            0  \n",
       "4                       3.329724            0  \n",
       "\n",
       "[5 rows x 1039 columns]"
      ]
     },
     "execution_count": 7,
     "metadata": {},
     "output_type": "execute_result"
    }
   ],
   "source": [
    "T1.head()"
   ]
  },
  {
   "cell_type": "code",
   "execution_count": 8,
   "metadata": {},
   "outputs": [
    {
     "data": {
      "text/html": [
       "<div>\n",
       "<style scoped>\n",
       "    .dataframe tbody tr th:only-of-type {\n",
       "        vertical-align: middle;\n",
       "    }\n",
       "\n",
       "    .dataframe tbody tr th {\n",
       "        vertical-align: top;\n",
       "    }\n",
       "\n",
       "    .dataframe thead th {\n",
       "        text-align: right;\n",
       "    }\n",
       "</style>\n",
       "<table border=\"1\" class=\"dataframe\">\n",
       "  <thead>\n",
       "    <tr style=\"text-align: right;\">\n",
       "      <th></th>\n",
       "      <th>case_PatientID</th>\n",
       "      <th>T1_original_shape_Elongation</th>\n",
       "      <th>T1_original_shape_Flatness</th>\n",
       "      <th>T1_original_shape_LeastAxisLength</th>\n",
       "      <th>T1_original_shape_MajorAxisLength</th>\n",
       "      <th>T1_original_shape_Maximum2DDiameterColumn</th>\n",
       "      <th>T1_original_shape_Maximum2DDiameterRow</th>\n",
       "      <th>T1_original_shape_Maximum2DDiameterSlice</th>\n",
       "      <th>T1_original_shape_Maximum3DDiameter</th>\n",
       "      <th>T1_original_shape_MeshVolume</th>\n",
       "      <th>...</th>\n",
       "      <th>T1_wavelet-LLL_gldm_LowGrayLevelEmphasis</th>\n",
       "      <th>T1_wavelet-LLL_gldm_SmallDependenceEmphasis</th>\n",
       "      <th>T1_wavelet-LLL_gldm_SmallDependenceHighGrayLevelEmphasis</th>\n",
       "      <th>T1_wavelet-LLL_gldm_SmallDependenceLowGrayLevelEmphasis</th>\n",
       "      <th>T1_wavelet-LLL_ngtdm_Busyness</th>\n",
       "      <th>T1_wavelet-LLL_ngtdm_Coarseness</th>\n",
       "      <th>T1_wavelet-LLL_ngtdm_Complexity</th>\n",
       "      <th>T1_wavelet-LLL_ngtdm_Contrast</th>\n",
       "      <th>T1_wavelet-LLL_ngtdm_Strength</th>\n",
       "      <th>T1_LungMets</th>\n",
       "    </tr>\n",
       "  </thead>\n",
       "  <tbody>\n",
       "    <tr>\n",
       "      <th>46</th>\n",
       "      <td>STS_047</td>\n",
       "      <td>0.749816</td>\n",
       "      <td>0.589409</td>\n",
       "      <td>49.367352</td>\n",
       "      <td>83.757336</td>\n",
       "      <td>80.777472</td>\n",
       "      <td>97.349884</td>\n",
       "      <td>78.746428</td>\n",
       "      <td>97.948966</td>\n",
       "      <td>177670.125</td>\n",
       "      <td>...</td>\n",
       "      <td>0.002711</td>\n",
       "      <td>0.216119</td>\n",
       "      <td>197.747112</td>\n",
       "      <td>0.000582</td>\n",
       "      <td>0.327223</td>\n",
       "      <td>0.001566</td>\n",
       "      <td>3985.977244</td>\n",
       "      <td>0.057583</td>\n",
       "      <td>4.708499</td>\n",
       "      <td>0</td>\n",
       "    </tr>\n",
       "    <tr>\n",
       "      <th>47</th>\n",
       "      <td>STS_048</td>\n",
       "      <td>0.831024</td>\n",
       "      <td>0.561210</td>\n",
       "      <td>57.459991</td>\n",
       "      <td>102.385887</td>\n",
       "      <td>112.729765</td>\n",
       "      <td>114.039467</td>\n",
       "      <td>94.868330</td>\n",
       "      <td>118.338498</td>\n",
       "      <td>351493.875</td>\n",
       "      <td>...</td>\n",
       "      <td>0.014848</td>\n",
       "      <td>0.057618</td>\n",
       "      <td>10.180554</td>\n",
       "      <td>0.000954</td>\n",
       "      <td>1.921258</td>\n",
       "      <td>0.001006</td>\n",
       "      <td>440.582424</td>\n",
       "      <td>0.006771</td>\n",
       "      <td>1.580504</td>\n",
       "      <td>0</td>\n",
       "    </tr>\n",
       "    <tr>\n",
       "      <th>48</th>\n",
       "      <td>STS_049</td>\n",
       "      <td>0.494168</td>\n",
       "      <td>0.331116</td>\n",
       "      <td>73.886355</td>\n",
       "      <td>223.143527</td>\n",
       "      <td>214.536710</td>\n",
       "      <td>215.603803</td>\n",
       "      <td>130.387883</td>\n",
       "      <td>219.102716</td>\n",
       "      <td>1098640.125</td>\n",
       "      <td>...</td>\n",
       "      <td>0.000651</td>\n",
       "      <td>0.183987</td>\n",
       "      <td>616.940631</td>\n",
       "      <td>0.000153</td>\n",
       "      <td>0.175153</td>\n",
       "      <td>0.000707</td>\n",
       "      <td>10651.742528</td>\n",
       "      <td>0.041194</td>\n",
       "      <td>5.702695</td>\n",
       "      <td>0</td>\n",
       "    </tr>\n",
       "    <tr>\n",
       "      <th>49</th>\n",
       "      <td>STS_050</td>\n",
       "      <td>0.810126</td>\n",
       "      <td>0.606749</td>\n",
       "      <td>47.722331</td>\n",
       "      <td>78.652545</td>\n",
       "      <td>88.639720</td>\n",
       "      <td>86.377080</td>\n",
       "      <td>73.239334</td>\n",
       "      <td>90.448881</td>\n",
       "      <td>167241.375</td>\n",
       "      <td>...</td>\n",
       "      <td>0.012572</td>\n",
       "      <td>0.043330</td>\n",
       "      <td>3.851515</td>\n",
       "      <td>0.000890</td>\n",
       "      <td>2.487519</td>\n",
       "      <td>0.001963</td>\n",
       "      <td>69.371687</td>\n",
       "      <td>0.015493</td>\n",
       "      <td>0.229804</td>\n",
       "      <td>1</td>\n",
       "    </tr>\n",
       "    <tr>\n",
       "      <th>50</th>\n",
       "      <td>STS_051</td>\n",
       "      <td>0.727676</td>\n",
       "      <td>0.557354</td>\n",
       "      <td>47.214006</td>\n",
       "      <td>84.711022</td>\n",
       "      <td>98.086696</td>\n",
       "      <td>94.868330</td>\n",
       "      <td>73.545904</td>\n",
       "      <td>100.444014</td>\n",
       "      <td>174897.000</td>\n",
       "      <td>...</td>\n",
       "      <td>0.007868</td>\n",
       "      <td>0.175143</td>\n",
       "      <td>156.567966</td>\n",
       "      <td>0.001398</td>\n",
       "      <td>0.154682</td>\n",
       "      <td>0.003396</td>\n",
       "      <td>6239.291511</td>\n",
       "      <td>0.059259</td>\n",
       "      <td>15.880346</td>\n",
       "      <td>0</td>\n",
       "    </tr>\n",
       "  </tbody>\n",
       "</table>\n",
       "<p>5 rows × 1039 columns</p>\n",
       "</div>"
      ],
      "text/plain": [
       "   case_PatientID  T1_original_shape_Elongation  T1_original_shape_Flatness  \\\n",
       "46        STS_047                      0.749816                    0.589409   \n",
       "47        STS_048                      0.831024                    0.561210   \n",
       "48        STS_049                      0.494168                    0.331116   \n",
       "49        STS_050                      0.810126                    0.606749   \n",
       "50        STS_051                      0.727676                    0.557354   \n",
       "\n",
       "    T1_original_shape_LeastAxisLength  T1_original_shape_MajorAxisLength  \\\n",
       "46                          49.367352                          83.757336   \n",
       "47                          57.459991                         102.385887   \n",
       "48                          73.886355                         223.143527   \n",
       "49                          47.722331                          78.652545   \n",
       "50                          47.214006                          84.711022   \n",
       "\n",
       "    T1_original_shape_Maximum2DDiameterColumn  \\\n",
       "46                                  80.777472   \n",
       "47                                 112.729765   \n",
       "48                                 214.536710   \n",
       "49                                  88.639720   \n",
       "50                                  98.086696   \n",
       "\n",
       "    T1_original_shape_Maximum2DDiameterRow  \\\n",
       "46                               97.349884   \n",
       "47                              114.039467   \n",
       "48                              215.603803   \n",
       "49                               86.377080   \n",
       "50                               94.868330   \n",
       "\n",
       "    T1_original_shape_Maximum2DDiameterSlice  \\\n",
       "46                                 78.746428   \n",
       "47                                 94.868330   \n",
       "48                                130.387883   \n",
       "49                                 73.239334   \n",
       "50                                 73.545904   \n",
       "\n",
       "    T1_original_shape_Maximum3DDiameter  T1_original_shape_MeshVolume  ...  \\\n",
       "46                            97.948966                    177670.125  ...   \n",
       "47                           118.338498                    351493.875  ...   \n",
       "48                           219.102716                   1098640.125  ...   \n",
       "49                            90.448881                    167241.375  ...   \n",
       "50                           100.444014                    174897.000  ...   \n",
       "\n",
       "    T1_wavelet-LLL_gldm_LowGrayLevelEmphasis  \\\n",
       "46                                  0.002711   \n",
       "47                                  0.014848   \n",
       "48                                  0.000651   \n",
       "49                                  0.012572   \n",
       "50                                  0.007868   \n",
       "\n",
       "    T1_wavelet-LLL_gldm_SmallDependenceEmphasis  \\\n",
       "46                                     0.216119   \n",
       "47                                     0.057618   \n",
       "48                                     0.183987   \n",
       "49                                     0.043330   \n",
       "50                                     0.175143   \n",
       "\n",
       "    T1_wavelet-LLL_gldm_SmallDependenceHighGrayLevelEmphasis  \\\n",
       "46                                         197.747112          \n",
       "47                                          10.180554          \n",
       "48                                         616.940631          \n",
       "49                                           3.851515          \n",
       "50                                         156.567966          \n",
       "\n",
       "    T1_wavelet-LLL_gldm_SmallDependenceLowGrayLevelEmphasis  \\\n",
       "46                                           0.000582         \n",
       "47                                           0.000954         \n",
       "48                                           0.000153         \n",
       "49                                           0.000890         \n",
       "50                                           0.001398         \n",
       "\n",
       "    T1_wavelet-LLL_ngtdm_Busyness  T1_wavelet-LLL_ngtdm_Coarseness  \\\n",
       "46                       0.327223                         0.001566   \n",
       "47                       1.921258                         0.001006   \n",
       "48                       0.175153                         0.000707   \n",
       "49                       2.487519                         0.001963   \n",
       "50                       0.154682                         0.003396   \n",
       "\n",
       "    T1_wavelet-LLL_ngtdm_Complexity  T1_wavelet-LLL_ngtdm_Contrast  \\\n",
       "46                      3985.977244                       0.057583   \n",
       "47                       440.582424                       0.006771   \n",
       "48                     10651.742528                       0.041194   \n",
       "49                        69.371687                       0.015493   \n",
       "50                      6239.291511                       0.059259   \n",
       "\n",
       "    T1_wavelet-LLL_ngtdm_Strength  T1_LungMets  \n",
       "46                       4.708499            0  \n",
       "47                       1.580504            0  \n",
       "48                       5.702695            0  \n",
       "49                       0.229804            1  \n",
       "50                      15.880346            0  \n",
       "\n",
       "[5 rows x 1039 columns]"
      ]
     },
     "execution_count": 8,
     "metadata": {},
     "output_type": "execute_result"
    }
   ],
   "source": [
    "T1.tail()"
   ]
  },
  {
   "cell_type": "markdown",
   "metadata": {},
   "source": [
    "* Seguiremos sem seleção de variáveis \n",
    "* Vamos aplicar normalização sobre estes dados"
   ]
  },
  {
   "cell_type": "code",
   "execution_count": 9,
   "metadata": {},
   "outputs": [],
   "source": [
    "X = T1.drop(labels=[\"case_PatientID\",\"T1_LungMets\"], axis=1)\n",
    "y = T1[\"T1_LungMets\"]"
   ]
  },
  {
   "cell_type": "code",
   "execution_count": 10,
   "metadata": {},
   "outputs": [
    {
     "data": {
      "text/html": [
       "<div>\n",
       "<style scoped>\n",
       "    .dataframe tbody tr th:only-of-type {\n",
       "        vertical-align: middle;\n",
       "    }\n",
       "\n",
       "    .dataframe tbody tr th {\n",
       "        vertical-align: top;\n",
       "    }\n",
       "\n",
       "    .dataframe thead th {\n",
       "        text-align: right;\n",
       "    }\n",
       "</style>\n",
       "<table border=\"1\" class=\"dataframe\">\n",
       "  <thead>\n",
       "    <tr style=\"text-align: right;\">\n",
       "      <th></th>\n",
       "      <th>T1_original_shape_Elongation</th>\n",
       "      <th>T1_original_shape_Flatness</th>\n",
       "      <th>T1_original_shape_LeastAxisLength</th>\n",
       "      <th>T1_original_shape_MajorAxisLength</th>\n",
       "      <th>T1_original_shape_Maximum2DDiameterColumn</th>\n",
       "      <th>T1_original_shape_Maximum2DDiameterRow</th>\n",
       "      <th>T1_original_shape_Maximum2DDiameterSlice</th>\n",
       "      <th>T1_original_shape_Maximum3DDiameter</th>\n",
       "      <th>T1_original_shape_MeshVolume</th>\n",
       "      <th>T1_original_shape_MinorAxisLength</th>\n",
       "      <th>...</th>\n",
       "      <th>T1_wavelet-LLL_gldm_LargeDependenceLowGrayLevelEmphasis</th>\n",
       "      <th>T1_wavelet-LLL_gldm_LowGrayLevelEmphasis</th>\n",
       "      <th>T1_wavelet-LLL_gldm_SmallDependenceEmphasis</th>\n",
       "      <th>T1_wavelet-LLL_gldm_SmallDependenceHighGrayLevelEmphasis</th>\n",
       "      <th>T1_wavelet-LLL_gldm_SmallDependenceLowGrayLevelEmphasis</th>\n",
       "      <th>T1_wavelet-LLL_ngtdm_Busyness</th>\n",
       "      <th>T1_wavelet-LLL_ngtdm_Coarseness</th>\n",
       "      <th>T1_wavelet-LLL_ngtdm_Complexity</th>\n",
       "      <th>T1_wavelet-LLL_ngtdm_Contrast</th>\n",
       "      <th>T1_wavelet-LLL_ngtdm_Strength</th>\n",
       "    </tr>\n",
       "  </thead>\n",
       "  <tbody>\n",
       "    <tr>\n",
       "      <th>0</th>\n",
       "      <td>0.767756</td>\n",
       "      <td>0.643837</td>\n",
       "      <td>65.059651</td>\n",
       "      <td>101.049858</td>\n",
       "      <td>116.730459</td>\n",
       "      <td>111.000000</td>\n",
       "      <td>93.962759</td>\n",
       "      <td>118.224363</td>\n",
       "      <td>363096.000</td>\n",
       "      <td>77.581612</td>\n",
       "      <td>...</td>\n",
       "      <td>0.382355</td>\n",
       "      <td>0.014371</td>\n",
       "      <td>0.111562</td>\n",
       "      <td>13.895895</td>\n",
       "      <td>0.002196</td>\n",
       "      <td>4.370039</td>\n",
       "      <td>0.000824</td>\n",
       "      <td>301.427279</td>\n",
       "      <td>0.046065</td>\n",
       "      <td>0.190421</td>\n",
       "    </tr>\n",
       "    <tr>\n",
       "      <th>1</th>\n",
       "      <td>0.895324</td>\n",
       "      <td>0.672732</td>\n",
       "      <td>33.881630</td>\n",
       "      <td>50.364231</td>\n",
       "      <td>58.249464</td>\n",
       "      <td>54.083269</td>\n",
       "      <td>58.249464</td>\n",
       "      <td>58.557664</td>\n",
       "      <td>52524.000</td>\n",
       "      <td>45.092317</td>\n",
       "      <td>...</td>\n",
       "      <td>0.184798</td>\n",
       "      <td>0.007644</td>\n",
       "      <td>0.283175</td>\n",
       "      <td>256.102692</td>\n",
       "      <td>0.002118</td>\n",
       "      <td>0.111926</td>\n",
       "      <td>0.008068</td>\n",
       "      <td>4598.211806</td>\n",
       "      <td>0.165676</td>\n",
       "      <td>15.788664</td>\n",
       "    </tr>\n",
       "    <tr>\n",
       "      <th>2</th>\n",
       "      <td>0.701973</td>\n",
       "      <td>0.685473</td>\n",
       "      <td>42.574564</td>\n",
       "      <td>62.109765</td>\n",
       "      <td>65.520989</td>\n",
       "      <td>72.622311</td>\n",
       "      <td>55.072679</td>\n",
       "      <td>76.249590</td>\n",
       "      <td>80582.625</td>\n",
       "      <td>43.599389</td>\n",
       "      <td>...</td>\n",
       "      <td>4.965713</td>\n",
       "      <td>0.038509</td>\n",
       "      <td>0.204710</td>\n",
       "      <td>93.914428</td>\n",
       "      <td>0.002267</td>\n",
       "      <td>0.556427</td>\n",
       "      <td>0.004609</td>\n",
       "      <td>1929.223121</td>\n",
       "      <td>0.103765</td>\n",
       "      <td>9.977033</td>\n",
       "    </tr>\n",
       "    <tr>\n",
       "      <th>3</th>\n",
       "      <td>0.545471</td>\n",
       "      <td>0.447141</td>\n",
       "      <td>53.787869</td>\n",
       "      <td>120.292849</td>\n",
       "      <td>158.858428</td>\n",
       "      <td>141.509717</td>\n",
       "      <td>77.129761</td>\n",
       "      <td>159.113167</td>\n",
       "      <td>296077.500</td>\n",
       "      <td>65.616245</td>\n",
       "      <td>...</td>\n",
       "      <td>2.316352</td>\n",
       "      <td>0.023288</td>\n",
       "      <td>0.123753</td>\n",
       "      <td>34.798096</td>\n",
       "      <td>0.001625</td>\n",
       "      <td>1.628723</td>\n",
       "      <td>0.001227</td>\n",
       "      <td>1201.436704</td>\n",
       "      <td>0.036651</td>\n",
       "      <td>2.595787</td>\n",
       "    </tr>\n",
       "    <tr>\n",
       "      <th>4</th>\n",
       "      <td>0.601763</td>\n",
       "      <td>0.490816</td>\n",
       "      <td>69.224991</td>\n",
       "      <td>141.040479</td>\n",
       "      <td>166.628329</td>\n",
       "      <td>162.996932</td>\n",
       "      <td>98.407317</td>\n",
       "      <td>169.307413</td>\n",
       "      <td>588868.875</td>\n",
       "      <td>84.873006</td>\n",
       "      <td>...</td>\n",
       "      <td>1.824064</td>\n",
       "      <td>0.018963</td>\n",
       "      <td>0.101468</td>\n",
       "      <td>35.585558</td>\n",
       "      <td>0.001280</td>\n",
       "      <td>1.759809</td>\n",
       "      <td>0.000670</td>\n",
       "      <td>2467.946316</td>\n",
       "      <td>0.017227</td>\n",
       "      <td>3.329724</td>\n",
       "    </tr>\n",
       "  </tbody>\n",
       "</table>\n",
       "<p>5 rows × 1037 columns</p>\n",
       "</div>"
      ],
      "text/plain": [
       "   T1_original_shape_Elongation  T1_original_shape_Flatness  \\\n",
       "0                      0.767756                    0.643837   \n",
       "1                      0.895324                    0.672732   \n",
       "2                      0.701973                    0.685473   \n",
       "3                      0.545471                    0.447141   \n",
       "4                      0.601763                    0.490816   \n",
       "\n",
       "   T1_original_shape_LeastAxisLength  T1_original_shape_MajorAxisLength  \\\n",
       "0                          65.059651                         101.049858   \n",
       "1                          33.881630                          50.364231   \n",
       "2                          42.574564                          62.109765   \n",
       "3                          53.787869                         120.292849   \n",
       "4                          69.224991                         141.040479   \n",
       "\n",
       "   T1_original_shape_Maximum2DDiameterColumn  \\\n",
       "0                                 116.730459   \n",
       "1                                  58.249464   \n",
       "2                                  65.520989   \n",
       "3                                 158.858428   \n",
       "4                                 166.628329   \n",
       "\n",
       "   T1_original_shape_Maximum2DDiameterRow  \\\n",
       "0                              111.000000   \n",
       "1                               54.083269   \n",
       "2                               72.622311   \n",
       "3                              141.509717   \n",
       "4                              162.996932   \n",
       "\n",
       "   T1_original_shape_Maximum2DDiameterSlice  \\\n",
       "0                                 93.962759   \n",
       "1                                 58.249464   \n",
       "2                                 55.072679   \n",
       "3                                 77.129761   \n",
       "4                                 98.407317   \n",
       "\n",
       "   T1_original_shape_Maximum3DDiameter  T1_original_shape_MeshVolume  \\\n",
       "0                           118.224363                    363096.000   \n",
       "1                            58.557664                     52524.000   \n",
       "2                            76.249590                     80582.625   \n",
       "3                           159.113167                    296077.500   \n",
       "4                           169.307413                    588868.875   \n",
       "\n",
       "   T1_original_shape_MinorAxisLength  ...  \\\n",
       "0                          77.581612  ...   \n",
       "1                          45.092317  ...   \n",
       "2                          43.599389  ...   \n",
       "3                          65.616245  ...   \n",
       "4                          84.873006  ...   \n",
       "\n",
       "   T1_wavelet-LLL_gldm_LargeDependenceLowGrayLevelEmphasis  \\\n",
       "0                                           0.382355         \n",
       "1                                           0.184798         \n",
       "2                                           4.965713         \n",
       "3                                           2.316352         \n",
       "4                                           1.824064         \n",
       "\n",
       "   T1_wavelet-LLL_gldm_LowGrayLevelEmphasis  \\\n",
       "0                                  0.014371   \n",
       "1                                  0.007644   \n",
       "2                                  0.038509   \n",
       "3                                  0.023288   \n",
       "4                                  0.018963   \n",
       "\n",
       "   T1_wavelet-LLL_gldm_SmallDependenceEmphasis  \\\n",
       "0                                     0.111562   \n",
       "1                                     0.283175   \n",
       "2                                     0.204710   \n",
       "3                                     0.123753   \n",
       "4                                     0.101468   \n",
       "\n",
       "   T1_wavelet-LLL_gldm_SmallDependenceHighGrayLevelEmphasis  \\\n",
       "0                                          13.895895          \n",
       "1                                         256.102692          \n",
       "2                                          93.914428          \n",
       "3                                          34.798096          \n",
       "4                                          35.585558          \n",
       "\n",
       "   T1_wavelet-LLL_gldm_SmallDependenceLowGrayLevelEmphasis  \\\n",
       "0                                           0.002196         \n",
       "1                                           0.002118         \n",
       "2                                           0.002267         \n",
       "3                                           0.001625         \n",
       "4                                           0.001280         \n",
       "\n",
       "   T1_wavelet-LLL_ngtdm_Busyness  T1_wavelet-LLL_ngtdm_Coarseness  \\\n",
       "0                       4.370039                         0.000824   \n",
       "1                       0.111926                         0.008068   \n",
       "2                       0.556427                         0.004609   \n",
       "3                       1.628723                         0.001227   \n",
       "4                       1.759809                         0.000670   \n",
       "\n",
       "   T1_wavelet-LLL_ngtdm_Complexity  T1_wavelet-LLL_ngtdm_Contrast  \\\n",
       "0                       301.427279                       0.046065   \n",
       "1                      4598.211806                       0.165676   \n",
       "2                      1929.223121                       0.103765   \n",
       "3                      1201.436704                       0.036651   \n",
       "4                      2467.946316                       0.017227   \n",
       "\n",
       "   T1_wavelet-LLL_ngtdm_Strength  \n",
       "0                       0.190421  \n",
       "1                      15.788664  \n",
       "2                       9.977033  \n",
       "3                       2.595787  \n",
       "4                       3.329724  \n",
       "\n",
       "[5 rows x 1037 columns]"
      ]
     },
     "execution_count": 10,
     "metadata": {},
     "output_type": "execute_result"
    }
   ],
   "source": [
    "X.head()"
   ]
  },
  {
   "cell_type": "code",
   "execution_count": 11,
   "metadata": {},
   "outputs": [],
   "source": [
    "from sklearn.preprocessing import StandardScaler\n",
    "\n",
    "# For neural networks, standardization (Z-score normalization) is often a good choice. \n",
    "# It helps the network converge faster and avoids large weight updates that can slow down training. \n",
    "\n",
    "# normalized_data = (data - mean) / std_dev\n",
    "\n",
    "scaler = StandardScaler()\n",
    "normalized_data = scaler.fit_transform(X)"
   ]
  },
  {
   "cell_type": "code",
   "execution_count": 12,
   "metadata": {},
   "outputs": [
    {
     "data": {
      "text/html": [
       "<div>\n",
       "<style scoped>\n",
       "    .dataframe tbody tr th:only-of-type {\n",
       "        vertical-align: middle;\n",
       "    }\n",
       "\n",
       "    .dataframe tbody tr th {\n",
       "        vertical-align: top;\n",
       "    }\n",
       "\n",
       "    .dataframe thead tr th {\n",
       "        text-align: left;\n",
       "    }\n",
       "</style>\n",
       "<table border=\"1\" class=\"dataframe\">\n",
       "  <thead>\n",
       "    <tr>\n",
       "      <th></th>\n",
       "      <th>T1_original_shape_Elongation</th>\n",
       "      <th>T1_original_shape_Flatness</th>\n",
       "      <th>T1_original_shape_LeastAxisLength</th>\n",
       "      <th>T1_original_shape_MajorAxisLength</th>\n",
       "      <th>T1_original_shape_Maximum2DDiameterColumn</th>\n",
       "      <th>T1_original_shape_Maximum2DDiameterRow</th>\n",
       "      <th>T1_original_shape_Maximum2DDiameterSlice</th>\n",
       "      <th>T1_original_shape_Maximum3DDiameter</th>\n",
       "      <th>T1_original_shape_MeshVolume</th>\n",
       "      <th>T1_original_shape_MinorAxisLength</th>\n",
       "      <th>...</th>\n",
       "      <th>T1_wavelet-LLL_gldm_LargeDependenceLowGrayLevelEmphasis</th>\n",
       "      <th>T1_wavelet-LLL_gldm_LowGrayLevelEmphasis</th>\n",
       "      <th>T1_wavelet-LLL_gldm_SmallDependenceEmphasis</th>\n",
       "      <th>T1_wavelet-LLL_gldm_SmallDependenceHighGrayLevelEmphasis</th>\n",
       "      <th>T1_wavelet-LLL_gldm_SmallDependenceLowGrayLevelEmphasis</th>\n",
       "      <th>T1_wavelet-LLL_ngtdm_Busyness</th>\n",
       "      <th>T1_wavelet-LLL_ngtdm_Coarseness</th>\n",
       "      <th>T1_wavelet-LLL_ngtdm_Complexity</th>\n",
       "      <th>T1_wavelet-LLL_ngtdm_Contrast</th>\n",
       "      <th>T1_wavelet-LLL_ngtdm_Strength</th>\n",
       "    </tr>\n",
       "  </thead>\n",
       "  <tbody>\n",
       "    <tr>\n",
       "      <th>Scale</th>\n",
       "      <td>0.132737</td>\n",
       "      <td>0.120009</td>\n",
       "      <td>18.770277</td>\n",
       "      <td>53.884990</td>\n",
       "      <td>51.610128</td>\n",
       "      <td>57.015498</td>\n",
       "      <td>45.242171</td>\n",
       "      <td>58.804739</td>\n",
       "      <td>4.938458e+05</td>\n",
       "      <td>27.977021</td>\n",
       "      <td>...</td>\n",
       "      <td>0.950064</td>\n",
       "      <td>0.007039</td>\n",
       "      <td>0.107465</td>\n",
       "      <td>279.576371</td>\n",
       "      <td>0.001061</td>\n",
       "      <td>0.942847</td>\n",
       "      <td>0.003281</td>\n",
       "      <td>5.253895e+03</td>\n",
       "      <td>0.076178</td>\n",
       "      <td>8.577805</td>\n",
       "    </tr>\n",
       "    <tr>\n",
       "      <th>Mean</th>\n",
       "      <td>0.674987</td>\n",
       "      <td>0.509784</td>\n",
       "      <td>57.076819</td>\n",
       "      <td>119.153290</td>\n",
       "      <td>126.413353</td>\n",
       "      <td>132.969691</td>\n",
       "      <td>97.638734</td>\n",
       "      <td>140.879599</td>\n",
       "      <td>4.733955e+05</td>\n",
       "      <td>76.904624</td>\n",
       "      <td>...</td>\n",
       "      <td>0.811774</td>\n",
       "      <td>0.009633</td>\n",
       "      <td>0.171459</td>\n",
       "      <td>172.797920</td>\n",
       "      <td>0.001261</td>\n",
       "      <td>0.948920</td>\n",
       "      <td>0.002600</td>\n",
       "      <td>4.541685e+03</td>\n",
       "      <td>0.068393</td>\n",
       "      <td>8.088661</td>\n",
       "    </tr>\n",
       "    <tr>\n",
       "      <th>Variance</th>\n",
       "      <td>0.017619</td>\n",
       "      <td>0.014402</td>\n",
       "      <td>352.323308</td>\n",
       "      <td>2903.592163</td>\n",
       "      <td>2663.605342</td>\n",
       "      <td>3250.767026</td>\n",
       "      <td>2046.854037</td>\n",
       "      <td>3457.997319</td>\n",
       "      <td>2.438837e+11</td>\n",
       "      <td>782.713704</td>\n",
       "      <td>...</td>\n",
       "      <td>0.902621</td>\n",
       "      <td>0.000050</td>\n",
       "      <td>0.011549</td>\n",
       "      <td>78162.947485</td>\n",
       "      <td>0.000001</td>\n",
       "      <td>0.888961</td>\n",
       "      <td>0.000011</td>\n",
       "      <td>2.760341e+07</td>\n",
       "      <td>0.005803</td>\n",
       "      <td>73.578735</td>\n",
       "    </tr>\n",
       "  </tbody>\n",
       "</table>\n",
       "<p>3 rows × 1037 columns</p>\n",
       "</div>"
      ],
      "text/plain": [
       "         T1_original_shape_Elongation T1_original_shape_Flatness  \\\n",
       "Scale                        0.132737                   0.120009   \n",
       "Mean                         0.674987                   0.509784   \n",
       "Variance                     0.017619                   0.014402   \n",
       "\n",
       "         T1_original_shape_LeastAxisLength T1_original_shape_MajorAxisLength  \\\n",
       "Scale                            18.770277                         53.884990   \n",
       "Mean                             57.076819                        119.153290   \n",
       "Variance                        352.323308                       2903.592163   \n",
       "\n",
       "         T1_original_shape_Maximum2DDiameterColumn  \\\n",
       "Scale                                    51.610128   \n",
       "Mean                                    126.413353   \n",
       "Variance                               2663.605342   \n",
       "\n",
       "         T1_original_shape_Maximum2DDiameterRow  \\\n",
       "Scale                                 57.015498   \n",
       "Mean                                 132.969691   \n",
       "Variance                            3250.767026   \n",
       "\n",
       "         T1_original_shape_Maximum2DDiameterSlice  \\\n",
       "Scale                                   45.242171   \n",
       "Mean                                    97.638734   \n",
       "Variance                              2046.854037   \n",
       "\n",
       "         T1_original_shape_Maximum3DDiameter T1_original_shape_MeshVolume  \\\n",
       "Scale                              58.804739                 4.938458e+05   \n",
       "Mean                              140.879599                 4.733955e+05   \n",
       "Variance                         3457.997319                 2.438837e+11   \n",
       "\n",
       "         T1_original_shape_MinorAxisLength  ...  \\\n",
       "Scale                            27.977021  ...   \n",
       "Mean                             76.904624  ...   \n",
       "Variance                        782.713704  ...   \n",
       "\n",
       "         T1_wavelet-LLL_gldm_LargeDependenceLowGrayLevelEmphasis  \\\n",
       "Scale                                              0.950064        \n",
       "Mean                                               0.811774        \n",
       "Variance                                           0.902621        \n",
       "\n",
       "         T1_wavelet-LLL_gldm_LowGrayLevelEmphasis  \\\n",
       "Scale                                    0.007039   \n",
       "Mean                                     0.009633   \n",
       "Variance                                 0.000050   \n",
       "\n",
       "         T1_wavelet-LLL_gldm_SmallDependenceEmphasis  \\\n",
       "Scale                                       0.107465   \n",
       "Mean                                        0.171459   \n",
       "Variance                                    0.011549   \n",
       "\n",
       "         T1_wavelet-LLL_gldm_SmallDependenceHighGrayLevelEmphasis  \\\n",
       "Scale                                            279.576371         \n",
       "Mean                                             172.797920         \n",
       "Variance                                       78162.947485         \n",
       "\n",
       "         T1_wavelet-LLL_gldm_SmallDependenceLowGrayLevelEmphasis  \\\n",
       "Scale                                              0.001061        \n",
       "Mean                                               0.001261        \n",
       "Variance                                           0.000001        \n",
       "\n",
       "         T1_wavelet-LLL_ngtdm_Busyness T1_wavelet-LLL_ngtdm_Coarseness  \\\n",
       "Scale                         0.942847                        0.003281   \n",
       "Mean                          0.948920                        0.002600   \n",
       "Variance                      0.888961                        0.000011   \n",
       "\n",
       "         T1_wavelet-LLL_ngtdm_Complexity T1_wavelet-LLL_ngtdm_Contrast  \\\n",
       "Scale                       5.253895e+03                      0.076178   \n",
       "Mean                        4.541685e+03                      0.068393   \n",
       "Variance                    2.760341e+07                      0.005803   \n",
       "\n",
       "         T1_wavelet-LLL_ngtdm_Strength  \n",
       "Scale                         8.577805  \n",
       "Mean                          8.088661  \n",
       "Variance                     73.578735  \n",
       "\n",
       "[3 rows x 1037 columns]"
      ]
     },
     "execution_count": 12,
     "metadata": {},
     "output_type": "execute_result"
    }
   ],
   "source": [
    "NORMALIZATION_PROPERTIES = pd.DataFrame(data=np.array([scaler.scale_, scaler.mean_, scaler.var_]), \n",
    "                                        index=[\"Scale\", \"Mean\", \"Variance\"], columns=[X.columns] )\n",
    "NORMALIZATION_PROPERTIES"
   ]
  },
  {
   "cell_type": "code",
   "execution_count": 13,
   "metadata": {},
   "outputs": [],
   "source": [
    "X_scaled = pd.DataFrame(normalized_data, columns=[X.columns])"
   ]
  },
  {
   "cell_type": "code",
   "execution_count": 14,
   "metadata": {},
   "outputs": [
    {
     "data": {
      "text/html": [
       "<div>\n",
       "<style scoped>\n",
       "    .dataframe tbody tr th:only-of-type {\n",
       "        vertical-align: middle;\n",
       "    }\n",
       "\n",
       "    .dataframe tbody tr th {\n",
       "        vertical-align: top;\n",
       "    }\n",
       "\n",
       "    .dataframe thead tr th {\n",
       "        text-align: left;\n",
       "    }\n",
       "</style>\n",
       "<table border=\"1\" class=\"dataframe\">\n",
       "  <thead>\n",
       "    <tr>\n",
       "      <th></th>\n",
       "      <th>T1_original_shape_Elongation</th>\n",
       "      <th>T1_original_shape_Flatness</th>\n",
       "      <th>T1_original_shape_LeastAxisLength</th>\n",
       "      <th>T1_original_shape_MajorAxisLength</th>\n",
       "      <th>T1_original_shape_Maximum2DDiameterColumn</th>\n",
       "      <th>T1_original_shape_Maximum2DDiameterRow</th>\n",
       "      <th>T1_original_shape_Maximum2DDiameterSlice</th>\n",
       "      <th>T1_original_shape_Maximum3DDiameter</th>\n",
       "      <th>T1_original_shape_MeshVolume</th>\n",
       "      <th>T1_original_shape_MinorAxisLength</th>\n",
       "      <th>...</th>\n",
       "      <th>T1_wavelet-LLL_gldm_LargeDependenceLowGrayLevelEmphasis</th>\n",
       "      <th>T1_wavelet-LLL_gldm_LowGrayLevelEmphasis</th>\n",
       "      <th>T1_wavelet-LLL_gldm_SmallDependenceEmphasis</th>\n",
       "      <th>T1_wavelet-LLL_gldm_SmallDependenceHighGrayLevelEmphasis</th>\n",
       "      <th>T1_wavelet-LLL_gldm_SmallDependenceLowGrayLevelEmphasis</th>\n",
       "      <th>T1_wavelet-LLL_ngtdm_Busyness</th>\n",
       "      <th>T1_wavelet-LLL_ngtdm_Coarseness</th>\n",
       "      <th>T1_wavelet-LLL_ngtdm_Complexity</th>\n",
       "      <th>T1_wavelet-LLL_ngtdm_Contrast</th>\n",
       "      <th>T1_wavelet-LLL_ngtdm_Strength</th>\n",
       "    </tr>\n",
       "  </thead>\n",
       "  <tbody>\n",
       "    <tr>\n",
       "      <th>0</th>\n",
       "      <td>0.698895</td>\n",
       "      <td>1.117031</td>\n",
       "      <td>0.425291</td>\n",
       "      <td>-0.335964</td>\n",
       "      <td>-0.187616</td>\n",
       "      <td>-0.385328</td>\n",
       "      <td>-0.081251</td>\n",
       "      <td>-0.385262</td>\n",
       "      <td>-0.223348</td>\n",
       "      <td>0.024198</td>\n",
       "      <td>...</td>\n",
       "      <td>-0.451989</td>\n",
       "      <td>0.673129</td>\n",
       "      <td>-0.557367</td>\n",
       "      <td>-0.568367</td>\n",
       "      <td>0.881024</td>\n",
       "      <td>3.628496</td>\n",
       "      <td>-0.541398</td>\n",
       "      <td>-0.807069</td>\n",
       "      <td>-0.293102</td>\n",
       "      <td>-0.920776</td>\n",
       "    </tr>\n",
       "    <tr>\n",
       "      <th>1</th>\n",
       "      <td>1.659956</td>\n",
       "      <td>1.357805</td>\n",
       "      <td>-1.235740</td>\n",
       "      <td>-1.276590</td>\n",
       "      <td>-1.320746</td>\n",
       "      <td>-1.383596</td>\n",
       "      <td>-0.870632</td>\n",
       "      <td>-1.399920</td>\n",
       "      <td>-0.852233</td>\n",
       "      <td>-1.137087</td>\n",
       "      <td>...</td>\n",
       "      <td>-0.659930</td>\n",
       "      <td>-0.282417</td>\n",
       "      <td>1.039551</td>\n",
       "      <td>0.297968</td>\n",
       "      <td>0.807887</td>\n",
       "      <td>-0.887730</td>\n",
       "      <td>1.666673</td>\n",
       "      <td>0.010759</td>\n",
       "      <td>1.277045</td>\n",
       "      <td>0.897666</td>\n",
       "    </tr>\n",
       "    <tr>\n",
       "      <th>2</th>\n",
       "      <td>0.203309</td>\n",
       "      <td>1.463971</td>\n",
       "      <td>-0.772618</td>\n",
       "      <td>-1.058616</td>\n",
       "      <td>-1.179853</td>\n",
       "      <td>-1.058438</td>\n",
       "      <td>-0.940849</td>\n",
       "      <td>-1.099061</td>\n",
       "      <td>-0.795416</td>\n",
       "      <td>-1.190450</td>\n",
       "      <td>...</td>\n",
       "      <td>4.372275</td>\n",
       "      <td>4.102163</td>\n",
       "      <td>0.309415</td>\n",
       "      <td>-0.282154</td>\n",
       "      <td>0.948337</td>\n",
       "      <td>-0.416285</td>\n",
       "      <td>0.612225</td>\n",
       "      <td>-0.497243</td>\n",
       "      <td>0.464340</td>\n",
       "      <td>0.220146</td>\n",
       "    </tr>\n",
       "    <tr>\n",
       "      <th>3</th>\n",
       "      <td>-0.975731</td>\n",
       "      <td>-0.521985</td>\n",
       "      <td>-0.175221</td>\n",
       "      <td>0.021148</td>\n",
       "      <td>0.628657</td>\n",
       "      <td>0.149784</td>\n",
       "      <td>-0.453315</td>\n",
       "      <td>0.310070</td>\n",
       "      <td>-0.359055</td>\n",
       "      <td>-0.403488</td>\n",
       "      <td>...</td>\n",
       "      <td>1.583660</td>\n",
       "      <td>1.939827</td>\n",
       "      <td>-0.443919</td>\n",
       "      <td>-0.493603</td>\n",
       "      <td>0.343856</td>\n",
       "      <td>0.721010</td>\n",
       "      <td>-0.418415</td>\n",
       "      <td>-0.635766</td>\n",
       "      <td>-0.416679</td>\n",
       "      <td>-0.640359</td>\n",
       "    </tr>\n",
       "    <tr>\n",
       "      <th>4</th>\n",
       "      <td>-0.551640</td>\n",
       "      <td>-0.158049</td>\n",
       "      <td>0.647203</td>\n",
       "      <td>0.406183</td>\n",
       "      <td>0.779207</td>\n",
       "      <td>0.526651</td>\n",
       "      <td>0.016988</td>\n",
       "      <td>0.483427</td>\n",
       "      <td>0.233825</td>\n",
       "      <td>0.284819</td>\n",
       "      <td>...</td>\n",
       "      <td>1.065498</td>\n",
       "      <td>1.325481</td>\n",
       "      <td>-0.651287</td>\n",
       "      <td>-0.490787</td>\n",
       "      <td>0.018238</td>\n",
       "      <td>0.860042</td>\n",
       "      <td>-0.588181</td>\n",
       "      <td>-0.394705</td>\n",
       "      <td>-0.671660</td>\n",
       "      <td>-0.554797</td>\n",
       "    </tr>\n",
       "  </tbody>\n",
       "</table>\n",
       "<p>5 rows × 1037 columns</p>\n",
       "</div>"
      ],
      "text/plain": [
       "  T1_original_shape_Elongation T1_original_shape_Flatness  \\\n",
       "0                     0.698895                   1.117031   \n",
       "1                     1.659956                   1.357805   \n",
       "2                     0.203309                   1.463971   \n",
       "3                    -0.975731                  -0.521985   \n",
       "4                    -0.551640                  -0.158049   \n",
       "\n",
       "  T1_original_shape_LeastAxisLength T1_original_shape_MajorAxisLength  \\\n",
       "0                          0.425291                         -0.335964   \n",
       "1                         -1.235740                         -1.276590   \n",
       "2                         -0.772618                         -1.058616   \n",
       "3                         -0.175221                          0.021148   \n",
       "4                          0.647203                          0.406183   \n",
       "\n",
       "  T1_original_shape_Maximum2DDiameterColumn  \\\n",
       "0                                 -0.187616   \n",
       "1                                 -1.320746   \n",
       "2                                 -1.179853   \n",
       "3                                  0.628657   \n",
       "4                                  0.779207   \n",
       "\n",
       "  T1_original_shape_Maximum2DDiameterRow  \\\n",
       "0                              -0.385328   \n",
       "1                              -1.383596   \n",
       "2                              -1.058438   \n",
       "3                               0.149784   \n",
       "4                               0.526651   \n",
       "\n",
       "  T1_original_shape_Maximum2DDiameterSlice  \\\n",
       "0                                -0.081251   \n",
       "1                                -0.870632   \n",
       "2                                -0.940849   \n",
       "3                                -0.453315   \n",
       "4                                 0.016988   \n",
       "\n",
       "  T1_original_shape_Maximum3DDiameter T1_original_shape_MeshVolume  \\\n",
       "0                           -0.385262                    -0.223348   \n",
       "1                           -1.399920                    -0.852233   \n",
       "2                           -1.099061                    -0.795416   \n",
       "3                            0.310070                    -0.359055   \n",
       "4                            0.483427                     0.233825   \n",
       "\n",
       "  T1_original_shape_MinorAxisLength  ...  \\\n",
       "0                          0.024198  ...   \n",
       "1                         -1.137087  ...   \n",
       "2                         -1.190450  ...   \n",
       "3                         -0.403488  ...   \n",
       "4                          0.284819  ...   \n",
       "\n",
       "  T1_wavelet-LLL_gldm_LargeDependenceLowGrayLevelEmphasis  \\\n",
       "0                                          -0.451989        \n",
       "1                                          -0.659930        \n",
       "2                                           4.372275        \n",
       "3                                           1.583660        \n",
       "4                                           1.065498        \n",
       "\n",
       "  T1_wavelet-LLL_gldm_LowGrayLevelEmphasis  \\\n",
       "0                                 0.673129   \n",
       "1                                -0.282417   \n",
       "2                                 4.102163   \n",
       "3                                 1.939827   \n",
       "4                                 1.325481   \n",
       "\n",
       "  T1_wavelet-LLL_gldm_SmallDependenceEmphasis  \\\n",
       "0                                   -0.557367   \n",
       "1                                    1.039551   \n",
       "2                                    0.309415   \n",
       "3                                   -0.443919   \n",
       "4                                   -0.651287   \n",
       "\n",
       "  T1_wavelet-LLL_gldm_SmallDependenceHighGrayLevelEmphasis  \\\n",
       "0                                          -0.568367         \n",
       "1                                           0.297968         \n",
       "2                                          -0.282154         \n",
       "3                                          -0.493603         \n",
       "4                                          -0.490787         \n",
       "\n",
       "  T1_wavelet-LLL_gldm_SmallDependenceLowGrayLevelEmphasis  \\\n",
       "0                                           0.881024        \n",
       "1                                           0.807887        \n",
       "2                                           0.948337        \n",
       "3                                           0.343856        \n",
       "4                                           0.018238        \n",
       "\n",
       "  T1_wavelet-LLL_ngtdm_Busyness T1_wavelet-LLL_ngtdm_Coarseness  \\\n",
       "0                      3.628496                       -0.541398   \n",
       "1                     -0.887730                        1.666673   \n",
       "2                     -0.416285                        0.612225   \n",
       "3                      0.721010                       -0.418415   \n",
       "4                      0.860042                       -0.588181   \n",
       "\n",
       "  T1_wavelet-LLL_ngtdm_Complexity T1_wavelet-LLL_ngtdm_Contrast  \\\n",
       "0                       -0.807069                     -0.293102   \n",
       "1                        0.010759                      1.277045   \n",
       "2                       -0.497243                      0.464340   \n",
       "3                       -0.635766                     -0.416679   \n",
       "4                       -0.394705                     -0.671660   \n",
       "\n",
       "  T1_wavelet-LLL_ngtdm_Strength  \n",
       "0                     -0.920776  \n",
       "1                      0.897666  \n",
       "2                      0.220146  \n",
       "3                     -0.640359  \n",
       "4                     -0.554797  \n",
       "\n",
       "[5 rows x 1037 columns]"
      ]
     },
     "execution_count": 14,
     "metadata": {},
     "output_type": "execute_result"
    }
   ],
   "source": [
    "X_scaled.head()"
   ]
  },
  {
   "cell_type": "code",
   "execution_count": 15,
   "metadata": {},
   "outputs": [],
   "source": [
    "y = pd.DataFrame(data=y,columns=[\"T1_LungMets\"])"
   ]
  },
  {
   "cell_type": "code",
   "execution_count": 16,
   "metadata": {},
   "outputs": [
    {
     "data": {
      "text/html": [
       "<div>\n",
       "<style scoped>\n",
       "    .dataframe tbody tr th:only-of-type {\n",
       "        vertical-align: middle;\n",
       "    }\n",
       "\n",
       "    .dataframe tbody tr th {\n",
       "        vertical-align: top;\n",
       "    }\n",
       "\n",
       "    .dataframe thead th {\n",
       "        text-align: right;\n",
       "    }\n",
       "</style>\n",
       "<table border=\"1\" class=\"dataframe\">\n",
       "  <thead>\n",
       "    <tr style=\"text-align: right;\">\n",
       "      <th></th>\n",
       "      <th>T1_LungMets</th>\n",
       "    </tr>\n",
       "  </thead>\n",
       "  <tbody>\n",
       "    <tr>\n",
       "      <th>0</th>\n",
       "      <td>0</td>\n",
       "    </tr>\n",
       "    <tr>\n",
       "      <th>1</th>\n",
       "      <td>0</td>\n",
       "    </tr>\n",
       "    <tr>\n",
       "      <th>2</th>\n",
       "      <td>0</td>\n",
       "    </tr>\n",
       "    <tr>\n",
       "      <th>3</th>\n",
       "      <td>0</td>\n",
       "    </tr>\n",
       "    <tr>\n",
       "      <th>4</th>\n",
       "      <td>0</td>\n",
       "    </tr>\n",
       "    <tr>\n",
       "      <th>5</th>\n",
       "      <td>1</td>\n",
       "    </tr>\n",
       "  </tbody>\n",
       "</table>\n",
       "</div>"
      ],
      "text/plain": [
       "   T1_LungMets\n",
       "0            0\n",
       "1            0\n",
       "2            0\n",
       "3            0\n",
       "4            0\n",
       "5            1"
      ]
     },
     "execution_count": 16,
     "metadata": {},
     "output_type": "execute_result"
    }
   ],
   "source": [
    "y.head(n=6)"
   ]
  },
  {
   "cell_type": "code",
   "execution_count": 17,
   "metadata": {},
   "outputs": [
    {
     "data": {
      "text/plain": [
       "T1_LungMets\n",
       "0              32\n",
       "1              19\n",
       "dtype: int64"
      ]
     },
     "execution_count": 17,
     "metadata": {},
     "output_type": "execute_result"
    }
   ],
   "source": [
    "y.value_counts() "
   ]
  },
  {
   "cell_type": "code",
   "execution_count": 18,
   "metadata": {},
   "outputs": [
    {
     "name": "stdout",
     "output_type": "stream",
     "text": [
      "% que não desenvolveu metástase: 62.745098039215684 \n",
      "% que desenvolveu metástase: 37.254901960784316\n"
     ]
    }
   ],
   "source": [
    "a, b = y.value_counts().values / y.count().values[0] * 100\n",
    "print(\"% que não desenvolveu metástase:\", a, \n",
    "      \"\\n% que desenvolveu metástase:\", b\n",
    ")"
   ]
  },
  {
   "cell_type": "code",
   "execution_count": 19,
   "metadata": {},
   "outputs": [
    {
     "data": {
      "image/png": "[encoded data removed]",
      "text/plain": [
       "<Figure size 640x480 with 1 Axes>"
      ]
     },
     "metadata": {},
     "output_type": "display_data"
    }
   ],
   "source": [
    "import matplotlib.pyplot as plt\n",
    "\n",
    "plt.bar([0,1], y.value_counts().values, color=['blue', 'orange'])\n",
    "\n",
    "# Adding labels and title\n",
    "# plt.xlabel('Target Value')\n",
    "plt.ylabel('Total de pacientes')\n",
    "plt.title('Distribuição dos pacientes que desenvolveram ou não metástase')\n",
    "\n",
    "# Adding tick labels\n",
    "plt.xticks(ticks=[0,1], labels=['Não desenvolveram \\n metástase', \n",
    "                                'Desenvolveram metástase'])\n",
    ", \n",
    "# Display the plot\n",
    "plt.show()"
   ]
  },
  {
   "cell_type": "markdown",
   "metadata": {},
   "source": [
    "* Sabemos que as classes estão suficientemente balanceadas (60 - 40)"
   ]
  },
  {
   "cell_type": "code",
   "execution_count": 20,
   "metadata": {},
   "outputs": [
    {
     "data": {
      "text/html": [
       "<div>\n",
       "<style scoped>\n",
       "    .dataframe tbody tr th:only-of-type {\n",
       "        vertical-align: middle;\n",
       "    }\n",
       "\n",
       "    .dataframe tbody tr th {\n",
       "        vertical-align: top;\n",
       "    }\n",
       "\n",
       "    .dataframe thead tr th {\n",
       "        text-align: left;\n",
       "    }\n",
       "</style>\n",
       "<table border=\"1\" class=\"dataframe\">\n",
       "  <thead>\n",
       "    <tr>\n",
       "      <th></th>\n",
       "      <th>T1_original_shape_Elongation</th>\n",
       "      <th>T1_original_shape_Flatness</th>\n",
       "      <th>T1_original_shape_LeastAxisLength</th>\n",
       "      <th>T1_original_shape_MajorAxisLength</th>\n",
       "      <th>T1_original_shape_Maximum2DDiameterColumn</th>\n",
       "      <th>T1_original_shape_Maximum2DDiameterRow</th>\n",
       "      <th>T1_original_shape_Maximum2DDiameterSlice</th>\n",
       "      <th>T1_original_shape_Maximum3DDiameter</th>\n",
       "      <th>T1_original_shape_MeshVolume</th>\n",
       "      <th>T1_original_shape_MinorAxisLength</th>\n",
       "      <th>...</th>\n",
       "      <th>T1_wavelet-LLL_gldm_LargeDependenceLowGrayLevelEmphasis</th>\n",
       "      <th>T1_wavelet-LLL_gldm_LowGrayLevelEmphasis</th>\n",
       "      <th>T1_wavelet-LLL_gldm_SmallDependenceEmphasis</th>\n",
       "      <th>T1_wavelet-LLL_gldm_SmallDependenceHighGrayLevelEmphasis</th>\n",
       "      <th>T1_wavelet-LLL_gldm_SmallDependenceLowGrayLevelEmphasis</th>\n",
       "      <th>T1_wavelet-LLL_ngtdm_Busyness</th>\n",
       "      <th>T1_wavelet-LLL_ngtdm_Coarseness</th>\n",
       "      <th>T1_wavelet-LLL_ngtdm_Complexity</th>\n",
       "      <th>T1_wavelet-LLL_ngtdm_Contrast</th>\n",
       "      <th>T1_wavelet-LLL_ngtdm_Strength</th>\n",
       "    </tr>\n",
       "  </thead>\n",
       "  <tbody>\n",
       "    <tr>\n",
       "      <th>0</th>\n",
       "      <td>0.698895</td>\n",
       "      <td>1.117031</td>\n",
       "      <td>0.425291</td>\n",
       "      <td>-0.335964</td>\n",
       "      <td>-0.187616</td>\n",
       "      <td>-0.385328</td>\n",
       "      <td>-0.081251</td>\n",
       "      <td>-0.385262</td>\n",
       "      <td>-0.223348</td>\n",
       "      <td>0.024198</td>\n",
       "      <td>...</td>\n",
       "      <td>-0.451989</td>\n",
       "      <td>0.673129</td>\n",
       "      <td>-0.557367</td>\n",
       "      <td>-0.568367</td>\n",
       "      <td>0.881024</td>\n",
       "      <td>3.628496</td>\n",
       "      <td>-0.541398</td>\n",
       "      <td>-0.807069</td>\n",
       "      <td>-0.293102</td>\n",
       "      <td>-0.920776</td>\n",
       "    </tr>\n",
       "    <tr>\n",
       "      <th>1</th>\n",
       "      <td>1.659956</td>\n",
       "      <td>1.357805</td>\n",
       "      <td>-1.235740</td>\n",
       "      <td>-1.276590</td>\n",
       "      <td>-1.320746</td>\n",
       "      <td>-1.383596</td>\n",
       "      <td>-0.870632</td>\n",
       "      <td>-1.399920</td>\n",
       "      <td>-0.852233</td>\n",
       "      <td>-1.137087</td>\n",
       "      <td>...</td>\n",
       "      <td>-0.659930</td>\n",
       "      <td>-0.282417</td>\n",
       "      <td>1.039551</td>\n",
       "      <td>0.297968</td>\n",
       "      <td>0.807887</td>\n",
       "      <td>-0.887730</td>\n",
       "      <td>1.666673</td>\n",
       "      <td>0.010759</td>\n",
       "      <td>1.277045</td>\n",
       "      <td>0.897666</td>\n",
       "    </tr>\n",
       "    <tr>\n",
       "      <th>2</th>\n",
       "      <td>0.203309</td>\n",
       "      <td>1.463971</td>\n",
       "      <td>-0.772618</td>\n",
       "      <td>-1.058616</td>\n",
       "      <td>-1.179853</td>\n",
       "      <td>-1.058438</td>\n",
       "      <td>-0.940849</td>\n",
       "      <td>-1.099061</td>\n",
       "      <td>-0.795416</td>\n",
       "      <td>-1.190450</td>\n",
       "      <td>...</td>\n",
       "      <td>4.372275</td>\n",
       "      <td>4.102163</td>\n",
       "      <td>0.309415</td>\n",
       "      <td>-0.282154</td>\n",
       "      <td>0.948337</td>\n",
       "      <td>-0.416285</td>\n",
       "      <td>0.612225</td>\n",
       "      <td>-0.497243</td>\n",
       "      <td>0.464340</td>\n",
       "      <td>0.220146</td>\n",
       "    </tr>\n",
       "    <tr>\n",
       "      <th>3</th>\n",
       "      <td>-0.975731</td>\n",
       "      <td>-0.521985</td>\n",
       "      <td>-0.175221</td>\n",
       "      <td>0.021148</td>\n",
       "      <td>0.628657</td>\n",
       "      <td>0.149784</td>\n",
       "      <td>-0.453315</td>\n",
       "      <td>0.310070</td>\n",
       "      <td>-0.359055</td>\n",
       "      <td>-0.403488</td>\n",
       "      <td>...</td>\n",
       "      <td>1.583660</td>\n",
       "      <td>1.939827</td>\n",
       "      <td>-0.443919</td>\n",
       "      <td>-0.493603</td>\n",
       "      <td>0.343856</td>\n",
       "      <td>0.721010</td>\n",
       "      <td>-0.418415</td>\n",
       "      <td>-0.635766</td>\n",
       "      <td>-0.416679</td>\n",
       "      <td>-0.640359</td>\n",
       "    </tr>\n",
       "    <tr>\n",
       "      <th>4</th>\n",
       "      <td>-0.551640</td>\n",
       "      <td>-0.158049</td>\n",
       "      <td>0.647203</td>\n",
       "      <td>0.406183</td>\n",
       "      <td>0.779207</td>\n",
       "      <td>0.526651</td>\n",
       "      <td>0.016988</td>\n",
       "      <td>0.483427</td>\n",
       "      <td>0.233825</td>\n",
       "      <td>0.284819</td>\n",
       "      <td>...</td>\n",
       "      <td>1.065498</td>\n",
       "      <td>1.325481</td>\n",
       "      <td>-0.651287</td>\n",
       "      <td>-0.490787</td>\n",
       "      <td>0.018238</td>\n",
       "      <td>0.860042</td>\n",
       "      <td>-0.588181</td>\n",
       "      <td>-0.394705</td>\n",
       "      <td>-0.671660</td>\n",
       "      <td>-0.554797</td>\n",
       "    </tr>\n",
       "  </tbody>\n",
       "</table>\n",
       "<p>5 rows × 1037 columns</p>\n",
       "</div>"
      ],
      "text/plain": [
       "  T1_original_shape_Elongation T1_original_shape_Flatness  \\\n",
       "0                     0.698895                   1.117031   \n",
       "1                     1.659956                   1.357805   \n",
       "2                     0.203309                   1.463971   \n",
       "3                    -0.975731                  -0.521985   \n",
       "4                    -0.551640                  -0.158049   \n",
       "\n",
       "  T1_original_shape_LeastAxisLength T1_original_shape_MajorAxisLength  \\\n",
       "0                          0.425291                         -0.335964   \n",
       "1                         -1.235740                         -1.276590   \n",
       "2                         -0.772618                         -1.058616   \n",
       "3                         -0.175221                          0.021148   \n",
       "4                          0.647203                          0.406183   \n",
       "\n",
       "  T1_original_shape_Maximum2DDiameterColumn  \\\n",
       "0                                 -0.187616   \n",
       "1                                 -1.320746   \n",
       "2                                 -1.179853   \n",
       "3                                  0.628657   \n",
       "4                                  0.779207   \n",
       "\n",
       "  T1_original_shape_Maximum2DDiameterRow  \\\n",
       "0                              -0.385328   \n",
       "1                              -1.383596   \n",
       "2                              -1.058438   \n",
       "3                               0.149784   \n",
       "4                               0.526651   \n",
       "\n",
       "  T1_original_shape_Maximum2DDiameterSlice  \\\n",
       "0                                -0.081251   \n",
       "1                                -0.870632   \n",
       "2                                -0.940849   \n",
       "3                                -0.453315   \n",
       "4                                 0.016988   \n",
       "\n",
       "  T1_original_shape_Maximum3DDiameter T1_original_shape_MeshVolume  \\\n",
       "0                           -0.385262                    -0.223348   \n",
       "1                           -1.399920                    -0.852233   \n",
       "2                           -1.099061                    -0.795416   \n",
       "3                            0.310070                    -0.359055   \n",
       "4                            0.483427                     0.233825   \n",
       "\n",
       "  T1_original_shape_MinorAxisLength  ...  \\\n",
       "0                          0.024198  ...   \n",
       "1                         -1.137087  ...   \n",
       "2                         -1.190450  ...   \n",
       "3                         -0.403488  ...   \n",
       "4                          0.284819  ...   \n",
       "\n",
       "  T1_wavelet-LLL_gldm_LargeDependenceLowGrayLevelEmphasis  \\\n",
       "0                                          -0.451989        \n",
       "1                                          -0.659930        \n",
       "2                                           4.372275        \n",
       "3                                           1.583660        \n",
       "4                                           1.065498        \n",
       "\n",
       "  T1_wavelet-LLL_gldm_LowGrayLevelEmphasis  \\\n",
       "0                                 0.673129   \n",
       "1                                -0.282417   \n",
       "2                                 4.102163   \n",
       "3                                 1.939827   \n",
       "4                                 1.325481   \n",
       "\n",
       "  T1_wavelet-LLL_gldm_SmallDependenceEmphasis  \\\n",
       "0                                   -0.557367   \n",
       "1                                    1.039551   \n",
       "2                                    0.309415   \n",
       "3                                   -0.443919   \n",
       "4                                   -0.651287   \n",
       "\n",
       "  T1_wavelet-LLL_gldm_SmallDependenceHighGrayLevelEmphasis  \\\n",
       "0                                          -0.568367         \n",
       "1                                           0.297968         \n",
       "2                                          -0.282154         \n",
       "3                                          -0.493603         \n",
       "4                                          -0.490787         \n",
       "\n",
       "  T1_wavelet-LLL_gldm_SmallDependenceLowGrayLevelEmphasis  \\\n",
       "0                                           0.881024        \n",
       "1                                           0.807887        \n",
       "2                                           0.948337        \n",
       "3                                           0.343856        \n",
       "4                                           0.018238        \n",
       "\n",
       "  T1_wavelet-LLL_ngtdm_Busyness T1_wavelet-LLL_ngtdm_Coarseness  \\\n",
       "0                      3.628496                       -0.541398   \n",
       "1                     -0.887730                        1.666673   \n",
       "2                     -0.416285                        0.612225   \n",
       "3                      0.721010                       -0.418415   \n",
       "4                      0.860042                       -0.588181   \n",
       "\n",
       "  T1_wavelet-LLL_ngtdm_Complexity T1_wavelet-LLL_ngtdm_Contrast  \\\n",
       "0                       -0.807069                     -0.293102   \n",
       "1                        0.010759                      1.277045   \n",
       "2                       -0.497243                      0.464340   \n",
       "3                       -0.635766                     -0.416679   \n",
       "4                       -0.394705                     -0.671660   \n",
       "\n",
       "  T1_wavelet-LLL_ngtdm_Strength  \n",
       "0                     -0.920776  \n",
       "1                      0.897666  \n",
       "2                      0.220146  \n",
       "3                     -0.640359  \n",
       "4                     -0.554797  \n",
       "\n",
       "[5 rows x 1037 columns]"
      ]
     },
     "execution_count": 20,
     "metadata": {},
     "output_type": "execute_result"
    }
   ],
   "source": [
    "X_scaled.head()"
   ]
  },
  {
   "cell_type": "code",
   "execution_count": 21,
   "metadata": {},
   "outputs": [
    {
     "data": {
      "text/html": [
       "<div>\n",
       "<style scoped>\n",
       "    .dataframe tbody tr th:only-of-type {\n",
       "        vertical-align: middle;\n",
       "    }\n",
       "\n",
       "    .dataframe tbody tr th {\n",
       "        vertical-align: top;\n",
       "    }\n",
       "\n",
       "    .dataframe thead th {\n",
       "        text-align: right;\n",
       "    }\n",
       "</style>\n",
       "<table border=\"1\" class=\"dataframe\">\n",
       "  <thead>\n",
       "    <tr style=\"text-align: right;\">\n",
       "      <th></th>\n",
       "      <th>T1_LungMets</th>\n",
       "    </tr>\n",
       "  </thead>\n",
       "  <tbody>\n",
       "    <tr>\n",
       "      <th>0</th>\n",
       "      <td>0</td>\n",
       "    </tr>\n",
       "    <tr>\n",
       "      <th>1</th>\n",
       "      <td>0</td>\n",
       "    </tr>\n",
       "    <tr>\n",
       "      <th>2</th>\n",
       "      <td>0</td>\n",
       "    </tr>\n",
       "    <tr>\n",
       "      <th>3</th>\n",
       "      <td>0</td>\n",
       "    </tr>\n",
       "    <tr>\n",
       "      <th>4</th>\n",
       "      <td>0</td>\n",
       "    </tr>\n",
       "  </tbody>\n",
       "</table>\n",
       "</div>"
      ],
      "text/plain": [
       "   T1_LungMets\n",
       "0            0\n",
       "1            0\n",
       "2            0\n",
       "3            0\n",
       "4            0"
      ]
     },
     "execution_count": 21,
     "metadata": {},
     "output_type": "execute_result"
    }
   ],
   "source": [
    "y.head()"
   ]
  },
  {
   "cell_type": "markdown",
   "metadata": {},
   "source": [
    "## Feature Selection and preparing final data for training and prediction"
   ]
  },
  {
   "cell_type": "code",
   "execution_count": 22,
   "metadata": {},
   "outputs": [
    {
     "name": "stderr",
     "output_type": "stream",
     "text": [
      "/usr/local/lib/python3.8/dist-packages/sklearn/utils/validation.py:1688: FutureWarning: Feature names only support names that are all strings. Got feature names with dtypes: ['tuple']. An error will be raised in 1.2.\n",
      "  warnings.warn(\n",
      "/usr/local/lib/python3.8/dist-packages/sklearn/utils/validation.py:993: DataConversionWarning: A column-vector y was passed when a 1d array was expected. Please change the shape of y to (n_samples, ), for example using ravel().\n",
      "  y = column_or_1d(y, warn=True)\n",
      "/usr/local/lib/python3.8/dist-packages/sklearn/utils/validation.py:1688: FutureWarning: Feature names only support names that are all strings. Got feature names with dtypes: ['tuple']. An error will be raised in 1.2.\n",
      "  warnings.warn(\n"
     ]
    },
    {
     "data": {
      "text/plain": [
       "(51, 150)"
      ]
     },
     "execution_count": 22,
     "metadata": {},
     "output_type": "execute_result"
    }
   ],
   "source": [
    "from sklearn.feature_selection import SelectKBest\n",
    "from sklearn.feature_selection import f_classif\n",
    "\n",
    "N_FEATURES = 150\n",
    "\n",
    "X = SelectKBest(f_classif, k=N_FEATURES).fit_transform(X_scaled, y)\n",
    "X.shape"
   ]
  },
  {
   "cell_type": "markdown",
   "metadata": {},
   "source": [
    "## Searching for best hyperparameters for the Multi-Layer Perceptron (MLP) Neural Network"
   ]
  },
  {
   "cell_type": "code",
   "execution_count": 23,
   "metadata": {},
   "outputs": [],
   "source": [
    "from matplotlib import rcParams\n",
    "from sklearn.model_selection import LeaveOneOut, KFold\n",
    "from tensorflow.keras.models import Sequential\n",
    "from tensorflow.keras.layers import Dense, Dropout\n",
    "from sklearn.metrics import (\n",
    "                            accuracy_score, \n",
    "                            precision_score, \n",
    "                            recall_score,\n",
    "                            f1_score, \n",
    "                            roc_curve, \n",
    "                            auc, \n",
    "                            confusion_matrix, \n",
    "                            ConfusionMatrixDisplay\n",
    "                            )\n"
   ]
  },
  {
   "cell_type": "code",
   "execution_count": 100,
   "metadata": {},
   "outputs": [
    {
     "name": "stderr",
     "output_type": "stream",
     "text": [
      "/tmp/ipykernel_27/418617381.py:32: DeprecationWarning: KerasClassifier is deprecated, use Sci-Keras (https://github.com/adriangb/scikeras) instead. See https://www.adriangb.com/scikeras/stable/migration.html for help migrating.\n",
      "  model = KerasClassifier(build_fn=create_model, input_dim=N_FEATURES, verbose=0)\n"
     ]
    },
    {
     "name": "stdout",
     "output_type": "stream",
     "text": [
      "Fitting 3 folds for each of 100 candidates, totalling 300 fits\n",
      "1/1 [==============================] - 0s 36ms/step\n",
      "[CV] END batch_size=8, dropout_rate=0.6, epochs=100, hidden_units=64, learning_rate=0.01; total time=   2.6s\n",
      "1/1 [==============================] - 0s 49ms/step\n",
      "[CV] END batch_size=8, dropout_rate=0.6, epochs=100, hidden_units=64, learning_rate=0.01; total time=   3.4s\n",
      "1/1 [==============================] - 0s 44ms/step\n",
      "[CV] END batch_size=8, dropout_rate=0.6, epochs=100, hidden_units=64, learning_rate=0.01; total time=   2.7s\n",
      "1/1 [==============================] - 0s 44ms/step\n",
      "[CV] END batch_size=16, dropout_rate=0.6, epochs=100, hidden_units=128, learning_rate=0.1; total time=   2.3s\n",
      "1/1 [==============================] - 0s 41ms/step\n",
      "[CV] END batch_size=16, dropout_rate=0.6, epochs=100, hidden_units=128, learning_rate=0.1; total time=   2.3s\n"
     ]
    },
    {
     "name": "stderr",
     "output_type": "stream",
     "text": [
      "/usr/local/lib/python3.8/dist-packages/sklearn/metrics/_classification.py:1318: UndefinedMetricWarning: Precision is ill-defined and being set to 0.0 due to no predicted samples. Use `zero_division` parameter to control this behavior.\n",
      "  _warn_prf(average, modifier, msg_start, len(result))\n"
     ]
    },
    {
     "name": "stdout",
     "output_type": "stream",
     "text": [
      "1/1 [==============================] - 0s 40ms/step\n",
      "[CV] END batch_size=16, dropout_rate=0.6, epochs=100, hidden_units=128, learning_rate=0.1; total time=   2.3s\n"
     ]
    },
    {
     "name": "stderr",
     "output_type": "stream",
     "text": [
      "/usr/local/lib/python3.8/dist-packages/sklearn/metrics/_classification.py:1318: UndefinedMetricWarning: Precision is ill-defined and being set to 0.0 due to no predicted samples. Use `zero_division` parameter to control this behavior.\n",
      "  _warn_prf(average, modifier, msg_start, len(result))\n"
     ]
    },
    {
     "name": "stdout",
     "output_type": "stream",
     "text": [
      "1/1 [==============================] - 0s 42ms/step\n",
      "[CV] END batch_size=4, dropout_rate=0.6, epochs=100, hidden_units=512, learning_rate=0.005; total time=   3.4s\n",
      "1/1 [==============================] - 0s 41ms/step\n",
      "[CV] END batch_size=4, dropout_rate=0.6, epochs=100, hidden_units=512, learning_rate=0.005; total time=   3.3s\n",
      "1/1 [==============================] - 0s 41ms/step\n",
      "[CV] END batch_size=4, dropout_rate=0.6, epochs=100, hidden_units=512, learning_rate=0.005; total time=   3.3s\n",
      "1/1 [==============================] - 0s 38ms/step\n",
      "[CV] END batch_size=2, dropout_rate=0.6, epochs=100, hidden_units=512, learning_rate=0.01; total time=   4.4s\n"
     ]
    },
    {
     "name": "stderr",
     "output_type": "stream",
     "text": [
      "/usr/local/lib/python3.8/dist-packages/sklearn/metrics/_classification.py:1318: UndefinedMetricWarning: Precision is ill-defined and being set to 0.0 due to no predicted samples. Use `zero_division` parameter to control this behavior.\n",
      "  _warn_prf(average, modifier, msg_start, len(result))\n"
     ]
    },
    {
     "name": "stdout",
     "output_type": "stream",
     "text": [
      "1/1 [==============================] - 0s 40ms/step\n",
      "[CV] END batch_size=2, dropout_rate=0.6, epochs=100, hidden_units=512, learning_rate=0.01; total time=   4.5s\n",
      "1/1 [==============================] - 0s 37ms/step\n",
      "[CV] END batch_size=2, dropout_rate=0.6, epochs=100, hidden_units=512, learning_rate=0.01; total time=   4.5s\n"
     ]
    },
    {
     "name": "stderr",
     "output_type": "stream",
     "text": [
      "/usr/local/lib/python3.8/dist-packages/sklearn/metrics/_classification.py:1318: UndefinedMetricWarning: Precision is ill-defined and being set to 0.0 due to no predicted samples. Use `zero_division` parameter to control this behavior.\n",
      "  _warn_prf(average, modifier, msg_start, len(result))\n"
     ]
    },
    {
     "name": "stdout",
     "output_type": "stream",
     "text": [
      "1/1 [==============================] - 0s 38ms/step\n",
      "[CV] END batch_size=4, dropout_rate=0.4, epochs=100, hidden_units=128, learning_rate=0.05; total time=   3.6s\n"
     ]
    },
    {
     "name": "stderr",
     "output_type": "stream",
     "text": [
      "/usr/local/lib/python3.8/dist-packages/sklearn/metrics/_classification.py:1318: UndefinedMetricWarning: Precision is ill-defined and being set to 0.0 due to no predicted samples. Use `zero_division` parameter to control this behavior.\n",
      "  _warn_prf(average, modifier, msg_start, len(result))\n"
     ]
    },
    {
     "name": "stdout",
     "output_type": "stream",
     "text": [
      "1/1 [==============================] - 0s 38ms/step\n",
      "[CV] END batch_size=4, dropout_rate=0.4, epochs=100, hidden_units=128, learning_rate=0.05; total time=   3.5s\n"
     ]
    },
    {
     "name": "stderr",
     "output_type": "stream",
     "text": [
      "/usr/local/lib/python3.8/dist-packages/sklearn/metrics/_classification.py:1318: UndefinedMetricWarning: Precision is ill-defined and being set to 0.0 due to no predicted samples. Use `zero_division` parameter to control this behavior.\n",
      "  _warn_prf(average, modifier, msg_start, len(result))\n"
     ]
    },
    {
     "name": "stdout",
     "output_type": "stream",
     "text": [
      "1/1 [==============================] - 0s 38ms/step\n",
      "[CV] END batch_size=4, dropout_rate=0.4, epochs=100, hidden_units=128, learning_rate=0.05; total time=   3.3s\n"
     ]
    },
    {
     "name": "stderr",
     "output_type": "stream",
     "text": [
      "/usr/local/lib/python3.8/dist-packages/sklearn/metrics/_classification.py:1318: UndefinedMetricWarning: Precision is ill-defined and being set to 0.0 due to no predicted samples. Use `zero_division` parameter to control this behavior.\n",
      "  _warn_prf(average, modifier, msg_start, len(result))\n"
     ]
    },
    {
     "name": "stdout",
     "output_type": "stream",
     "text": [
      "1/1 [==============================] - 0s 40ms/step\n",
      "[CV] END batch_size=1, dropout_rate=0.4, epochs=100, hidden_units=256, learning_rate=0.1; total time=   6.9s\n"
     ]
    },
    {
     "name": "stderr",
     "output_type": "stream",
     "text": [
      "/usr/local/lib/python3.8/dist-packages/sklearn/metrics/_classification.py:1318: UndefinedMetricWarning: Precision is ill-defined and being set to 0.0 due to no predicted samples. Use `zero_division` parameter to control this behavior.\n",
      "  _warn_prf(average, modifier, msg_start, len(result))\n"
     ]
    },
    {
     "name": "stdout",
     "output_type": "stream",
     "text": [
      "1/1 [==============================] - 0s 40ms/step\n",
      "[CV] END batch_size=1, dropout_rate=0.4, epochs=100, hidden_units=256, learning_rate=0.1; total time=   7.4s\n"
     ]
    },
    {
     "name": "stderr",
     "output_type": "stream",
     "text": [
      "/usr/local/lib/python3.8/dist-packages/sklearn/metrics/_classification.py:1318: UndefinedMetricWarning: Precision is ill-defined and being set to 0.0 due to no predicted samples. Use `zero_division` parameter to control this behavior.\n",
      "  _warn_prf(average, modifier, msg_start, len(result))\n"
     ]
    },
    {
     "name": "stdout",
     "output_type": "stream",
     "text": [
      "1/1 [==============================] - 0s 38ms/step\n",
      "[CV] END batch_size=1, dropout_rate=0.4, epochs=100, hidden_units=256, learning_rate=0.1; total time=   7.0s\n"
     ]
    },
    {
     "name": "stderr",
     "output_type": "stream",
     "text": [
      "/usr/local/lib/python3.8/dist-packages/sklearn/metrics/_classification.py:1318: UndefinedMetricWarning: Precision is ill-defined and being set to 0.0 due to no predicted samples. Use `zero_division` parameter to control this behavior.\n",
      "  _warn_prf(average, modifier, msg_start, len(result))\n"
     ]
    },
    {
     "name": "stdout",
     "output_type": "stream",
     "text": [
      "1/1 [==============================] - 0s 50ms/step\n",
      "[CV] END batch_size=4, dropout_rate=0.5, epochs=100, hidden_units=256, learning_rate=0.1; total time=   4.0s\n"
     ]
    },
    {
     "name": "stderr",
     "output_type": "stream",
     "text": [
      "/usr/local/lib/python3.8/dist-packages/sklearn/metrics/_classification.py:1318: UndefinedMetricWarning: Precision is ill-defined and being set to 0.0 due to no predicted samples. Use `zero_division` parameter to control this behavior.\n",
      "  _warn_prf(average, modifier, msg_start, len(result))\n"
     ]
    },
    {
     "name": "stdout",
     "output_type": "stream",
     "text": [
      "1/1 [==============================] - 0s 45ms/step\n",
      "[CV] END batch_size=4, dropout_rate=0.5, epochs=100, hidden_units=256, learning_rate=0.1; total time=   3.4s\n"
     ]
    },
    {
     "name": "stderr",
     "output_type": "stream",
     "text": [
      "/usr/local/lib/python3.8/dist-packages/sklearn/metrics/_classification.py:1318: UndefinedMetricWarning: Precision is ill-defined and being set to 0.0 due to no predicted samples. Use `zero_division` parameter to control this behavior.\n",
      "  _warn_prf(average, modifier, msg_start, len(result))\n"
     ]
    },
    {
     "name": "stdout",
     "output_type": "stream",
     "text": [
      "1/1 [==============================] - 0s 43ms/step\n",
      "[CV] END batch_size=4, dropout_rate=0.5, epochs=100, hidden_units=256, learning_rate=0.1; total time=   3.4s\n"
     ]
    },
    {
     "name": "stderr",
     "output_type": "stream",
     "text": [
      "/usr/local/lib/python3.8/dist-packages/sklearn/metrics/_classification.py:1318: UndefinedMetricWarning: Precision is ill-defined and being set to 0.0 due to no predicted samples. Use `zero_division` parameter to control this behavior.\n",
      "  _warn_prf(average, modifier, msg_start, len(result))\n"
     ]
    },
    {
     "name": "stdout",
     "output_type": "stream",
     "text": [
      "1/1 [==============================] - 0s 41ms/step\n",
      "[CV] END batch_size=2, dropout_rate=0.5, epochs=100, hidden_units=512, learning_rate=0.005; total time=   4.5s\n",
      "1/1 [==============================] - 0s 43ms/step\n",
      "[CV] END batch_size=2, dropout_rate=0.5, epochs=100, hidden_units=512, learning_rate=0.005; total time=   4.5s\n",
      "1/1 [==============================] - 0s 40ms/step\n",
      "[CV] END batch_size=2, dropout_rate=0.5, epochs=100, hidden_units=512, learning_rate=0.005; total time=   4.5s\n",
      "1/1 [==============================] - 0s 40ms/step\n",
      "[CV] END batch_size=16, dropout_rate=0.6, epochs=100, hidden_units=128, learning_rate=0.05; total time=   2.4s\n"
     ]
    },
    {
     "name": "stderr",
     "output_type": "stream",
     "text": [
      "/usr/local/lib/python3.8/dist-packages/sklearn/metrics/_classification.py:1318: UndefinedMetricWarning: Precision is ill-defined and being set to 0.0 due to no predicted samples. Use `zero_division` parameter to control this behavior.\n",
      "  _warn_prf(average, modifier, msg_start, len(result))\n"
     ]
    },
    {
     "name": "stdout",
     "output_type": "stream",
     "text": [
      "1/1 [==============================] - 0s 37ms/step\n",
      "[CV] END batch_size=16, dropout_rate=0.6, epochs=100, hidden_units=128, learning_rate=0.05; total time=   2.3s\n"
     ]
    },
    {
     "name": "stderr",
     "output_type": "stream",
     "text": [
      "/usr/local/lib/python3.8/dist-packages/sklearn/metrics/_classification.py:1318: UndefinedMetricWarning: Precision is ill-defined and being set to 0.0 due to no predicted samples. Use `zero_division` parameter to control this behavior.\n",
      "  _warn_prf(average, modifier, msg_start, len(result))\n"
     ]
    },
    {
     "name": "stdout",
     "output_type": "stream",
     "text": [
      "1/1 [==============================] - 0s 41ms/step\n",
      "[CV] END batch_size=16, dropout_rate=0.6, epochs=100, hidden_units=128, learning_rate=0.05; total time=   2.3s\n"
     ]
    },
    {
     "name": "stderr",
     "output_type": "stream",
     "text": [
      "/usr/local/lib/python3.8/dist-packages/sklearn/metrics/_classification.py:1318: UndefinedMetricWarning: Precision is ill-defined and being set to 0.0 due to no predicted samples. Use `zero_division` parameter to control this behavior.\n",
      "  _warn_prf(average, modifier, msg_start, len(result))\n"
     ]
    },
    {
     "name": "stdout",
     "output_type": "stream",
     "text": [
      "1/1 [==============================] - 0s 40ms/step\n",
      "[CV] END batch_size=16, dropout_rate=0.6, epochs=100, hidden_units=256, learning_rate=0.1; total time=   2.4s\n"
     ]
    },
    {
     "name": "stderr",
     "output_type": "stream",
     "text": [
      "/usr/local/lib/python3.8/dist-packages/sklearn/metrics/_classification.py:1318: UndefinedMetricWarning: Precision is ill-defined and being set to 0.0 due to no predicted samples. Use `zero_division` parameter to control this behavior.\n",
      "  _warn_prf(average, modifier, msg_start, len(result))\n"
     ]
    },
    {
     "name": "stdout",
     "output_type": "stream",
     "text": [
      "1/1 [==============================] - 0s 40ms/step\n",
      "[CV] END batch_size=16, dropout_rate=0.6, epochs=100, hidden_units=256, learning_rate=0.1; total time=   2.5s\n"
     ]
    },
    {
     "name": "stderr",
     "output_type": "stream",
     "text": [
      "/usr/local/lib/python3.8/dist-packages/sklearn/metrics/_classification.py:1318: UndefinedMetricWarning: Precision is ill-defined and being set to 0.0 due to no predicted samples. Use `zero_division` parameter to control this behavior.\n",
      "  _warn_prf(average, modifier, msg_start, len(result))\n"
     ]
    },
    {
     "name": "stdout",
     "output_type": "stream",
     "text": [
      "1/1 [==============================] - 0s 39ms/step\n",
      "[CV] END batch_size=16, dropout_rate=0.6, epochs=100, hidden_units=256, learning_rate=0.1; total time=   2.5s\n"
     ]
    },
    {
     "name": "stderr",
     "output_type": "stream",
     "text": [
      "/usr/local/lib/python3.8/dist-packages/sklearn/metrics/_classification.py:1318: UndefinedMetricWarning: Precision is ill-defined and being set to 0.0 due to no predicted samples. Use `zero_division` parameter to control this behavior.\n",
      "  _warn_prf(average, modifier, msg_start, len(result))\n"
     ]
    },
    {
     "name": "stdout",
     "output_type": "stream",
     "text": [
      "1/1 [==============================] - 0s 38ms/step\n",
      "[CV] END batch_size=2, dropout_rate=0.5, epochs=100, hidden_units=128, learning_rate=0.1; total time=   4.5s\n"
     ]
    },
    {
     "name": "stderr",
     "output_type": "stream",
     "text": [
      "/usr/local/lib/python3.8/dist-packages/sklearn/metrics/_classification.py:1318: UndefinedMetricWarning: Precision is ill-defined and being set to 0.0 due to no predicted samples. Use `zero_division` parameter to control this behavior.\n",
      "  _warn_prf(average, modifier, msg_start, len(result))\n"
     ]
    },
    {
     "name": "stdout",
     "output_type": "stream",
     "text": [
      "1/1 [==============================] - 0s 38ms/step\n",
      "[CV] END batch_size=2, dropout_rate=0.5, epochs=100, hidden_units=128, learning_rate=0.1; total time=   4.5s\n"
     ]
    },
    {
     "name": "stderr",
     "output_type": "stream",
     "text": [
      "/usr/local/lib/python3.8/dist-packages/sklearn/metrics/_classification.py:1318: UndefinedMetricWarning: Precision is ill-defined and being set to 0.0 due to no predicted samples. Use `zero_division` parameter to control this behavior.\n",
      "  _warn_prf(average, modifier, msg_start, len(result))\n"
     ]
    },
    {
     "name": "stdout",
     "output_type": "stream",
     "text": [
      "1/1 [==============================] - 0s 37ms/step\n",
      "[CV] END batch_size=2, dropout_rate=0.5, epochs=100, hidden_units=128, learning_rate=0.1; total time=   4.4s\n"
     ]
    },
    {
     "name": "stderr",
     "output_type": "stream",
     "text": [
      "/usr/local/lib/python3.8/dist-packages/sklearn/metrics/_classification.py:1318: UndefinedMetricWarning: Precision is ill-defined and being set to 0.0 due to no predicted samples. Use `zero_division` parameter to control this behavior.\n",
      "  _warn_prf(average, modifier, msg_start, len(result))\n"
     ]
    },
    {
     "name": "stdout",
     "output_type": "stream",
     "text": [
      "1/1 [==============================] - 0s 44ms/step\n",
      "[CV] END batch_size=8, dropout_rate=0.5, epochs=100, hidden_units=256, learning_rate=0.001; total time=   2.9s\n",
      "1/1 [==============================] - 0s 38ms/step\n",
      "[CV] END batch_size=8, dropout_rate=0.5, epochs=100, hidden_units=256, learning_rate=0.001; total time=   2.8s\n",
      "1/1 [==============================] - 0s 49ms/step\n",
      "[CV] END batch_size=8, dropout_rate=0.5, epochs=100, hidden_units=256, learning_rate=0.001; total time=   3.4s\n",
      "1/1 [==============================] - 0s 47ms/step\n",
      "[CV] END batch_size=1, dropout_rate=0.6, epochs=100, hidden_units=128, learning_rate=0.01; total time=   7.7s\n"
     ]
    },
    {
     "name": "stderr",
     "output_type": "stream",
     "text": [
      "/usr/local/lib/python3.8/dist-packages/sklearn/metrics/_classification.py:1318: UndefinedMetricWarning: Precision is ill-defined and being set to 0.0 due to no predicted samples. Use `zero_division` parameter to control this behavior.\n",
      "  _warn_prf(average, modifier, msg_start, len(result))\n"
     ]
    },
    {
     "name": "stdout",
     "output_type": "stream",
     "text": [
      "1/1 [==============================] - 0s 44ms/step\n",
      "[CV] END batch_size=1, dropout_rate=0.6, epochs=100, hidden_units=128, learning_rate=0.01; total time=   7.5s\n",
      "1/1 [==============================] - 0s 43ms/step\n",
      "[CV] END batch_size=1, dropout_rate=0.6, epochs=100, hidden_units=128, learning_rate=0.01; total time=   7.2s\n"
     ]
    },
    {
     "name": "stderr",
     "output_type": "stream",
     "text": [
      "/usr/local/lib/python3.8/dist-packages/sklearn/metrics/_classification.py:1318: UndefinedMetricWarning: Precision is ill-defined and being set to 0.0 due to no predicted samples. Use `zero_division` parameter to control this behavior.\n",
      "  _warn_prf(average, modifier, msg_start, len(result))\n"
     ]
    },
    {
     "name": "stdout",
     "output_type": "stream",
     "text": [
      "1/1 [==============================] - 0s 45ms/step\n",
      "[CV] END batch_size=8, dropout_rate=0.4, epochs=100, hidden_units=512, learning_rate=0.001; total time=   2.8s\n",
      "1/1 [==============================] - 0s 39ms/step\n",
      "[CV] END batch_size=8, dropout_rate=0.4, epochs=100, hidden_units=512, learning_rate=0.001; total time=   2.9s\n",
      "1/1 [==============================] - 0s 43ms/step\n",
      "[CV] END batch_size=8, dropout_rate=0.4, epochs=100, hidden_units=512, learning_rate=0.001; total time=   2.7s\n",
      "1/1 [==============================] - 0s 40ms/step\n",
      "[CV] END batch_size=4, dropout_rate=0.5, epochs=100, hidden_units=128, learning_rate=0.005; total time=   3.6s\n",
      "1/1 [==============================] - 0s 39ms/step\n",
      "[CV] END batch_size=4, dropout_rate=0.5, epochs=100, hidden_units=128, learning_rate=0.005; total time=   3.5s\n",
      "1/1 [==============================] - 0s 42ms/step\n",
      "[CV] END batch_size=4, dropout_rate=0.5, epochs=100, hidden_units=128, learning_rate=0.005; total time=   3.4s\n",
      "1/1 [==============================] - 0s 39ms/step\n",
      "[CV] END batch_size=1, dropout_rate=0.6, epochs=100, hidden_units=512, learning_rate=0.05; total time=   7.2s\n"
     ]
    },
    {
     "name": "stderr",
     "output_type": "stream",
     "text": [
      "/usr/local/lib/python3.8/dist-packages/sklearn/metrics/_classification.py:1318: UndefinedMetricWarning: Precision is ill-defined and being set to 0.0 due to no predicted samples. Use `zero_division` parameter to control this behavior.\n",
      "  _warn_prf(average, modifier, msg_start, len(result))\n"
     ]
    },
    {
     "name": "stdout",
     "output_type": "stream",
     "text": [
      "1/1 [==============================] - 0s 40ms/step\n",
      "[CV] END batch_size=1, dropout_rate=0.6, epochs=100, hidden_units=512, learning_rate=0.05; total time=   7.0s\n",
      "1/1 [==============================] - 0s 39ms/step\n",
      "[CV] END batch_size=1, dropout_rate=0.6, epochs=100, hidden_units=512, learning_rate=0.05; total time=   7.1s\n"
     ]
    },
    {
     "name": "stderr",
     "output_type": "stream",
     "text": [
      "/usr/local/lib/python3.8/dist-packages/sklearn/metrics/_classification.py:1318: UndefinedMetricWarning: Precision is ill-defined and being set to 0.0 due to no predicted samples. Use `zero_division` parameter to control this behavior.\n",
      "  _warn_prf(average, modifier, msg_start, len(result))\n"
     ]
    },
    {
     "name": "stdout",
     "output_type": "stream",
     "text": [
      "1/1 [==============================] - 0s 39ms/step\n",
      "[CV] END batch_size=8, dropout_rate=0.5, epochs=100, hidden_units=256, learning_rate=0.1; total time=   2.7s\n"
     ]
    },
    {
     "name": "stderr",
     "output_type": "stream",
     "text": [
      "/usr/local/lib/python3.8/dist-packages/sklearn/metrics/_classification.py:1318: UndefinedMetricWarning: Precision is ill-defined and being set to 0.0 due to no predicted samples. Use `zero_division` parameter to control this behavior.\n",
      "  _warn_prf(average, modifier, msg_start, len(result))\n"
     ]
    },
    {
     "name": "stdout",
     "output_type": "stream",
     "text": [
      "1/1 [==============================] - 0s 39ms/step\n",
      "[CV] END batch_size=8, dropout_rate=0.5, epochs=100, hidden_units=256, learning_rate=0.1; total time=   2.7s\n"
     ]
    },
    {
     "name": "stderr",
     "output_type": "stream",
     "text": [
      "/usr/local/lib/python3.8/dist-packages/sklearn/metrics/_classification.py:1318: UndefinedMetricWarning: Precision is ill-defined and being set to 0.0 due to no predicted samples. Use `zero_division` parameter to control this behavior.\n",
      "  _warn_prf(average, modifier, msg_start, len(result))\n"
     ]
    },
    {
     "name": "stdout",
     "output_type": "stream",
     "text": [
      "1/1 [==============================] - 0s 49ms/step\n",
      "[CV] END batch_size=8, dropout_rate=0.5, epochs=100, hidden_units=256, learning_rate=0.1; total time=   2.9s\n"
     ]
    },
    {
     "name": "stderr",
     "output_type": "stream",
     "text": [
      "/usr/local/lib/python3.8/dist-packages/sklearn/metrics/_classification.py:1318: UndefinedMetricWarning: Precision is ill-defined and being set to 0.0 due to no predicted samples. Use `zero_division` parameter to control this behavior.\n",
      "  _warn_prf(average, modifier, msg_start, len(result))\n"
     ]
    },
    {
     "name": "stdout",
     "output_type": "stream",
     "text": [
      "1/1 [==============================] - 0s 57ms/step\n",
      "[CV] END batch_size=8, dropout_rate=0.6, epochs=100, hidden_units=64, learning_rate=0.05; total time=   3.6s\n"
     ]
    },
    {
     "name": "stderr",
     "output_type": "stream",
     "text": [
      "/usr/local/lib/python3.8/dist-packages/sklearn/metrics/_classification.py:1318: UndefinedMetricWarning: Precision is ill-defined and being set to 0.0 due to no predicted samples. Use `zero_division` parameter to control this behavior.\n",
      "  _warn_prf(average, modifier, msg_start, len(result))\n"
     ]
    },
    {
     "name": "stdout",
     "output_type": "stream",
     "text": [
      "1/1 [==============================] - 0s 52ms/step\n",
      "[CV] END batch_size=8, dropout_rate=0.6, epochs=100, hidden_units=64, learning_rate=0.05; total time=   3.0s\n"
     ]
    },
    {
     "name": "stderr",
     "output_type": "stream",
     "text": [
      "/usr/local/lib/python3.8/dist-packages/sklearn/metrics/_classification.py:1318: UndefinedMetricWarning: Precision is ill-defined and being set to 0.0 due to no predicted samples. Use `zero_division` parameter to control this behavior.\n",
      "  _warn_prf(average, modifier, msg_start, len(result))\n"
     ]
    },
    {
     "name": "stdout",
     "output_type": "stream",
     "text": [
      "1/1 [==============================] - 0s 44ms/step\n",
      "[CV] END batch_size=8, dropout_rate=0.6, epochs=100, hidden_units=64, learning_rate=0.05; total time=   3.0s\n"
     ]
    },
    {
     "name": "stderr",
     "output_type": "stream",
     "text": [
      "/usr/local/lib/python3.8/dist-packages/sklearn/metrics/_classification.py:1318: UndefinedMetricWarning: Precision is ill-defined and being set to 0.0 due to no predicted samples. Use `zero_division` parameter to control this behavior.\n",
      "  _warn_prf(average, modifier, msg_start, len(result))\n"
     ]
    },
    {
     "name": "stdout",
     "output_type": "stream",
     "text": [
      "1/1 [==============================] - 0s 43ms/step\n",
      "[CV] END batch_size=8, dropout_rate=0.6, epochs=100, hidden_units=512, learning_rate=0.05; total time=   2.8s\n"
     ]
    },
    {
     "name": "stderr",
     "output_type": "stream",
     "text": [
      "/usr/local/lib/python3.8/dist-packages/sklearn/metrics/_classification.py:1318: UndefinedMetricWarning: Precision is ill-defined and being set to 0.0 due to no predicted samples. Use `zero_division` parameter to control this behavior.\n",
      "  _warn_prf(average, modifier, msg_start, len(result))\n"
     ]
    },
    {
     "name": "stdout",
     "output_type": "stream",
     "text": [
      "1/1 [==============================] - 0s 41ms/step\n",
      "[CV] END batch_size=8, dropout_rate=0.6, epochs=100, hidden_units=512, learning_rate=0.05; total time=   2.8s\n",
      "1/1 [==============================] - 0s 39ms/step\n",
      "[CV] END batch_size=8, dropout_rate=0.6, epochs=100, hidden_units=512, learning_rate=0.05; total time=   2.7s\n"
     ]
    },
    {
     "name": "stderr",
     "output_type": "stream",
     "text": [
      "/usr/local/lib/python3.8/dist-packages/sklearn/metrics/_classification.py:1318: UndefinedMetricWarning: Precision is ill-defined and being set to 0.0 due to no predicted samples. Use `zero_division` parameter to control this behavior.\n",
      "  _warn_prf(average, modifier, msg_start, len(result))\n"
     ]
    },
    {
     "name": "stdout",
     "output_type": "stream",
     "text": [
      "1/1 [==============================] - 0s 43ms/step\n",
      "[CV] END batch_size=2, dropout_rate=0.5, epochs=100, hidden_units=64, learning_rate=0.1; total time=   4.8s\n"
     ]
    },
    {
     "name": "stderr",
     "output_type": "stream",
     "text": [
      "/usr/local/lib/python3.8/dist-packages/sklearn/metrics/_classification.py:1318: UndefinedMetricWarning: Precision is ill-defined and being set to 0.0 due to no predicted samples. Use `zero_division` parameter to control this behavior.\n",
      "  _warn_prf(average, modifier, msg_start, len(result))\n"
     ]
    },
    {
     "name": "stdout",
     "output_type": "stream",
     "text": [
      "1/1 [==============================] - 0s 43ms/step\n",
      "[CV] END batch_size=2, dropout_rate=0.5, epochs=100, hidden_units=64, learning_rate=0.1; total time=   4.8s\n"
     ]
    },
    {
     "name": "stderr",
     "output_type": "stream",
     "text": [
      "/usr/local/lib/python3.8/dist-packages/sklearn/metrics/_classification.py:1318: UndefinedMetricWarning: Precision is ill-defined and being set to 0.0 due to no predicted samples. Use `zero_division` parameter to control this behavior.\n",
      "  _warn_prf(average, modifier, msg_start, len(result))\n"
     ]
    },
    {
     "name": "stdout",
     "output_type": "stream",
     "text": [
      "1/1 [==============================] - 0s 40ms/step\n",
      "[CV] END batch_size=2, dropout_rate=0.5, epochs=100, hidden_units=64, learning_rate=0.1; total time=   4.4s\n"
     ]
    },
    {
     "name": "stderr",
     "output_type": "stream",
     "text": [
      "/usr/local/lib/python3.8/dist-packages/sklearn/metrics/_classification.py:1318: UndefinedMetricWarning: Precision is ill-defined and being set to 0.0 due to no predicted samples. Use `zero_division` parameter to control this behavior.\n",
      "  _warn_prf(average, modifier, msg_start, len(result))\n"
     ]
    },
    {
     "name": "stdout",
     "output_type": "stream",
     "text": [
      "1/1 [==============================] - 0s 39ms/step\n",
      "[CV] END batch_size=2, dropout_rate=0.6, epochs=100, hidden_units=256, learning_rate=0.1; total time=   4.4s\n"
     ]
    },
    {
     "name": "stderr",
     "output_type": "stream",
     "text": [
      "/usr/local/lib/python3.8/dist-packages/sklearn/metrics/_classification.py:1318: UndefinedMetricWarning: Precision is ill-defined and being set to 0.0 due to no predicted samples. Use `zero_division` parameter to control this behavior.\n",
      "  _warn_prf(average, modifier, msg_start, len(result))\n"
     ]
    },
    {
     "name": "stdout",
     "output_type": "stream",
     "text": [
      "1/1 [==============================] - 0s 38ms/step\n",
      "[CV] END batch_size=2, dropout_rate=0.6, epochs=100, hidden_units=256, learning_rate=0.1; total time=   4.5s\n"
     ]
    },
    {
     "name": "stderr",
     "output_type": "stream",
     "text": [
      "/usr/local/lib/python3.8/dist-packages/sklearn/metrics/_classification.py:1318: UndefinedMetricWarning: Precision is ill-defined and being set to 0.0 due to no predicted samples. Use `zero_division` parameter to control this behavior.\n",
      "  _warn_prf(average, modifier, msg_start, len(result))\n"
     ]
    },
    {
     "name": "stdout",
     "output_type": "stream",
     "text": [
      "1/1 [==============================] - 0s 37ms/step\n",
      "[CV] END batch_size=2, dropout_rate=0.6, epochs=100, hidden_units=256, learning_rate=0.1; total time=   4.4s\n"
     ]
    },
    {
     "name": "stderr",
     "output_type": "stream",
     "text": [
      "/usr/local/lib/python3.8/dist-packages/sklearn/metrics/_classification.py:1318: UndefinedMetricWarning: Precision is ill-defined and being set to 0.0 due to no predicted samples. Use `zero_division` parameter to control this behavior.\n",
      "  _warn_prf(average, modifier, msg_start, len(result))\n"
     ]
    },
    {
     "name": "stdout",
     "output_type": "stream",
     "text": [
      "1/1 [==============================] - 0s 40ms/step\n",
      "[CV] END batch_size=8, dropout_rate=0.4, epochs=100, hidden_units=512, learning_rate=0.05; total time=   2.6s\n"
     ]
    },
    {
     "name": "stderr",
     "output_type": "stream",
     "text": [
      "/usr/local/lib/python3.8/dist-packages/sklearn/metrics/_classification.py:1318: UndefinedMetricWarning: Precision is ill-defined and being set to 0.0 due to no predicted samples. Use `zero_division` parameter to control this behavior.\n",
      "  _warn_prf(average, modifier, msg_start, len(result))\n"
     ]
    },
    {
     "name": "stdout",
     "output_type": "stream",
     "text": [
      "1/1 [==============================] - 0s 39ms/step\n",
      "[CV] END batch_size=8, dropout_rate=0.4, epochs=100, hidden_units=512, learning_rate=0.05; total time=   2.6s\n"
     ]
    },
    {
     "name": "stderr",
     "output_type": "stream",
     "text": [
      "/usr/local/lib/python3.8/dist-packages/sklearn/metrics/_classification.py:1318: UndefinedMetricWarning: Precision is ill-defined and being set to 0.0 due to no predicted samples. Use `zero_division` parameter to control this behavior.\n",
      "  _warn_prf(average, modifier, msg_start, len(result))\n"
     ]
    },
    {
     "name": "stdout",
     "output_type": "stream",
     "text": [
      "1/1 [==============================] - 0s 37ms/step\n",
      "[CV] END batch_size=8, dropout_rate=0.4, epochs=100, hidden_units=512, learning_rate=0.05; total time=   2.6s\n"
     ]
    },
    {
     "name": "stderr",
     "output_type": "stream",
     "text": [
      "/usr/local/lib/python3.8/dist-packages/sklearn/metrics/_classification.py:1318: UndefinedMetricWarning: Precision is ill-defined and being set to 0.0 due to no predicted samples. Use `zero_division` parameter to control this behavior.\n",
      "  _warn_prf(average, modifier, msg_start, len(result))\n"
     ]
    },
    {
     "name": "stdout",
     "output_type": "stream",
     "text": [
      "1/1 [==============================] - 0s 40ms/step\n",
      "[CV] END batch_size=4, dropout_rate=0.4, epochs=100, hidden_units=256, learning_rate=0.1; total time=   3.3s\n"
     ]
    },
    {
     "name": "stderr",
     "output_type": "stream",
     "text": [
      "/usr/local/lib/python3.8/dist-packages/sklearn/metrics/_classification.py:1318: UndefinedMetricWarning: Precision is ill-defined and being set to 0.0 due to no predicted samples. Use `zero_division` parameter to control this behavior.\n",
      "  _warn_prf(average, modifier, msg_start, len(result))\n"
     ]
    },
    {
     "name": "stdout",
     "output_type": "stream",
     "text": [
      "1/1 [==============================] - 0s 39ms/step\n",
      "[CV] END batch_size=4, dropout_rate=0.4, epochs=100, hidden_units=256, learning_rate=0.1; total time=   3.3s\n"
     ]
    },
    {
     "name": "stderr",
     "output_type": "stream",
     "text": [
      "/usr/local/lib/python3.8/dist-packages/sklearn/metrics/_classification.py:1318: UndefinedMetricWarning: Precision is ill-defined and being set to 0.0 due to no predicted samples. Use `zero_division` parameter to control this behavior.\n",
      "  _warn_prf(average, modifier, msg_start, len(result))\n"
     ]
    },
    {
     "name": "stdout",
     "output_type": "stream",
     "text": [
      "1/1 [==============================] - 0s 48ms/step\n",
      "[CV] END batch_size=4, dropout_rate=0.4, epochs=100, hidden_units=256, learning_rate=0.1; total time=   4.0s\n"
     ]
    },
    {
     "name": "stderr",
     "output_type": "stream",
     "text": [
      "/usr/local/lib/python3.8/dist-packages/sklearn/metrics/_classification.py:1318: UndefinedMetricWarning: Precision is ill-defined and being set to 0.0 due to no predicted samples. Use `zero_division` parameter to control this behavior.\n",
      "  _warn_prf(average, modifier, msg_start, len(result))\n"
     ]
    },
    {
     "name": "stdout",
     "output_type": "stream",
     "text": [
      "1/1 [==============================] - 0s 49ms/step\n",
      "[CV] END batch_size=8, dropout_rate=0.4, epochs=100, hidden_units=128, learning_rate=0.1; total time=   2.8s\n"
     ]
    },
    {
     "name": "stderr",
     "output_type": "stream",
     "text": [
      "/usr/local/lib/python3.8/dist-packages/sklearn/metrics/_classification.py:1318: UndefinedMetricWarning: Precision is ill-defined and being set to 0.0 due to no predicted samples. Use `zero_division` parameter to control this behavior.\n",
      "  _warn_prf(average, modifier, msg_start, len(result))\n"
     ]
    },
    {
     "name": "stdout",
     "output_type": "stream",
     "text": [
      "1/1 [==============================] - 0s 45ms/step\n",
      "[CV] END batch_size=8, dropout_rate=0.4, epochs=100, hidden_units=128, learning_rate=0.1; total time=   2.7s\n"
     ]
    },
    {
     "name": "stderr",
     "output_type": "stream",
     "text": [
      "/usr/local/lib/python3.8/dist-packages/sklearn/metrics/_classification.py:1318: UndefinedMetricWarning: Precision is ill-defined and being set to 0.0 due to no predicted samples. Use `zero_division` parameter to control this behavior.\n",
      "  _warn_prf(average, modifier, msg_start, len(result))\n"
     ]
    },
    {
     "name": "stdout",
     "output_type": "stream",
     "text": [
      "1/1 [==============================] - 0s 43ms/step\n",
      "[CV] END batch_size=8, dropout_rate=0.4, epochs=100, hidden_units=128, learning_rate=0.1; total time=   2.7s\n"
     ]
    },
    {
     "name": "stderr",
     "output_type": "stream",
     "text": [
      "/usr/local/lib/python3.8/dist-packages/sklearn/metrics/_classification.py:1318: UndefinedMetricWarning: Precision is ill-defined and being set to 0.0 due to no predicted samples. Use `zero_division` parameter to control this behavior.\n",
      "  _warn_prf(average, modifier, msg_start, len(result))\n"
     ]
    },
    {
     "name": "stdout",
     "output_type": "stream",
     "text": [
      "1/1 [==============================] - 0s 40ms/step\n",
      "[CV] END batch_size=16, dropout_rate=0.6, epochs=100, hidden_units=256, learning_rate=0.001; total time=   2.3s\n",
      "1/1 [==============================] - 0s 41ms/step\n",
      "[CV] END batch_size=16, dropout_rate=0.6, epochs=100, hidden_units=256, learning_rate=0.001; total time=   2.3s\n",
      "1/1 [==============================] - 0s 40ms/step\n",
      "[CV] END batch_size=16, dropout_rate=0.6, epochs=100, hidden_units=256, learning_rate=0.001; total time=   2.3s\n",
      "1/1 [==============================] - 0s 39ms/step\n",
      "[CV] END batch_size=4, dropout_rate=0.4, epochs=100, hidden_units=256, learning_rate=0.005; total time=   3.3s\n",
      "1/1 [==============================] - 0s 41ms/step\n",
      "[CV] END batch_size=4, dropout_rate=0.4, epochs=100, hidden_units=256, learning_rate=0.005; total time=   3.3s\n",
      "1/1 [==============================] - 0s 40ms/step\n",
      "[CV] END batch_size=4, dropout_rate=0.4, epochs=100, hidden_units=256, learning_rate=0.005; total time=   3.3s\n",
      "1/1 [==============================] - 0s 39ms/step\n",
      "[CV] END batch_size=8, dropout_rate=0.4, epochs=100, hidden_units=64, learning_rate=0.05; total time=   2.6s\n"
     ]
    },
    {
     "name": "stderr",
     "output_type": "stream",
     "text": [
      "/usr/local/lib/python3.8/dist-packages/sklearn/metrics/_classification.py:1318: UndefinedMetricWarning: Precision is ill-defined and being set to 0.0 due to no predicted samples. Use `zero_division` parameter to control this behavior.\n",
      "  _warn_prf(average, modifier, msg_start, len(result))\n"
     ]
    },
    {
     "name": "stdout",
     "output_type": "stream",
     "text": [
      "1/1 [==============================] - 0s 39ms/step\n",
      "[CV] END batch_size=8, dropout_rate=0.4, epochs=100, hidden_units=64, learning_rate=0.05; total time=   2.6s\n"
     ]
    },
    {
     "name": "stderr",
     "output_type": "stream",
     "text": [
      "/usr/local/lib/python3.8/dist-packages/sklearn/metrics/_classification.py:1318: UndefinedMetricWarning: Precision is ill-defined and being set to 0.0 due to no predicted samples. Use `zero_division` parameter to control this behavior.\n",
      "  _warn_prf(average, modifier, msg_start, len(result))\n"
     ]
    },
    {
     "name": "stdout",
     "output_type": "stream",
     "text": [
      "1/1 [==============================] - 0s 39ms/step\n",
      "[CV] END batch_size=8, dropout_rate=0.4, epochs=100, hidden_units=64, learning_rate=0.05; total time=   2.6s\n"
     ]
    },
    {
     "name": "stderr",
     "output_type": "stream",
     "text": [
      "/usr/local/lib/python3.8/dist-packages/sklearn/metrics/_classification.py:1318: UndefinedMetricWarning: Precision is ill-defined and being set to 0.0 due to no predicted samples. Use `zero_division` parameter to control this behavior.\n",
      "  _warn_prf(average, modifier, msg_start, len(result))\n"
     ]
    },
    {
     "name": "stdout",
     "output_type": "stream",
     "text": [
      "1/1 [==============================] - 0s 38ms/step\n",
      "[CV] END batch_size=2, dropout_rate=0.6, epochs=100, hidden_units=256, learning_rate=0.01; total time=   4.3s\n"
     ]
    },
    {
     "name": "stderr",
     "output_type": "stream",
     "text": [
      "/usr/local/lib/python3.8/dist-packages/sklearn/metrics/_classification.py:1318: UndefinedMetricWarning: Precision is ill-defined and being set to 0.0 due to no predicted samples. Use `zero_division` parameter to control this behavior.\n",
      "  _warn_prf(average, modifier, msg_start, len(result))\n"
     ]
    },
    {
     "name": "stdout",
     "output_type": "stream",
     "text": [
      "1/1 [==============================] - 0s 38ms/step\n",
      "[CV] END batch_size=2, dropout_rate=0.6, epochs=100, hidden_units=256, learning_rate=0.01; total time=   4.3s\n",
      "1/1 [==============================] - 0s 39ms/step\n",
      "[CV] END batch_size=2, dropout_rate=0.6, epochs=100, hidden_units=256, learning_rate=0.01; total time=   4.4s\n"
     ]
    },
    {
     "name": "stderr",
     "output_type": "stream",
     "text": [
      "/usr/local/lib/python3.8/dist-packages/sklearn/metrics/_classification.py:1318: UndefinedMetricWarning: Precision is ill-defined and being set to 0.0 due to no predicted samples. Use `zero_division` parameter to control this behavior.\n",
      "  _warn_prf(average, modifier, msg_start, len(result))\n"
     ]
    },
    {
     "name": "stdout",
     "output_type": "stream",
     "text": [
      "1/1 [==============================] - 0s 37ms/step\n",
      "[CV] END batch_size=8, dropout_rate=0.5, epochs=100, hidden_units=512, learning_rate=0.05; total time=   2.6s\n"
     ]
    },
    {
     "name": "stderr",
     "output_type": "stream",
     "text": [
      "/usr/local/lib/python3.8/dist-packages/sklearn/metrics/_classification.py:1318: UndefinedMetricWarning: Precision is ill-defined and being set to 0.0 due to no predicted samples. Use `zero_division` parameter to control this behavior.\n",
      "  _warn_prf(average, modifier, msg_start, len(result))\n"
     ]
    },
    {
     "name": "stdout",
     "output_type": "stream",
     "text": [
      "1/1 [==============================] - 0s 48ms/step\n",
      "[CV] END batch_size=8, dropout_rate=0.5, epochs=100, hidden_units=512, learning_rate=0.05; total time=   3.3s\n",
      "1/1 [==============================] - 0s 47ms/step\n",
      "[CV] END batch_size=8, dropout_rate=0.5, epochs=100, hidden_units=512, learning_rate=0.05; total time=   2.8s\n"
     ]
    },
    {
     "name": "stderr",
     "output_type": "stream",
     "text": [
      "/usr/local/lib/python3.8/dist-packages/sklearn/metrics/_classification.py:1318: UndefinedMetricWarning: Precision is ill-defined and being set to 0.0 due to no predicted samples. Use `zero_division` parameter to control this behavior.\n",
      "  _warn_prf(average, modifier, msg_start, len(result))\n"
     ]
    },
    {
     "name": "stdout",
     "output_type": "stream",
     "text": [
      "1/1 [==============================] - 0s 45ms/step\n",
      "[CV] END batch_size=4, dropout_rate=0.4, epochs=100, hidden_units=512, learning_rate=0.05; total time=   3.5s\n"
     ]
    },
    {
     "name": "stderr",
     "output_type": "stream",
     "text": [
      "/usr/local/lib/python3.8/dist-packages/sklearn/metrics/_classification.py:1318: UndefinedMetricWarning: Precision is ill-defined and being set to 0.0 due to no predicted samples. Use `zero_division` parameter to control this behavior.\n",
      "  _warn_prf(average, modifier, msg_start, len(result))\n"
     ]
    },
    {
     "name": "stdout",
     "output_type": "stream",
     "text": [
      "1/1 [==============================] - 0s 43ms/step\n",
      "[CV] END batch_size=4, dropout_rate=0.4, epochs=100, hidden_units=512, learning_rate=0.05; total time=   3.4s\n"
     ]
    },
    {
     "name": "stderr",
     "output_type": "stream",
     "text": [
      "/usr/local/lib/python3.8/dist-packages/sklearn/metrics/_classification.py:1318: UndefinedMetricWarning: Precision is ill-defined and being set to 0.0 due to no predicted samples. Use `zero_division` parameter to control this behavior.\n",
      "  _warn_prf(average, modifier, msg_start, len(result))\n"
     ]
    },
    {
     "name": "stdout",
     "output_type": "stream",
     "text": [
      "1/1 [==============================] - 0s 40ms/step\n",
      "[CV] END batch_size=4, dropout_rate=0.4, epochs=100, hidden_units=512, learning_rate=0.05; total time=   3.4s\n",
      "1/1 [==============================] - 0s 41ms/step\n",
      "[CV] END batch_size=1, dropout_rate=0.5, epochs=100, hidden_units=128, learning_rate=0.005; total time=   7.0s\n",
      "1/1 [==============================] - 0s 39ms/step\n",
      "[CV] END batch_size=1, dropout_rate=0.5, epochs=100, hidden_units=128, learning_rate=0.005; total time=   8.0s\n",
      "1/1 [==============================] - 0s 39ms/step\n",
      "[CV] END batch_size=1, dropout_rate=0.5, epochs=100, hidden_units=128, learning_rate=0.005; total time=   7.0s\n",
      "1/1 [==============================] - 0s 39ms/step\n",
      "[CV] END batch_size=8, dropout_rate=0.6, epochs=100, hidden_units=64, learning_rate=0.005; total time=   2.6s\n",
      "1/1 [==============================] - 0s 42ms/step\n",
      "[CV] END batch_size=8, dropout_rate=0.6, epochs=100, hidden_units=64, learning_rate=0.005; total time=   2.8s\n",
      "1/1 [==============================] - 0s 39ms/step\n",
      "[CV] END batch_size=8, dropout_rate=0.6, epochs=100, hidden_units=64, learning_rate=0.005; total time=   2.8s\n",
      "1/1 [==============================] - 0s 42ms/step\n",
      "[CV] END batch_size=8, dropout_rate=0.4, epochs=100, hidden_units=64, learning_rate=0.005; total time=   2.7s\n",
      "1/1 [==============================] - 0s 41ms/step\n",
      "[CV] END batch_size=8, dropout_rate=0.4, epochs=100, hidden_units=64, learning_rate=0.005; total time=   2.8s\n",
      "1/1 [==============================] - 0s 41ms/step\n",
      "[CV] END batch_size=8, dropout_rate=0.4, epochs=100, hidden_units=64, learning_rate=0.005; total time=   3.2s\n",
      "1/1 [==============================] - 0s 43ms/step\n",
      "[CV] END batch_size=4, dropout_rate=0.5, epochs=100, hidden_units=512, learning_rate=0.01; total time=   3.6s\n",
      "1/1 [==============================] - 0s 44ms/step\n",
      "[CV] END batch_size=4, dropout_rate=0.5, epochs=100, hidden_units=512, learning_rate=0.01; total time=   3.6s\n",
      "1/1 [==============================] - 0s 39ms/step\n",
      "[CV] END batch_size=4, dropout_rate=0.5, epochs=100, hidden_units=512, learning_rate=0.01; total time=   3.8s\n",
      "1/1 [==============================] - 0s 50ms/step\n",
      "[CV] END batch_size=1, dropout_rate=0.4, epochs=100, hidden_units=512, learning_rate=0.001; total time=   9.2s\n",
      "1/1 [==============================] - 0s 55ms/step\n",
      "[CV] END batch_size=1, dropout_rate=0.4, epochs=100, hidden_units=512, learning_rate=0.001; total time=   9.1s\n",
      "1/1 [==============================] - 0s 53ms/step\n",
      "[CV] END batch_size=1, dropout_rate=0.4, epochs=100, hidden_units=512, learning_rate=0.001; total time=   8.3s\n",
      "1/1 [==============================] - 0s 44ms/step\n",
      "[CV] END batch_size=1, dropout_rate=0.6, epochs=100, hidden_units=256, learning_rate=0.01; total time=   7.9s\n"
     ]
    },
    {
     "name": "stderr",
     "output_type": "stream",
     "text": [
      "/usr/local/lib/python3.8/dist-packages/sklearn/metrics/_classification.py:1318: UndefinedMetricWarning: Precision is ill-defined and being set to 0.0 due to no predicted samples. Use `zero_division` parameter to control this behavior.\n",
      "  _warn_prf(average, modifier, msg_start, len(result))\n"
     ]
    },
    {
     "name": "stdout",
     "output_type": "stream",
     "text": [
      "1/1 [==============================] - 0s 60ms/step\n",
      "[CV] END batch_size=1, dropout_rate=0.6, epochs=100, hidden_units=256, learning_rate=0.01; total time=   7.8s\n",
      "1/1 [==============================] - 0s 44ms/step\n",
      "[CV] END batch_size=1, dropout_rate=0.6, epochs=100, hidden_units=256, learning_rate=0.01; total time=   7.8s\n"
     ]
    },
    {
     "name": "stderr",
     "output_type": "stream",
     "text": [
      "/usr/local/lib/python3.8/dist-packages/sklearn/metrics/_classification.py:1318: UndefinedMetricWarning: Precision is ill-defined and being set to 0.0 due to no predicted samples. Use `zero_division` parameter to control this behavior.\n",
      "  _warn_prf(average, modifier, msg_start, len(result))\n"
     ]
    },
    {
     "name": "stdout",
     "output_type": "stream",
     "text": [
      "1/1 [==============================] - 0s 43ms/step\n",
      "[CV] END batch_size=4, dropout_rate=0.6, epochs=100, hidden_units=512, learning_rate=0.05; total time=   3.6s\n"
     ]
    },
    {
     "name": "stderr",
     "output_type": "stream",
     "text": [
      "/usr/local/lib/python3.8/dist-packages/sklearn/metrics/_classification.py:1318: UndefinedMetricWarning: Precision is ill-defined and being set to 0.0 due to no predicted samples. Use `zero_division` parameter to control this behavior.\n",
      "  _warn_prf(average, modifier, msg_start, len(result))\n"
     ]
    },
    {
     "name": "stdout",
     "output_type": "stream",
     "text": [
      "1/1 [==============================] - 0s 42ms/step\n",
      "[CV] END batch_size=4, dropout_rate=0.6, epochs=100, hidden_units=512, learning_rate=0.05; total time=   3.6s\n"
     ]
    },
    {
     "name": "stderr",
     "output_type": "stream",
     "text": [
      "/usr/local/lib/python3.8/dist-packages/sklearn/metrics/_classification.py:1318: UndefinedMetricWarning: Precision is ill-defined and being set to 0.0 due to no predicted samples. Use `zero_division` parameter to control this behavior.\n",
      "  _warn_prf(average, modifier, msg_start, len(result))\n"
     ]
    },
    {
     "name": "stdout",
     "output_type": "stream",
     "text": [
      "1/1 [==============================] - 0s 42ms/step\n",
      "[CV] END batch_size=4, dropout_rate=0.6, epochs=100, hidden_units=512, learning_rate=0.05; total time=   3.6s\n"
     ]
    },
    {
     "name": "stderr",
     "output_type": "stream",
     "text": [
      "/usr/local/lib/python3.8/dist-packages/sklearn/metrics/_classification.py:1318: UndefinedMetricWarning: Precision is ill-defined and being set to 0.0 due to no predicted samples. Use `zero_division` parameter to control this behavior.\n",
      "  _warn_prf(average, modifier, msg_start, len(result))\n"
     ]
    },
    {
     "name": "stdout",
     "output_type": "stream",
     "text": [
      "1/1 [==============================] - 0s 43ms/step\n",
      "[CV] END batch_size=8, dropout_rate=0.6, epochs=100, hidden_units=128, learning_rate=0.005; total time=   2.8s\n",
      "1/1 [==============================] - 0s 40ms/step\n",
      "[CV] END batch_size=8, dropout_rate=0.6, epochs=100, hidden_units=128, learning_rate=0.005; total time=   2.7s\n",
      "1/1 [==============================] - 0s 43ms/step\n",
      "[CV] END batch_size=8, dropout_rate=0.6, epochs=100, hidden_units=128, learning_rate=0.005; total time=   2.8s\n",
      "1/1 [==============================] - 0s 48ms/step\n",
      "[CV] END batch_size=1, dropout_rate=0.6, epochs=100, hidden_units=256, learning_rate=0.05; total time=   7.9s\n"
     ]
    },
    {
     "name": "stderr",
     "output_type": "stream",
     "text": [
      "/usr/local/lib/python3.8/dist-packages/sklearn/metrics/_classification.py:1318: UndefinedMetricWarning: Precision is ill-defined and being set to 0.0 due to no predicted samples. Use `zero_division` parameter to control this behavior.\n",
      "  _warn_prf(average, modifier, msg_start, len(result))\n"
     ]
    },
    {
     "name": "stdout",
     "output_type": "stream",
     "text": [
      "1/1 [==============================] - 0s 45ms/step\n",
      "[CV] END batch_size=1, dropout_rate=0.6, epochs=100, hidden_units=256, learning_rate=0.05; total time=   8.1s\n"
     ]
    },
    {
     "name": "stderr",
     "output_type": "stream",
     "text": [
      "/usr/local/lib/python3.8/dist-packages/sklearn/metrics/_classification.py:1318: UndefinedMetricWarning: Precision is ill-defined and being set to 0.0 due to no predicted samples. Use `zero_division` parameter to control this behavior.\n",
      "  _warn_prf(average, modifier, msg_start, len(result))\n"
     ]
    },
    {
     "name": "stdout",
     "output_type": "stream",
     "text": [
      "1/1 [==============================] - 0s 41ms/step\n",
      "[CV] END batch_size=1, dropout_rate=0.6, epochs=100, hidden_units=256, learning_rate=0.05; total time=   8.0s\n"
     ]
    },
    {
     "name": "stderr",
     "output_type": "stream",
     "text": [
      "/usr/local/lib/python3.8/dist-packages/sklearn/metrics/_classification.py:1318: UndefinedMetricWarning: Precision is ill-defined and being set to 0.0 due to no predicted samples. Use `zero_division` parameter to control this behavior.\n",
      "  _warn_prf(average, modifier, msg_start, len(result))\n"
     ]
    },
    {
     "name": "stdout",
     "output_type": "stream",
     "text": [
      "1/1 [==============================] - 0s 39ms/step\n",
      "[CV] END batch_size=16, dropout_rate=0.4, epochs=100, hidden_units=64, learning_rate=0.01; total time=   2.4s\n",
      "1/1 [==============================] - 0s 43ms/step\n",
      "[CV] END batch_size=16, dropout_rate=0.4, epochs=100, hidden_units=64, learning_rate=0.01; total time=   2.4s\n",
      "1/1 [==============================] - 0s 39ms/step\n",
      "[CV] END batch_size=16, dropout_rate=0.4, epochs=100, hidden_units=64, learning_rate=0.01; total time=   2.6s\n",
      "1/1 [==============================] - 0s 52ms/step\n",
      "[CV] END batch_size=8, dropout_rate=0.4, epochs=100, hidden_units=512, learning_rate=0.1; total time=   3.8s\n",
      "1/1 [==============================] - 0s 64ms/step\n",
      "[CV] END batch_size=8, dropout_rate=0.4, epochs=100, hidden_units=512, learning_rate=0.1; total time=   3.3s\n"
     ]
    },
    {
     "name": "stderr",
     "output_type": "stream",
     "text": [
      "/usr/local/lib/python3.8/dist-packages/sklearn/metrics/_classification.py:1318: UndefinedMetricWarning: Precision is ill-defined and being set to 0.0 due to no predicted samples. Use `zero_division` parameter to control this behavior.\n",
      "  _warn_prf(average, modifier, msg_start, len(result))\n"
     ]
    },
    {
     "name": "stdout",
     "output_type": "stream",
     "text": [
      "1/1 [==============================] - 0s 47ms/step\n",
      "[CV] END batch_size=8, dropout_rate=0.4, epochs=100, hidden_units=512, learning_rate=0.1; total time=   3.0s\n"
     ]
    },
    {
     "name": "stderr",
     "output_type": "stream",
     "text": [
      "/usr/local/lib/python3.8/dist-packages/sklearn/metrics/_classification.py:1318: UndefinedMetricWarning: Precision is ill-defined and being set to 0.0 due to no predicted samples. Use `zero_division` parameter to control this behavior.\n",
      "  _warn_prf(average, modifier, msg_start, len(result))\n"
     ]
    },
    {
     "name": "stdout",
     "output_type": "stream",
     "text": [
      "1/1 [==============================] - 0s 51ms/step\n",
      "[CV] END batch_size=8, dropout_rate=0.4, epochs=100, hidden_units=256, learning_rate=0.005; total time=   3.2s\n",
      "1/1 [==============================] - 0s 42ms/step\n",
      "[CV] END batch_size=8, dropout_rate=0.4, epochs=100, hidden_units=256, learning_rate=0.005; total time=   3.3s\n",
      "1/1 [==============================] - 0s 45ms/step\n",
      "[CV] END batch_size=8, dropout_rate=0.4, epochs=100, hidden_units=256, learning_rate=0.005; total time=   3.0s\n",
      "1/1 [==============================] - 0s 40ms/step\n",
      "[CV] END batch_size=4, dropout_rate=0.4, epochs=100, hidden_units=512, learning_rate=0.005; total time=   3.9s\n",
      "1/1 [==============================] - 0s 41ms/step\n",
      "[CV] END batch_size=4, dropout_rate=0.4, epochs=100, hidden_units=512, learning_rate=0.005; total time=   3.9s\n",
      "1/1 [==============================] - 0s 49ms/step\n",
      "[CV] END batch_size=4, dropout_rate=0.4, epochs=100, hidden_units=512, learning_rate=0.005; total time=   3.7s\n",
      "1/1 [==============================] - 0s 47ms/step\n",
      "[CV] END batch_size=2, dropout_rate=0.6, epochs=100, hidden_units=64, learning_rate=0.001; total time=   5.1s\n",
      "1/1 [==============================] - 0s 40ms/step\n",
      "[CV] END batch_size=2, dropout_rate=0.6, epochs=100, hidden_units=64, learning_rate=0.001; total time=   5.0s\n",
      "1/1 [==============================] - 0s 41ms/step\n",
      "[CV] END batch_size=2, dropout_rate=0.6, epochs=100, hidden_units=64, learning_rate=0.001; total time=   5.1s\n",
      "1/1 [==============================] - 0s 41ms/step\n",
      "[CV] END batch_size=8, dropout_rate=0.4, epochs=100, hidden_units=512, learning_rate=0.01; total time=   2.9s\n",
      "1/1 [==============================] - 0s 45ms/step\n",
      "[CV] END batch_size=8, dropout_rate=0.4, epochs=100, hidden_units=512, learning_rate=0.01; total time=   3.1s\n",
      "1/1 [==============================] - 0s 44ms/step\n",
      "[CV] END batch_size=8, dropout_rate=0.4, epochs=100, hidden_units=512, learning_rate=0.01; total time=   3.0s\n",
      "1/1 [==============================] - 0s 39ms/step\n",
      "[CV] END batch_size=4, dropout_rate=0.6, epochs=100, hidden_units=256, learning_rate=0.05; total time=   3.7s\n"
     ]
    },
    {
     "name": "stderr",
     "output_type": "stream",
     "text": [
      "/usr/local/lib/python3.8/dist-packages/sklearn/metrics/_classification.py:1318: UndefinedMetricWarning: Precision is ill-defined and being set to 0.0 due to no predicted samples. Use `zero_division` parameter to control this behavior.\n",
      "  _warn_prf(average, modifier, msg_start, len(result))\n"
     ]
    },
    {
     "name": "stdout",
     "output_type": "stream",
     "text": [
      "1/1 [==============================] - 0s 41ms/step\n",
      "[CV] END batch_size=4, dropout_rate=0.6, epochs=100, hidden_units=256, learning_rate=0.05; total time=   3.9s\n"
     ]
    },
    {
     "name": "stderr",
     "output_type": "stream",
     "text": [
      "/usr/local/lib/python3.8/dist-packages/sklearn/metrics/_classification.py:1318: UndefinedMetricWarning: Precision is ill-defined and being set to 0.0 due to no predicted samples. Use `zero_division` parameter to control this behavior.\n",
      "  _warn_prf(average, modifier, msg_start, len(result))\n"
     ]
    },
    {
     "name": "stdout",
     "output_type": "stream",
     "text": [
      "1/1 [==============================] - 0s 63ms/step\n",
      "[CV] END batch_size=4, dropout_rate=0.6, epochs=100, hidden_units=256, learning_rate=0.05; total time=   4.6s\n"
     ]
    },
    {
     "name": "stderr",
     "output_type": "stream",
     "text": [
      "/usr/local/lib/python3.8/dist-packages/sklearn/metrics/_classification.py:1318: UndefinedMetricWarning: Precision is ill-defined and being set to 0.0 due to no predicted samples. Use `zero_division` parameter to control this behavior.\n",
      "  _warn_prf(average, modifier, msg_start, len(result))\n"
     ]
    },
    {
     "name": "stdout",
     "output_type": "stream",
     "text": [
      "1/1 [==============================] - 0s 46ms/step\n",
      "[CV] END batch_size=8, dropout_rate=0.4, epochs=100, hidden_units=64, learning_rate=0.001; total time=   3.2s\n",
      "1/1 [==============================] - 0s 59ms/step\n",
      "[CV] END batch_size=8, dropout_rate=0.4, epochs=100, hidden_units=64, learning_rate=0.001; total time=   3.1s\n",
      "1/1 [==============================] - 0s 45ms/step\n",
      "[CV] END batch_size=8, dropout_rate=0.4, epochs=100, hidden_units=64, learning_rate=0.001; total time=   3.0s\n",
      "1/1 [==============================] - 0s 47ms/step\n",
      "[CV] END batch_size=2, dropout_rate=0.5, epochs=100, hidden_units=512, learning_rate=0.1; total time=   4.8s\n"
     ]
    },
    {
     "name": "stderr",
     "output_type": "stream",
     "text": [
      "/usr/local/lib/python3.8/dist-packages/sklearn/metrics/_classification.py:1318: UndefinedMetricWarning: Precision is ill-defined and being set to 0.0 due to no predicted samples. Use `zero_division` parameter to control this behavior.\n",
      "  _warn_prf(average, modifier, msg_start, len(result))\n"
     ]
    },
    {
     "name": "stdout",
     "output_type": "stream",
     "text": [
      "1/1 [==============================] - 0s 42ms/step\n",
      "[CV] END batch_size=2, dropout_rate=0.5, epochs=100, hidden_units=512, learning_rate=0.1; total time=   4.9s\n"
     ]
    },
    {
     "name": "stderr",
     "output_type": "stream",
     "text": [
      "/usr/local/lib/python3.8/dist-packages/sklearn/metrics/_classification.py:1318: UndefinedMetricWarning: Precision is ill-defined and being set to 0.0 due to no predicted samples. Use `zero_division` parameter to control this behavior.\n",
      "  _warn_prf(average, modifier, msg_start, len(result))\n"
     ]
    },
    {
     "name": "stdout",
     "output_type": "stream",
     "text": [
      "1/1 [==============================] - 0s 43ms/step\n",
      "[CV] END batch_size=2, dropout_rate=0.5, epochs=100, hidden_units=512, learning_rate=0.1; total time=   5.0s\n"
     ]
    },
    {
     "name": "stderr",
     "output_type": "stream",
     "text": [
      "/usr/local/lib/python3.8/dist-packages/sklearn/metrics/_classification.py:1318: UndefinedMetricWarning: Precision is ill-defined and being set to 0.0 due to no predicted samples. Use `zero_division` parameter to control this behavior.\n",
      "  _warn_prf(average, modifier, msg_start, len(result))\n"
     ]
    },
    {
     "name": "stdout",
     "output_type": "stream",
     "text": [
      "1/1 [==============================] - 0s 39ms/step\n",
      "[CV] END batch_size=2, dropout_rate=0.5, epochs=100, hidden_units=128, learning_rate=0.005; total time=   4.8s\n",
      "1/1 [==============================] - 0s 43ms/step\n",
      "[CV] END batch_size=2, dropout_rate=0.5, epochs=100, hidden_units=128, learning_rate=0.005; total time=   4.7s\n",
      "1/1 [==============================] - 0s 39ms/step\n",
      "[CV] END batch_size=2, dropout_rate=0.5, epochs=100, hidden_units=128, learning_rate=0.005; total time=   4.9s\n",
      "1/1 [==============================] - 0s 39ms/step\n",
      "[CV] END batch_size=8, dropout_rate=0.6, epochs=100, hidden_units=64, learning_rate=0.001; total time=   2.7s\n",
      "1/1 [==============================] - 0s 44ms/step\n",
      "[CV] END batch_size=8, dropout_rate=0.6, epochs=100, hidden_units=64, learning_rate=0.001; total time=   2.9s\n",
      "1/1 [==============================] - 0s 43ms/step\n",
      "[CV] END batch_size=8, dropout_rate=0.6, epochs=100, hidden_units=64, learning_rate=0.001; total time=   2.8s\n",
      "1/1 [==============================] - 0s 41ms/step\n",
      "[CV] END batch_size=2, dropout_rate=0.4, epochs=100, hidden_units=128, learning_rate=0.001; total time=   4.7s\n",
      "1/1 [==============================] - 0s 40ms/step\n",
      "[CV] END batch_size=2, dropout_rate=0.4, epochs=100, hidden_units=128, learning_rate=0.001; total time=   4.7s\n",
      "1/1 [==============================] - 0s 41ms/step\n",
      "[CV] END batch_size=2, dropout_rate=0.4, epochs=100, hidden_units=128, learning_rate=0.001; total time=   4.7s\n",
      "1/1 [==============================] - 0s 40ms/step\n",
      "[CV] END batch_size=4, dropout_rate=0.5, epochs=100, hidden_units=512, learning_rate=0.001; total time=   3.5s\n",
      "1/1 [==============================] - 0s 55ms/step\n",
      "[CV] END batch_size=4, dropout_rate=0.5, epochs=100, hidden_units=512, learning_rate=0.001; total time=   4.5s\n",
      "1/1 [==============================] - 0s 59ms/step\n",
      "[CV] END batch_size=4, dropout_rate=0.5, epochs=100, hidden_units=512, learning_rate=0.001; total time=   3.8s\n",
      "1/1 [==============================] - 0s 50ms/step\n",
      "[CV] END batch_size=4, dropout_rate=0.5, epochs=100, hidden_units=256, learning_rate=0.001; total time=   3.7s\n",
      "1/1 [==============================] - 0s 48ms/step\n",
      "[CV] END batch_size=4, dropout_rate=0.5, epochs=100, hidden_units=256, learning_rate=0.001; total time=   3.7s\n",
      "1/1 [==============================] - 0s 42ms/step\n",
      "[CV] END batch_size=4, dropout_rate=0.5, epochs=100, hidden_units=256, learning_rate=0.001; total time=   3.9s\n",
      "1/1 [==============================] - 0s 43ms/step\n",
      "[CV] END batch_size=2, dropout_rate=0.4, epochs=100, hidden_units=256, learning_rate=0.05; total time=   4.8s\n"
     ]
    },
    {
     "name": "stderr",
     "output_type": "stream",
     "text": [
      "/usr/local/lib/python3.8/dist-packages/sklearn/metrics/_classification.py:1318: UndefinedMetricWarning: Precision is ill-defined and being set to 0.0 due to no predicted samples. Use `zero_division` parameter to control this behavior.\n",
      "  _warn_prf(average, modifier, msg_start, len(result))\n"
     ]
    },
    {
     "name": "stdout",
     "output_type": "stream",
     "text": [
      "1/1 [==============================] - 0s 44ms/step\n",
      "[CV] END batch_size=2, dropout_rate=0.4, epochs=100, hidden_units=256, learning_rate=0.05; total time=   4.7s\n"
     ]
    },
    {
     "name": "stderr",
     "output_type": "stream",
     "text": [
      "/usr/local/lib/python3.8/dist-packages/sklearn/metrics/_classification.py:1318: UndefinedMetricWarning: Precision is ill-defined and being set to 0.0 due to no predicted samples. Use `zero_division` parameter to control this behavior.\n",
      "  _warn_prf(average, modifier, msg_start, len(result))\n"
     ]
    },
    {
     "name": "stdout",
     "output_type": "stream",
     "text": [
      "1/1 [==============================] - 0s 45ms/step\n",
      "[CV] END batch_size=2, dropout_rate=0.4, epochs=100, hidden_units=256, learning_rate=0.05; total time=   4.6s\n"
     ]
    },
    {
     "name": "stderr",
     "output_type": "stream",
     "text": [
      "/usr/local/lib/python3.8/dist-packages/sklearn/metrics/_classification.py:1318: UndefinedMetricWarning: Precision is ill-defined and being set to 0.0 due to no predicted samples. Use `zero_division` parameter to control this behavior.\n",
      "  _warn_prf(average, modifier, msg_start, len(result))\n"
     ]
    },
    {
     "name": "stdout",
     "output_type": "stream",
     "text": [
      "1/1 [==============================] - 0s 42ms/step\n",
      "[CV] END batch_size=1, dropout_rate=0.6, epochs=100, hidden_units=256, learning_rate=0.005; total time=   7.4s\n",
      "1/1 [==============================] - 0s 41ms/step\n",
      "[CV] END batch_size=1, dropout_rate=0.6, epochs=100, hidden_units=256, learning_rate=0.005; total time=   8.3s\n",
      "1/1 [==============================] - 0s 42ms/step\n",
      "[CV] END batch_size=1, dropout_rate=0.6, epochs=100, hidden_units=256, learning_rate=0.005; total time=   7.7s\n",
      "1/1 [==============================] - 0s 40ms/step\n",
      "[CV] END batch_size=1, dropout_rate=0.6, epochs=100, hidden_units=128, learning_rate=0.1; total time=   7.7s\n"
     ]
    },
    {
     "name": "stderr",
     "output_type": "stream",
     "text": [
      "/usr/local/lib/python3.8/dist-packages/sklearn/metrics/_classification.py:1318: UndefinedMetricWarning: Precision is ill-defined and being set to 0.0 due to no predicted samples. Use `zero_division` parameter to control this behavior.\n",
      "  _warn_prf(average, modifier, msg_start, len(result))\n"
     ]
    },
    {
     "name": "stdout",
     "output_type": "stream",
     "text": [
      "1/1 [==============================] - 0s 40ms/step\n",
      "[CV] END batch_size=1, dropout_rate=0.6, epochs=100, hidden_units=128, learning_rate=0.1; total time=   7.2s\n"
     ]
    },
    {
     "name": "stderr",
     "output_type": "stream",
     "text": [
      "/usr/local/lib/python3.8/dist-packages/sklearn/metrics/_classification.py:1318: UndefinedMetricWarning: Precision is ill-defined and being set to 0.0 due to no predicted samples. Use `zero_division` parameter to control this behavior.\n",
      "  _warn_prf(average, modifier, msg_start, len(result))\n"
     ]
    },
    {
     "name": "stdout",
     "output_type": "stream",
     "text": [
      "1/1 [==============================] - 0s 40ms/step\n",
      "[CV] END batch_size=1, dropout_rate=0.6, epochs=100, hidden_units=128, learning_rate=0.1; total time=   7.5s\n"
     ]
    },
    {
     "name": "stderr",
     "output_type": "stream",
     "text": [
      "/usr/local/lib/python3.8/dist-packages/sklearn/metrics/_classification.py:1318: UndefinedMetricWarning: Precision is ill-defined and being set to 0.0 due to no predicted samples. Use `zero_division` parameter to control this behavior.\n",
      "  _warn_prf(average, modifier, msg_start, len(result))\n"
     ]
    },
    {
     "name": "stdout",
     "output_type": "stream",
     "text": [
      "1/1 [==============================] - 0s 39ms/step\n",
      "[CV] END batch_size=1, dropout_rate=0.6, epochs=100, hidden_units=256, learning_rate=0.001; total time=   7.6s\n",
      "1/1 [==============================] - 0s 39ms/step\n",
      "[CV] END batch_size=1, dropout_rate=0.6, epochs=100, hidden_units=256, learning_rate=0.001; total time=   7.4s\n",
      "1/1 [==============================] - 0s 50ms/step\n",
      "[CV] END batch_size=1, dropout_rate=0.6, epochs=100, hidden_units=256, learning_rate=0.001; total time=   7.5s\n",
      "1/1 [==============================] - 0s 41ms/step\n",
      "[CV] END batch_size=8, dropout_rate=0.5, epochs=100, hidden_units=256, learning_rate=0.05; total time=   2.8s\n"
     ]
    },
    {
     "name": "stderr",
     "output_type": "stream",
     "text": [
      "/usr/local/lib/python3.8/dist-packages/sklearn/metrics/_classification.py:1318: UndefinedMetricWarning: Precision is ill-defined and being set to 0.0 due to no predicted samples. Use `zero_division` parameter to control this behavior.\n",
      "  _warn_prf(average, modifier, msg_start, len(result))\n"
     ]
    },
    {
     "name": "stdout",
     "output_type": "stream",
     "text": [
      "1/1 [==============================] - 0s 48ms/step\n",
      "[CV] END batch_size=8, dropout_rate=0.5, epochs=100, hidden_units=256, learning_rate=0.05; total time=   3.6s\n"
     ]
    },
    {
     "name": "stderr",
     "output_type": "stream",
     "text": [
      "/usr/local/lib/python3.8/dist-packages/sklearn/metrics/_classification.py:1318: UndefinedMetricWarning: Precision is ill-defined and being set to 0.0 due to no predicted samples. Use `zero_division` parameter to control this behavior.\n",
      "  _warn_prf(average, modifier, msg_start, len(result))\n"
     ]
    },
    {
     "name": "stdout",
     "output_type": "stream",
     "text": [
      "1/1 [==============================] - 0s 45ms/step\n",
      "[CV] END batch_size=8, dropout_rate=0.5, epochs=100, hidden_units=256, learning_rate=0.05; total time=   2.8s\n"
     ]
    },
    {
     "name": "stderr",
     "output_type": "stream",
     "text": [
      "/usr/local/lib/python3.8/dist-packages/sklearn/metrics/_classification.py:1318: UndefinedMetricWarning: Precision is ill-defined and being set to 0.0 due to no predicted samples. Use `zero_division` parameter to control this behavior.\n",
      "  _warn_prf(average, modifier, msg_start, len(result))\n"
     ]
    },
    {
     "name": "stdout",
     "output_type": "stream",
     "text": [
      "1/1 [==============================] - 0s 48ms/step\n",
      "[CV] END batch_size=2, dropout_rate=0.4, epochs=100, hidden_units=64, learning_rate=0.005; total time=   4.6s\n",
      "1/1 [==============================] - 0s 43ms/step\n",
      "[CV] END batch_size=2, dropout_rate=0.4, epochs=100, hidden_units=64, learning_rate=0.005; total time=   5.1s\n",
      "1/1 [==============================] - 0s 42ms/step\n",
      "[CV] END batch_size=2, dropout_rate=0.4, epochs=100, hidden_units=64, learning_rate=0.005; total time=   4.6s\n",
      "1/1 [==============================] - 0s 40ms/step\n",
      "[CV] END batch_size=1, dropout_rate=0.5, epochs=100, hidden_units=256, learning_rate=0.05; total time=   7.6s\n"
     ]
    },
    {
     "name": "stderr",
     "output_type": "stream",
     "text": [
      "/usr/local/lib/python3.8/dist-packages/sklearn/metrics/_classification.py:1318: UndefinedMetricWarning: Precision is ill-defined and being set to 0.0 due to no predicted samples. Use `zero_division` parameter to control this behavior.\n",
      "  _warn_prf(average, modifier, msg_start, len(result))\n"
     ]
    },
    {
     "name": "stdout",
     "output_type": "stream",
     "text": [
      "1/1 [==============================] - 0s 40ms/step\n",
      "[CV] END batch_size=1, dropout_rate=0.5, epochs=100, hidden_units=256, learning_rate=0.05; total time=   7.6s\n"
     ]
    },
    {
     "name": "stderr",
     "output_type": "stream",
     "text": [
      "/usr/local/lib/python3.8/dist-packages/sklearn/metrics/_classification.py:1318: UndefinedMetricWarning: Precision is ill-defined and being set to 0.0 due to no predicted samples. Use `zero_division` parameter to control this behavior.\n",
      "  _warn_prf(average, modifier, msg_start, len(result))\n"
     ]
    },
    {
     "name": "stdout",
     "output_type": "stream",
     "text": [
      "1/1 [==============================] - 0s 40ms/step\n",
      "[CV] END batch_size=1, dropout_rate=0.5, epochs=100, hidden_units=256, learning_rate=0.05; total time=   7.6s\n"
     ]
    },
    {
     "name": "stderr",
     "output_type": "stream",
     "text": [
      "/usr/local/lib/python3.8/dist-packages/sklearn/metrics/_classification.py:1318: UndefinedMetricWarning: Precision is ill-defined and being set to 0.0 due to no predicted samples. Use `zero_division` parameter to control this behavior.\n",
      "  _warn_prf(average, modifier, msg_start, len(result))\n"
     ]
    },
    {
     "name": "stdout",
     "output_type": "stream",
     "text": [
      "1/1 [==============================] - 0s 41ms/step\n",
      "[CV] END batch_size=4, dropout_rate=0.6, epochs=100, hidden_units=128, learning_rate=0.05; total time=   3.6s\n"
     ]
    },
    {
     "name": "stderr",
     "output_type": "stream",
     "text": [
      "/usr/local/lib/python3.8/dist-packages/sklearn/metrics/_classification.py:1318: UndefinedMetricWarning: Precision is ill-defined and being set to 0.0 due to no predicted samples. Use `zero_division` parameter to control this behavior.\n",
      "  _warn_prf(average, modifier, msg_start, len(result))\n"
     ]
    },
    {
     "name": "stdout",
     "output_type": "stream",
     "text": [
      "1/1 [==============================] - 0s 42ms/step\n",
      "[CV] END batch_size=4, dropout_rate=0.6, epochs=100, hidden_units=128, learning_rate=0.05; total time=   3.6s\n"
     ]
    },
    {
     "name": "stderr",
     "output_type": "stream",
     "text": [
      "/usr/local/lib/python3.8/dist-packages/sklearn/metrics/_classification.py:1318: UndefinedMetricWarning: Precision is ill-defined and being set to 0.0 due to no predicted samples. Use `zero_division` parameter to control this behavior.\n",
      "  _warn_prf(average, modifier, msg_start, len(result))\n"
     ]
    },
    {
     "name": "stdout",
     "output_type": "stream",
     "text": [
      "1/1 [==============================] - 0s 38ms/step\n",
      "[CV] END batch_size=4, dropout_rate=0.6, epochs=100, hidden_units=128, learning_rate=0.05; total time=   3.5s\n"
     ]
    },
    {
     "name": "stderr",
     "output_type": "stream",
     "text": [
      "/usr/local/lib/python3.8/dist-packages/sklearn/metrics/_classification.py:1318: UndefinedMetricWarning: Precision is ill-defined and being set to 0.0 due to no predicted samples. Use `zero_division` parameter to control this behavior.\n",
      "  _warn_prf(average, modifier, msg_start, len(result))\n"
     ]
    },
    {
     "name": "stdout",
     "output_type": "stream",
     "text": [
      "1/1 [==============================] - 0s 38ms/step\n",
      "[CV] END batch_size=4, dropout_rate=0.6, epochs=100, hidden_units=512, learning_rate=0.01; total time=   3.3s\n",
      "1/1 [==============================] - 0s 41ms/step\n",
      "[CV] END batch_size=4, dropout_rate=0.6, epochs=100, hidden_units=512, learning_rate=0.01; total time=   3.5s\n",
      "1/1 [==============================] - 0s 48ms/step\n",
      "[CV] END batch_size=4, dropout_rate=0.6, epochs=100, hidden_units=512, learning_rate=0.01; total time=   4.2s\n",
      "1/1 [==============================] - 0s 55ms/step\n",
      "[CV] END batch_size=4, dropout_rate=0.5, epochs=100, hidden_units=512, learning_rate=0.1; total time=   4.5s\n"
     ]
    },
    {
     "name": "stderr",
     "output_type": "stream",
     "text": [
      "/usr/local/lib/python3.8/dist-packages/sklearn/metrics/_classification.py:1318: UndefinedMetricWarning: Precision is ill-defined and being set to 0.0 due to no predicted samples. Use `zero_division` parameter to control this behavior.\n",
      "  _warn_prf(average, modifier, msg_start, len(result))\n"
     ]
    },
    {
     "name": "stdout",
     "output_type": "stream",
     "text": [
      "1/1 [==============================] - 0s 41ms/step\n",
      "[CV] END batch_size=4, dropout_rate=0.5, epochs=100, hidden_units=512, learning_rate=0.1; total time=   4.7s\n"
     ]
    },
    {
     "name": "stderr",
     "output_type": "stream",
     "text": [
      "/usr/local/lib/python3.8/dist-packages/sklearn/metrics/_classification.py:1318: UndefinedMetricWarning: Precision is ill-defined and being set to 0.0 due to no predicted samples. Use `zero_division` parameter to control this behavior.\n",
      "  _warn_prf(average, modifier, msg_start, len(result))\n"
     ]
    },
    {
     "name": "stdout",
     "output_type": "stream",
     "text": [
      "1/1 [==============================] - 0s 44ms/step\n",
      "[CV] END batch_size=4, dropout_rate=0.5, epochs=100, hidden_units=512, learning_rate=0.1; total time=   4.1s\n"
     ]
    },
    {
     "name": "stderr",
     "output_type": "stream",
     "text": [
      "/usr/local/lib/python3.8/dist-packages/sklearn/metrics/_classification.py:1318: UndefinedMetricWarning: Precision is ill-defined and being set to 0.0 due to no predicted samples. Use `zero_division` parameter to control this behavior.\n",
      "  _warn_prf(average, modifier, msg_start, len(result))\n"
     ]
    },
    {
     "name": "stdout",
     "output_type": "stream",
     "text": [
      "1/1 [==============================] - 0s 55ms/step\n",
      "[CV] END batch_size=2, dropout_rate=0.5, epochs=100, hidden_units=128, learning_rate=0.05; total time=   5.4s\n"
     ]
    },
    {
     "name": "stderr",
     "output_type": "stream",
     "text": [
      "/usr/local/lib/python3.8/dist-packages/sklearn/metrics/_classification.py:1318: UndefinedMetricWarning: Precision is ill-defined and being set to 0.0 due to no predicted samples. Use `zero_division` parameter to control this behavior.\n",
      "  _warn_prf(average, modifier, msg_start, len(result))\n"
     ]
    },
    {
     "name": "stdout",
     "output_type": "stream",
     "text": [
      "1/1 [==============================] - 0s 84ms/step\n",
      "[CV] END batch_size=2, dropout_rate=0.5, epochs=100, hidden_units=128, learning_rate=0.05; total time=   6.7s\n"
     ]
    },
    {
     "name": "stderr",
     "output_type": "stream",
     "text": [
      "/usr/local/lib/python3.8/dist-packages/sklearn/metrics/_classification.py:1318: UndefinedMetricWarning: Precision is ill-defined and being set to 0.0 due to no predicted samples. Use `zero_division` parameter to control this behavior.\n",
      "  _warn_prf(average, modifier, msg_start, len(result))\n"
     ]
    },
    {
     "name": "stdout",
     "output_type": "stream",
     "text": [
      "1/1 [==============================] - 0s 51ms/step\n",
      "[CV] END batch_size=2, dropout_rate=0.5, epochs=100, hidden_units=128, learning_rate=0.05; total time=   5.3s\n"
     ]
    },
    {
     "name": "stderr",
     "output_type": "stream",
     "text": [
      "/usr/local/lib/python3.8/dist-packages/sklearn/metrics/_classification.py:1318: UndefinedMetricWarning: Precision is ill-defined and being set to 0.0 due to no predicted samples. Use `zero_division` parameter to control this behavior.\n",
      "  _warn_prf(average, modifier, msg_start, len(result))\n"
     ]
    },
    {
     "name": "stdout",
     "output_type": "stream",
     "text": [
      "1/1 [==============================] - 0s 49ms/step\n",
      "[CV] END batch_size=16, dropout_rate=0.5, epochs=100, hidden_units=256, learning_rate=0.001; total time=   2.8s\n",
      "1/1 [==============================] - 0s 48ms/step\n",
      "[CV] END batch_size=16, dropout_rate=0.5, epochs=100, hidden_units=256, learning_rate=0.001; total time=   2.5s\n",
      "1/1 [==============================] - 0s 41ms/step\n",
      "[CV] END batch_size=16, dropout_rate=0.5, epochs=100, hidden_units=256, learning_rate=0.001; total time=   2.5s\n",
      "1/1 [==============================] - 0s 47ms/step\n",
      "[CV] END batch_size=8, dropout_rate=0.6, epochs=100, hidden_units=512, learning_rate=0.005; total time=   2.9s\n",
      "1/1 [==============================] - 0s 46ms/step\n",
      "[CV] END batch_size=8, dropout_rate=0.6, epochs=100, hidden_units=512, learning_rate=0.005; total time=   2.8s\n",
      "1/1 [==============================] - 0s 39ms/step\n",
      "[CV] END batch_size=8, dropout_rate=0.6, epochs=100, hidden_units=512, learning_rate=0.005; total time=   2.7s\n",
      "1/1 [==============================] - 0s 42ms/step\n",
      "[CV] END batch_size=1, dropout_rate=0.4, epochs=100, hidden_units=256, learning_rate=0.005; total time=   7.4s\n",
      "1/1 [==============================] - 0s 41ms/step\n",
      "[CV] END batch_size=1, dropout_rate=0.4, epochs=100, hidden_units=256, learning_rate=0.005; total time=   7.5s\n",
      "1/1 [==============================] - 0s 39ms/step\n",
      "[CV] END batch_size=1, dropout_rate=0.4, epochs=100, hidden_units=256, learning_rate=0.005; total time=   7.7s\n",
      "1/1 [==============================] - 0s 39ms/step\n",
      "[CV] END batch_size=16, dropout_rate=0.4, epochs=100, hidden_units=512, learning_rate=0.005; total time=   2.3s\n",
      "1/1 [==============================] - 0s 42ms/step\n",
      "[CV] END batch_size=16, dropout_rate=0.4, epochs=100, hidden_units=512, learning_rate=0.005; total time=   2.6s\n",
      "1/1 [==============================] - 0s 42ms/step\n",
      "[CV] END batch_size=16, dropout_rate=0.4, epochs=100, hidden_units=512, learning_rate=0.005; total time=   2.5s\n",
      "1/1 [==============================] - 0s 42ms/step\n",
      "[CV] END batch_size=16, dropout_rate=0.6, epochs=100, hidden_units=512, learning_rate=0.01; total time=   2.5s\n",
      "1/1 [==============================] - 0s 39ms/step\n",
      "[CV] END batch_size=16, dropout_rate=0.6, epochs=100, hidden_units=512, learning_rate=0.01; total time=   2.5s\n",
      "1/1 [==============================] - 0s 57ms/step\n",
      "[CV] END batch_size=16, dropout_rate=0.6, epochs=100, hidden_units=512, learning_rate=0.01; total time=   2.5s\n",
      "1/1 [==============================] - 0s 51ms/step\n",
      "[CV] END batch_size=1, dropout_rate=0.6, epochs=100, hidden_units=512, learning_rate=0.1; total time=   8.1s\n"
     ]
    },
    {
     "name": "stderr",
     "output_type": "stream",
     "text": [
      "/usr/local/lib/python3.8/dist-packages/sklearn/metrics/_classification.py:1318: UndefinedMetricWarning: Precision is ill-defined and being set to 0.0 due to no predicted samples. Use `zero_division` parameter to control this behavior.\n",
      "  _warn_prf(average, modifier, msg_start, len(result))\n"
     ]
    },
    {
     "name": "stdout",
     "output_type": "stream",
     "text": [
      "1/1 [==============================] - 0s 56ms/step\n",
      "[CV] END batch_size=1, dropout_rate=0.6, epochs=100, hidden_units=512, learning_rate=0.1; total time=   8.4s\n"
     ]
    },
    {
     "name": "stderr",
     "output_type": "stream",
     "text": [
      "/usr/local/lib/python3.8/dist-packages/sklearn/metrics/_classification.py:1318: UndefinedMetricWarning: Precision is ill-defined and being set to 0.0 due to no predicted samples. Use `zero_division` parameter to control this behavior.\n",
      "  _warn_prf(average, modifier, msg_start, len(result))\n"
     ]
    },
    {
     "name": "stdout",
     "output_type": "stream",
     "text": [
      "1/1 [==============================] - 0s 47ms/step\n",
      "[CV] END batch_size=1, dropout_rate=0.6, epochs=100, hidden_units=512, learning_rate=0.1; total time=   7.7s\n"
     ]
    },
    {
     "name": "stderr",
     "output_type": "stream",
     "text": [
      "/usr/local/lib/python3.8/dist-packages/sklearn/metrics/_classification.py:1318: UndefinedMetricWarning: Precision is ill-defined and being set to 0.0 due to no predicted samples. Use `zero_division` parameter to control this behavior.\n",
      "  _warn_prf(average, modifier, msg_start, len(result))\n"
     ]
    },
    {
     "name": "stdout",
     "output_type": "stream",
     "text": [
      "1/1 [==============================] - 0s 42ms/step\n",
      "[CV] END batch_size=16, dropout_rate=0.6, epochs=100, hidden_units=64, learning_rate=0.05; total time=   2.4s\n"
     ]
    },
    {
     "name": "stderr",
     "output_type": "stream",
     "text": [
      "/usr/local/lib/python3.8/dist-packages/sklearn/metrics/_classification.py:1318: UndefinedMetricWarning: Precision is ill-defined and being set to 0.0 due to no predicted samples. Use `zero_division` parameter to control this behavior.\n",
      "  _warn_prf(average, modifier, msg_start, len(result))\n"
     ]
    },
    {
     "name": "stdout",
     "output_type": "stream",
     "text": [
      "1/1 [==============================] - 0s 42ms/step\n",
      "[CV] END batch_size=16, dropout_rate=0.6, epochs=100, hidden_units=64, learning_rate=0.05; total time=   2.4s\n"
     ]
    },
    {
     "name": "stderr",
     "output_type": "stream",
     "text": [
      "/usr/local/lib/python3.8/dist-packages/sklearn/metrics/_classification.py:1318: UndefinedMetricWarning: Precision is ill-defined and being set to 0.0 due to no predicted samples. Use `zero_division` parameter to control this behavior.\n",
      "  _warn_prf(average, modifier, msg_start, len(result))\n"
     ]
    },
    {
     "name": "stdout",
     "output_type": "stream",
     "text": [
      "1/1 [==============================] - 0s 46ms/step\n",
      "[CV] END batch_size=16, dropout_rate=0.6, epochs=100, hidden_units=64, learning_rate=0.05; total time=   2.4s\n"
     ]
    },
    {
     "name": "stderr",
     "output_type": "stream",
     "text": [
      "/usr/local/lib/python3.8/dist-packages/sklearn/metrics/_classification.py:1318: UndefinedMetricWarning: Precision is ill-defined and being set to 0.0 due to no predicted samples. Use `zero_division` parameter to control this behavior.\n",
      "  _warn_prf(average, modifier, msg_start, len(result))\n"
     ]
    },
    {
     "name": "stdout",
     "output_type": "stream",
     "text": [
      "1/1 [==============================] - 0s 43ms/step\n",
      "[CV] END batch_size=8, dropout_rate=0.4, epochs=100, hidden_units=128, learning_rate=0.01; total time=   2.7s\n",
      "1/1 [==============================] - 0s 39ms/step\n",
      "[CV] END batch_size=8, dropout_rate=0.4, epochs=100, hidden_units=128, learning_rate=0.01; total time=   2.7s\n",
      "1/1 [==============================] - 0s 41ms/step\n",
      "[CV] END batch_size=8, dropout_rate=0.4, epochs=100, hidden_units=128, learning_rate=0.01; total time=   2.7s\n",
      "1/1 [==============================] - 0s 39ms/step\n",
      "[CV] END batch_size=2, dropout_rate=0.4, epochs=100, hidden_units=256, learning_rate=0.1; total time=   4.5s\n"
     ]
    },
    {
     "name": "stderr",
     "output_type": "stream",
     "text": [
      "/usr/local/lib/python3.8/dist-packages/sklearn/metrics/_classification.py:1318: UndefinedMetricWarning: Precision is ill-defined and being set to 0.0 due to no predicted samples. Use `zero_division` parameter to control this behavior.\n",
      "  _warn_prf(average, modifier, msg_start, len(result))\n"
     ]
    },
    {
     "name": "stdout",
     "output_type": "stream",
     "text": [
      "1/1 [==============================] - 0s 43ms/step\n",
      "[CV] END batch_size=2, dropout_rate=0.4, epochs=100, hidden_units=256, learning_rate=0.1; total time=   4.5s\n"
     ]
    },
    {
     "name": "stderr",
     "output_type": "stream",
     "text": [
      "/usr/local/lib/python3.8/dist-packages/sklearn/metrics/_classification.py:1318: UndefinedMetricWarning: Precision is ill-defined and being set to 0.0 due to no predicted samples. Use `zero_division` parameter to control this behavior.\n",
      "  _warn_prf(average, modifier, msg_start, len(result))\n"
     ]
    },
    {
     "name": "stdout",
     "output_type": "stream",
     "text": [
      "1/1 [==============================] - 0s 40ms/step\n",
      "[CV] END batch_size=2, dropout_rate=0.4, epochs=100, hidden_units=256, learning_rate=0.1; total time=   4.4s\n"
     ]
    },
    {
     "name": "stderr",
     "output_type": "stream",
     "text": [
      "/usr/local/lib/python3.8/dist-packages/sklearn/metrics/_classification.py:1318: UndefinedMetricWarning: Precision is ill-defined and being set to 0.0 due to no predicted samples. Use `zero_division` parameter to control this behavior.\n",
      "  _warn_prf(average, modifier, msg_start, len(result))\n"
     ]
    },
    {
     "name": "stdout",
     "output_type": "stream",
     "text": [
      "1/1 [==============================] - 0s 40ms/step\n",
      "[CV] END batch_size=8, dropout_rate=0.6, epochs=100, hidden_units=512, learning_rate=0.01; total time=   2.7s\n",
      "1/1 [==============================] - 0s 40ms/step\n",
      "[CV] END batch_size=8, dropout_rate=0.6, epochs=100, hidden_units=512, learning_rate=0.01; total time=   2.9s\n",
      "1/1 [==============================] - 0s 41ms/step\n",
      "[CV] END batch_size=8, dropout_rate=0.6, epochs=100, hidden_units=512, learning_rate=0.01; total time=   3.0s\n",
      "1/1 [==============================] - 0s 41ms/step\n",
      "[CV] END batch_size=4, dropout_rate=0.4, epochs=100, hidden_units=128, learning_rate=0.01; total time=   3.9s\n",
      "1/1 [==============================] - 0s 43ms/step\n",
      "[CV] END batch_size=4, dropout_rate=0.4, epochs=100, hidden_units=128, learning_rate=0.01; total time=   3.7s\n",
      "1/1 [==============================] - 0s 50ms/step\n",
      "[CV] END batch_size=4, dropout_rate=0.4, epochs=100, hidden_units=128, learning_rate=0.01; total time=   4.6s\n",
      "1/1 [==============================] - 0s 48ms/step\n",
      "[CV] END batch_size=1, dropout_rate=0.4, epochs=100, hidden_units=128, learning_rate=0.01; total time=   7.5s\n"
     ]
    },
    {
     "name": "stderr",
     "output_type": "stream",
     "text": [
      "/usr/local/lib/python3.8/dist-packages/sklearn/metrics/_classification.py:1318: UndefinedMetricWarning: Precision is ill-defined and being set to 0.0 due to no predicted samples. Use `zero_division` parameter to control this behavior.\n",
      "  _warn_prf(average, modifier, msg_start, len(result))\n"
     ]
    },
    {
     "name": "stdout",
     "output_type": "stream",
     "text": [
      "1/1 [==============================] - 0s 47ms/step\n",
      "[CV] END batch_size=1, dropout_rate=0.4, epochs=100, hidden_units=128, learning_rate=0.01; total time=   7.5s\n",
      "1/1 [==============================] - 0s 44ms/step\n",
      "[CV] END batch_size=1, dropout_rate=0.4, epochs=100, hidden_units=128, learning_rate=0.01; total time=   7.6s\n"
     ]
    },
    {
     "name": "stderr",
     "output_type": "stream",
     "text": [
      "/usr/local/lib/python3.8/dist-packages/sklearn/metrics/_classification.py:1318: UndefinedMetricWarning: Precision is ill-defined and being set to 0.0 due to no predicted samples. Use `zero_division` parameter to control this behavior.\n",
      "  _warn_prf(average, modifier, msg_start, len(result))\n"
     ]
    },
    {
     "name": "stdout",
     "output_type": "stream",
     "text": [
      "1/1 [==============================] - 0s 41ms/step\n",
      "[CV] END batch_size=2, dropout_rate=0.5, epochs=100, hidden_units=64, learning_rate=0.001; total time=   4.8s\n",
      "1/1 [==============================] - 0s 40ms/step\n",
      "[CV] END batch_size=2, dropout_rate=0.5, epochs=100, hidden_units=64, learning_rate=0.001; total time=   4.8s\n",
      "1/1 [==============================] - 0s 39ms/step\n",
      "[CV] END batch_size=2, dropout_rate=0.5, epochs=100, hidden_units=64, learning_rate=0.001; total time=   4.4s\n",
      "1/1 [==============================] - 0s 40ms/step\n",
      "[CV] END batch_size=1, dropout_rate=0.5, epochs=100, hidden_units=128, learning_rate=0.05; total time=   7.4s\n"
     ]
    },
    {
     "name": "stderr",
     "output_type": "stream",
     "text": [
      "/usr/local/lib/python3.8/dist-packages/sklearn/metrics/_classification.py:1318: UndefinedMetricWarning: Precision is ill-defined and being set to 0.0 due to no predicted samples. Use `zero_division` parameter to control this behavior.\n",
      "  _warn_prf(average, modifier, msg_start, len(result))\n"
     ]
    },
    {
     "name": "stdout",
     "output_type": "stream",
     "text": [
      "1/1 [==============================] - 0s 40ms/step\n",
      "[CV] END batch_size=1, dropout_rate=0.5, epochs=100, hidden_units=128, learning_rate=0.05; total time=   7.5s\n"
     ]
    },
    {
     "name": "stderr",
     "output_type": "stream",
     "text": [
      "/usr/local/lib/python3.8/dist-packages/sklearn/metrics/_classification.py:1318: UndefinedMetricWarning: Precision is ill-defined and being set to 0.0 due to no predicted samples. Use `zero_division` parameter to control this behavior.\n",
      "  _warn_prf(average, modifier, msg_start, len(result))\n"
     ]
    },
    {
     "name": "stdout",
     "output_type": "stream",
     "text": [
      "1/1 [==============================] - 0s 41ms/step\n",
      "[CV] END batch_size=1, dropout_rate=0.5, epochs=100, hidden_units=128, learning_rate=0.05; total time=   7.6s\n"
     ]
    },
    {
     "name": "stderr",
     "output_type": "stream",
     "text": [
      "/usr/local/lib/python3.8/dist-packages/sklearn/metrics/_classification.py:1318: UndefinedMetricWarning: Precision is ill-defined and being set to 0.0 due to no predicted samples. Use `zero_division` parameter to control this behavior.\n",
      "  _warn_prf(average, modifier, msg_start, len(result))\n"
     ]
    },
    {
     "name": "stdout",
     "output_type": "stream",
     "text": [
      "1/1 [==============================] - 0s 41ms/step\n",
      "[CV] END batch_size=16, dropout_rate=0.6, epochs=100, hidden_units=64, learning_rate=0.005; total time=   2.5s\n",
      "1/1 [==============================] - 0s 39ms/step\n",
      "[CV] END batch_size=16, dropout_rate=0.6, epochs=100, hidden_units=64, learning_rate=0.005; total time=   2.3s\n",
      "1/1 [==============================] - 0s 40ms/step\n",
      "[CV] END batch_size=16, dropout_rate=0.6, epochs=100, hidden_units=64, learning_rate=0.005; total time=   2.4s\n",
      "1/1 [==============================] - 0s 39ms/step\n",
      "[CV] END batch_size=16, dropout_rate=0.5, epochs=100, hidden_units=64, learning_rate=0.01; total time=   2.4s\n",
      "1/1 [==============================] - 0s 42ms/step\n",
      "[CV] END batch_size=16, dropout_rate=0.5, epochs=100, hidden_units=64, learning_rate=0.01; total time=   2.4s\n",
      "1/1 [==============================] - 0s 38ms/step\n",
      "[CV] END batch_size=16, dropout_rate=0.5, epochs=100, hidden_units=64, learning_rate=0.01; total time=   2.3s\n",
      "1/1 [==============================] - 0s 40ms/step\n",
      "[CV] END batch_size=16, dropout_rate=0.4, epochs=100, hidden_units=512, learning_rate=0.05; total time=   2.3s\n"
     ]
    },
    {
     "name": "stderr",
     "output_type": "stream",
     "text": [
      "/usr/local/lib/python3.8/dist-packages/sklearn/metrics/_classification.py:1318: UndefinedMetricWarning: Precision is ill-defined and being set to 0.0 due to no predicted samples. Use `zero_division` parameter to control this behavior.\n",
      "  _warn_prf(average, modifier, msg_start, len(result))\n"
     ]
    },
    {
     "name": "stdout",
     "output_type": "stream",
     "text": [
      "1/1 [==============================] - 0s 39ms/step\n",
      "[CV] END batch_size=16, dropout_rate=0.4, epochs=100, hidden_units=512, learning_rate=0.05; total time=   2.3s\n"
     ]
    },
    {
     "name": "stderr",
     "output_type": "stream",
     "text": [
      "/usr/local/lib/python3.8/dist-packages/sklearn/metrics/_classification.py:1318: UndefinedMetricWarning: Precision is ill-defined and being set to 0.0 due to no predicted samples. Use `zero_division` parameter to control this behavior.\n",
      "  _warn_prf(average, modifier, msg_start, len(result))\n"
     ]
    },
    {
     "name": "stdout",
     "output_type": "stream",
     "text": [
      "1/1 [==============================] - 0s 53ms/step\n",
      "[CV] END batch_size=16, dropout_rate=0.4, epochs=100, hidden_units=512, learning_rate=0.05; total time=   3.2s\n"
     ]
    },
    {
     "name": "stderr",
     "output_type": "stream",
     "text": [
      "/usr/local/lib/python3.8/dist-packages/sklearn/metrics/_classification.py:1318: UndefinedMetricWarning: Precision is ill-defined and being set to 0.0 due to no predicted samples. Use `zero_division` parameter to control this behavior.\n",
      "  _warn_prf(average, modifier, msg_start, len(result))\n"
     ]
    },
    {
     "name": "stdout",
     "output_type": "stream",
     "text": [
      "1/1 [==============================] - 0s 47ms/step\n",
      "[CV] END batch_size=2, dropout_rate=0.4, epochs=100, hidden_units=512, learning_rate=0.05; total time=   4.7s\n"
     ]
    },
    {
     "name": "stderr",
     "output_type": "stream",
     "text": [
      "/usr/local/lib/python3.8/dist-packages/sklearn/metrics/_classification.py:1318: UndefinedMetricWarning: Precision is ill-defined and being set to 0.0 due to no predicted samples. Use `zero_division` parameter to control this behavior.\n",
      "  _warn_prf(average, modifier, msg_start, len(result))\n"
     ]
    },
    {
     "name": "stdout",
     "output_type": "stream",
     "text": [
      "1/1 [==============================] - 0s 44ms/step\n",
      "[CV] END batch_size=2, dropout_rate=0.4, epochs=100, hidden_units=512, learning_rate=0.05; total time=   4.9s\n"
     ]
    },
    {
     "name": "stderr",
     "output_type": "stream",
     "text": [
      "/usr/local/lib/python3.8/dist-packages/sklearn/metrics/_classification.py:1318: UndefinedMetricWarning: Precision is ill-defined and being set to 0.0 due to no predicted samples. Use `zero_division` parameter to control this behavior.\n",
      "  _warn_prf(average, modifier, msg_start, len(result))\n"
     ]
    },
    {
     "name": "stdout",
     "output_type": "stream",
     "text": [
      "1/1 [==============================] - 0s 44ms/step\n",
      "[CV] END batch_size=2, dropout_rate=0.4, epochs=100, hidden_units=512, learning_rate=0.05; total time=   4.7s\n"
     ]
    },
    {
     "name": "stderr",
     "output_type": "stream",
     "text": [
      "/usr/local/lib/python3.8/dist-packages/sklearn/metrics/_classification.py:1318: UndefinedMetricWarning: Precision is ill-defined and being set to 0.0 due to no predicted samples. Use `zero_division` parameter to control this behavior.\n",
      "  _warn_prf(average, modifier, msg_start, len(result))\n"
     ]
    },
    {
     "name": "stdout",
     "output_type": "stream",
     "text": [
      "1/1 [==============================] - 0s 41ms/step\n",
      "[CV] END batch_size=2, dropout_rate=0.4, epochs=100, hidden_units=64, learning_rate=0.05; total time=   4.7s\n"
     ]
    },
    {
     "name": "stderr",
     "output_type": "stream",
     "text": [
      "/usr/local/lib/python3.8/dist-packages/sklearn/metrics/_classification.py:1318: UndefinedMetricWarning: Precision is ill-defined and being set to 0.0 due to no predicted samples. Use `zero_division` parameter to control this behavior.\n",
      "  _warn_prf(average, modifier, msg_start, len(result))\n"
     ]
    },
    {
     "name": "stdout",
     "output_type": "stream",
     "text": [
      "1/1 [==============================] - 0s 43ms/step\n",
      "[CV] END batch_size=2, dropout_rate=0.4, epochs=100, hidden_units=64, learning_rate=0.05; total time=   4.7s\n"
     ]
    },
    {
     "name": "stderr",
     "output_type": "stream",
     "text": [
      "/usr/local/lib/python3.8/dist-packages/sklearn/metrics/_classification.py:1318: UndefinedMetricWarning: Precision is ill-defined and being set to 0.0 due to no predicted samples. Use `zero_division` parameter to control this behavior.\n",
      "  _warn_prf(average, modifier, msg_start, len(result))\n"
     ]
    },
    {
     "name": "stdout",
     "output_type": "stream",
     "text": [
      "1/1 [==============================] - 0s 41ms/step\n",
      "[CV] END batch_size=2, dropout_rate=0.4, epochs=100, hidden_units=64, learning_rate=0.05; total time=   4.6s\n"
     ]
    },
    {
     "name": "stderr",
     "output_type": "stream",
     "text": [
      "/usr/local/lib/python3.8/dist-packages/sklearn/metrics/_classification.py:1318: UndefinedMetricWarning: Precision is ill-defined and being set to 0.0 due to no predicted samples. Use `zero_division` parameter to control this behavior.\n",
      "  _warn_prf(average, modifier, msg_start, len(result))\n"
     ]
    },
    {
     "name": "stdout",
     "output_type": "stream",
     "text": [
      "1/1 [==============================] - 0s 40ms/step\n",
      "[CV] END batch_size=8, dropout_rate=0.6, epochs=100, hidden_units=256, learning_rate=0.001; total time=   2.7s\n",
      "1/1 [==============================] - 0s 42ms/step\n",
      "[CV] END batch_size=8, dropout_rate=0.6, epochs=100, hidden_units=256, learning_rate=0.001; total time=   2.7s\n",
      "1/1 [==============================] - 0s 40ms/step\n",
      "[CV] END batch_size=8, dropout_rate=0.6, epochs=100, hidden_units=256, learning_rate=0.001; total time=   2.7s\n",
      "1/1 [==============================] - 0s 39ms/step\n",
      "[CV] END batch_size=1, dropout_rate=0.5, epochs=100, hidden_units=512, learning_rate=0.05; total time=   7.4s\n"
     ]
    },
    {
     "name": "stderr",
     "output_type": "stream",
     "text": [
      "/usr/local/lib/python3.8/dist-packages/sklearn/metrics/_classification.py:1318: UndefinedMetricWarning: Precision is ill-defined and being set to 0.0 due to no predicted samples. Use `zero_division` parameter to control this behavior.\n",
      "  _warn_prf(average, modifier, msg_start, len(result))\n"
     ]
    },
    {
     "name": "stdout",
     "output_type": "stream",
     "text": [
      "1/1 [==============================] - 0s 40ms/step\n",
      "[CV] END batch_size=1, dropout_rate=0.5, epochs=100, hidden_units=512, learning_rate=0.05; total time=   7.4s\n"
     ]
    },
    {
     "name": "stderr",
     "output_type": "stream",
     "text": [
      "/usr/local/lib/python3.8/dist-packages/sklearn/metrics/_classification.py:1318: UndefinedMetricWarning: Precision is ill-defined and being set to 0.0 due to no predicted samples. Use `zero_division` parameter to control this behavior.\n",
      "  _warn_prf(average, modifier, msg_start, len(result))\n"
     ]
    },
    {
     "name": "stdout",
     "output_type": "stream",
     "text": [
      "1/1 [==============================] - 0s 41ms/step\n",
      "[CV] END batch_size=1, dropout_rate=0.5, epochs=100, hidden_units=512, learning_rate=0.05; total time=   7.9s\n",
      "1/1 [==============================] - 0s 40ms/step\n",
      "[CV] END batch_size=4, dropout_rate=0.4, epochs=100, hidden_units=128, learning_rate=0.005; total time=   3.7s\n",
      "1/1 [==============================] - 0s 40ms/step\n",
      "[CV] END batch_size=4, dropout_rate=0.4, epochs=100, hidden_units=128, learning_rate=0.005; total time=   3.6s\n",
      "1/1 [==============================] - 0s 40ms/step\n",
      "[CV] END batch_size=4, dropout_rate=0.4, epochs=100, hidden_units=128, learning_rate=0.005; total time=   3.9s\n",
      "1/1 [==============================] - 0s 42ms/step\n",
      "[CV] END batch_size=16, dropout_rate=0.6, epochs=100, hidden_units=64, learning_rate=0.1; total time=   2.6s\n"
     ]
    },
    {
     "name": "stderr",
     "output_type": "stream",
     "text": [
      "/usr/local/lib/python3.8/dist-packages/sklearn/metrics/_classification.py:1318: UndefinedMetricWarning: Precision is ill-defined and being set to 0.0 due to no predicted samples. Use `zero_division` parameter to control this behavior.\n",
      "  _warn_prf(average, modifier, msg_start, len(result))\n"
     ]
    },
    {
     "name": "stdout",
     "output_type": "stream",
     "text": [
      "1/1 [==============================] - 0s 53ms/step\n",
      "[CV] END batch_size=16, dropout_rate=0.6, epochs=100, hidden_units=64, learning_rate=0.1; total time=   3.5s\n"
     ]
    },
    {
     "name": "stderr",
     "output_type": "stream",
     "text": [
      "/usr/local/lib/python3.8/dist-packages/sklearn/metrics/_classification.py:1318: UndefinedMetricWarning: Precision is ill-defined and being set to 0.0 due to no predicted samples. Use `zero_division` parameter to control this behavior.\n",
      "  _warn_prf(average, modifier, msg_start, len(result))\n"
     ]
    },
    {
     "name": "stdout",
     "output_type": "stream",
     "text": [
      "1/1 [==============================] - 0s 51ms/step\n",
      "[CV] END batch_size=16, dropout_rate=0.6, epochs=100, hidden_units=64, learning_rate=0.1; total time=   2.8s\n"
     ]
    },
    {
     "name": "stderr",
     "output_type": "stream",
     "text": [
      "/usr/local/lib/python3.8/dist-packages/sklearn/metrics/_classification.py:1318: UndefinedMetricWarning: Precision is ill-defined and being set to 0.0 due to no predicted samples. Use `zero_division` parameter to control this behavior.\n",
      "  _warn_prf(average, modifier, msg_start, len(result))\n"
     ]
    },
    {
     "name": "stdout",
     "output_type": "stream",
     "text": [
      "1/1 [==============================] - 0s 49ms/step\n",
      "[CV] END batch_size=16, dropout_rate=0.4, epochs=100, hidden_units=64, learning_rate=0.05; total time=   2.7s\n"
     ]
    },
    {
     "name": "stderr",
     "output_type": "stream",
     "text": [
      "/usr/local/lib/python3.8/dist-packages/sklearn/metrics/_classification.py:1318: UndefinedMetricWarning: Precision is ill-defined and being set to 0.0 due to no predicted samples. Use `zero_division` parameter to control this behavior.\n",
      "  _warn_prf(average, modifier, msg_start, len(result))\n"
     ]
    },
    {
     "name": "stdout",
     "output_type": "stream",
     "text": [
      "1/1 [==============================] - 0s 48ms/step\n",
      "[CV] END batch_size=16, dropout_rate=0.4, epochs=100, hidden_units=64, learning_rate=0.05; total time=   2.6s\n"
     ]
    },
    {
     "name": "stderr",
     "output_type": "stream",
     "text": [
      "/usr/local/lib/python3.8/dist-packages/sklearn/metrics/_classification.py:1318: UndefinedMetricWarning: Precision is ill-defined and being set to 0.0 due to no predicted samples. Use `zero_division` parameter to control this behavior.\n",
      "  _warn_prf(average, modifier, msg_start, len(result))\n"
     ]
    },
    {
     "name": "stdout",
     "output_type": "stream",
     "text": [
      "1/1 [==============================] - 0s 43ms/step\n",
      "[CV] END batch_size=16, dropout_rate=0.4, epochs=100, hidden_units=64, learning_rate=0.05; total time=   2.6s\n"
     ]
    },
    {
     "name": "stderr",
     "output_type": "stream",
     "text": [
      "/usr/local/lib/python3.8/dist-packages/sklearn/metrics/_classification.py:1318: UndefinedMetricWarning: Precision is ill-defined and being set to 0.0 due to no predicted samples. Use `zero_division` parameter to control this behavior.\n",
      "  _warn_prf(average, modifier, msg_start, len(result))\n"
     ]
    },
    {
     "name": "stdout",
     "output_type": "stream",
     "text": [
      "1/1 [==============================] - 0s 41ms/step\n",
      "[CV] END batch_size=1, dropout_rate=0.6, epochs=100, hidden_units=256, learning_rate=0.1; total time=   7.6s\n"
     ]
    },
    {
     "name": "stderr",
     "output_type": "stream",
     "text": [
      "/usr/local/lib/python3.8/dist-packages/sklearn/metrics/_classification.py:1318: UndefinedMetricWarning: Precision is ill-defined and being set to 0.0 due to no predicted samples. Use `zero_division` parameter to control this behavior.\n",
      "  _warn_prf(average, modifier, msg_start, len(result))\n"
     ]
    },
    {
     "name": "stdout",
     "output_type": "stream",
     "text": [
      "1/1 [==============================] - 0s 39ms/step\n",
      "[CV] END batch_size=1, dropout_rate=0.6, epochs=100, hidden_units=256, learning_rate=0.1; total time=   7.3s\n"
     ]
    },
    {
     "name": "stderr",
     "output_type": "stream",
     "text": [
      "/usr/local/lib/python3.8/dist-packages/sklearn/metrics/_classification.py:1318: UndefinedMetricWarning: Precision is ill-defined and being set to 0.0 due to no predicted samples. Use `zero_division` parameter to control this behavior.\n",
      "  _warn_prf(average, modifier, msg_start, len(result))\n"
     ]
    },
    {
     "name": "stdout",
     "output_type": "stream",
     "text": [
      "1/1 [==============================] - 0s 40ms/step\n",
      "[CV] END batch_size=1, dropout_rate=0.6, epochs=100, hidden_units=256, learning_rate=0.1; total time=   7.2s\n"
     ]
    },
    {
     "name": "stderr",
     "output_type": "stream",
     "text": [
      "/usr/local/lib/python3.8/dist-packages/sklearn/metrics/_classification.py:1318: UndefinedMetricWarning: Precision is ill-defined and being set to 0.0 due to no predicted samples. Use `zero_division` parameter to control this behavior.\n",
      "  _warn_prf(average, modifier, msg_start, len(result))\n"
     ]
    },
    {
     "name": "stdout",
     "output_type": "stream",
     "text": [
      "1/1 [==============================] - 0s 43ms/step\n",
      "[CV] END batch_size=16, dropout_rate=0.5, epochs=100, hidden_units=256, learning_rate=0.01; total time=   2.3s\n",
      "1/1 [==============================] - 0s 42ms/step\n",
      "[CV] END batch_size=16, dropout_rate=0.5, epochs=100, hidden_units=256, learning_rate=0.01; total time=   2.3s\n",
      "1/1 [==============================] - 0s 39ms/step\n",
      "[CV] END batch_size=16, dropout_rate=0.5, epochs=100, hidden_units=256, learning_rate=0.01; total time=   2.4s\n",
      "1/1 [==============================] - 0s 40ms/step\n",
      "[CV] END batch_size=1, dropout_rate=0.5, epochs=100, hidden_units=64, learning_rate=0.1; total time=   7.1s\n"
     ]
    },
    {
     "name": "stderr",
     "output_type": "stream",
     "text": [
      "/usr/local/lib/python3.8/dist-packages/sklearn/metrics/_classification.py:1318: UndefinedMetricWarning: Precision is ill-defined and being set to 0.0 due to no predicted samples. Use `zero_division` parameter to control this behavior.\n",
      "  _warn_prf(average, modifier, msg_start, len(result))\n"
     ]
    },
    {
     "name": "stdout",
     "output_type": "stream",
     "text": [
      "1/1 [==============================] - 0s 40ms/step\n",
      "[CV] END batch_size=1, dropout_rate=0.5, epochs=100, hidden_units=64, learning_rate=0.1; total time=   7.1s\n"
     ]
    },
    {
     "name": "stderr",
     "output_type": "stream",
     "text": [
      "/usr/local/lib/python3.8/dist-packages/sklearn/metrics/_classification.py:1318: UndefinedMetricWarning: Precision is ill-defined and being set to 0.0 due to no predicted samples. Use `zero_division` parameter to control this behavior.\n",
      "  _warn_prf(average, modifier, msg_start, len(result))\n"
     ]
    },
    {
     "name": "stdout",
     "output_type": "stream",
     "text": [
      "1/1 [==============================] - 0s 38ms/step\n",
      "[CV] END batch_size=1, dropout_rate=0.5, epochs=100, hidden_units=64, learning_rate=0.1; total time=   7.1s\n"
     ]
    },
    {
     "name": "stderr",
     "output_type": "stream",
     "text": [
      "/usr/local/lib/python3.8/dist-packages/sklearn/metrics/_classification.py:1318: UndefinedMetricWarning: Precision is ill-defined and being set to 0.0 due to no predicted samples. Use `zero_division` parameter to control this behavior.\n",
      "  _warn_prf(average, modifier, msg_start, len(result))\n"
     ]
    },
    {
     "name": "stdout",
     "output_type": "stream",
     "text": [
      "1/1 [==============================] - 0s 38ms/step\n",
      "[CV] END batch_size=4, dropout_rate=0.4, epochs=100, hidden_units=256, learning_rate=0.05; total time=   3.5s\n"
     ]
    },
    {
     "name": "stderr",
     "output_type": "stream",
     "text": [
      "/usr/local/lib/python3.8/dist-packages/sklearn/metrics/_classification.py:1318: UndefinedMetricWarning: Precision is ill-defined and being set to 0.0 due to no predicted samples. Use `zero_division` parameter to control this behavior.\n",
      "  _warn_prf(average, modifier, msg_start, len(result))\n"
     ]
    },
    {
     "name": "stdout",
     "output_type": "stream",
     "text": [
      "1/1 [==============================] - 0s 41ms/step\n",
      "[CV] END batch_size=4, dropout_rate=0.4, epochs=100, hidden_units=256, learning_rate=0.05; total time=   3.6s\n"
     ]
    },
    {
     "name": "stderr",
     "output_type": "stream",
     "text": [
      "/usr/local/lib/python3.8/dist-packages/sklearn/metrics/_classification.py:1318: UndefinedMetricWarning: Precision is ill-defined and being set to 0.0 due to no predicted samples. Use `zero_division` parameter to control this behavior.\n",
      "  _warn_prf(average, modifier, msg_start, len(result))\n"
     ]
    },
    {
     "name": "stdout",
     "output_type": "stream",
     "text": [
      "1/1 [==============================] - 0s 40ms/step\n",
      "[CV] END batch_size=4, dropout_rate=0.4, epochs=100, hidden_units=256, learning_rate=0.05; total time=   3.6s\n"
     ]
    },
    {
     "name": "stderr",
     "output_type": "stream",
     "text": [
      "/usr/local/lib/python3.8/dist-packages/sklearn/metrics/_classification.py:1318: UndefinedMetricWarning: Precision is ill-defined and being set to 0.0 due to no predicted samples. Use `zero_division` parameter to control this behavior.\n",
      "  _warn_prf(average, modifier, msg_start, len(result))\n"
     ]
    },
    {
     "name": "stdout",
     "output_type": "stream",
     "text": [
      "1/1 [==============================] - 0s 49ms/step\n",
      "[CV] END batch_size=8, dropout_rate=0.5, epochs=100, hidden_units=128, learning_rate=0.01; total time=   3.9s\n",
      "1/1 [==============================] - 0s 54ms/step\n",
      "[CV] END batch_size=8, dropout_rate=0.5, epochs=100, hidden_units=128, learning_rate=0.01; total time=   3.0s\n",
      "1/1 [==============================] - 0s 49ms/step\n",
      "[CV] END batch_size=8, dropout_rate=0.5, epochs=100, hidden_units=128, learning_rate=0.01; total time=   2.9s\n",
      "1/1 [==============================] - 0s 45ms/step\n",
      "[CV] END batch_size=2, dropout_rate=0.4, epochs=100, hidden_units=512, learning_rate=0.001; total time=   4.8s\n",
      "1/1 [==============================] - 0s 44ms/step\n",
      "[CV] END batch_size=2, dropout_rate=0.4, epochs=100, hidden_units=512, learning_rate=0.001; total time=   4.7s\n",
      "1/1 [==============================] - 0s 44ms/step\n",
      "[CV] END batch_size=2, dropout_rate=0.4, epochs=100, hidden_units=512, learning_rate=0.001; total time=   4.6s\n",
      "1/1 [==============================] - 0s 43ms/step\n",
      "[CV] END batch_size=16, dropout_rate=0.5, epochs=100, hidden_units=512, learning_rate=0.01; total time=   2.4s\n",
      "1/1 [==============================] - 0s 51ms/step\n",
      "[CV] END batch_size=16, dropout_rate=0.5, epochs=100, hidden_units=512, learning_rate=0.01; total time=   2.4s\n",
      "1/1 [==============================] - 0s 40ms/step\n",
      "[CV] END batch_size=16, dropout_rate=0.5, epochs=100, hidden_units=512, learning_rate=0.01; total time=   2.4s\n",
      "1/1 [==============================] - 0s 40ms/step\n",
      "[CV] END batch_size=4, dropout_rate=0.6, epochs=100, hidden_units=256, learning_rate=0.1; total time=   3.5s\n"
     ]
    },
    {
     "name": "stderr",
     "output_type": "stream",
     "text": [
      "/usr/local/lib/python3.8/dist-packages/sklearn/metrics/_classification.py:1318: UndefinedMetricWarning: Precision is ill-defined and being set to 0.0 due to no predicted samples. Use `zero_division` parameter to control this behavior.\n",
      "  _warn_prf(average, modifier, msg_start, len(result))\n"
     ]
    },
    {
     "name": "stdout",
     "output_type": "stream",
     "text": [
      "1/1 [==============================] - 0s 40ms/step\n",
      "[CV] END batch_size=4, dropout_rate=0.6, epochs=100, hidden_units=256, learning_rate=0.1; total time=   3.5s\n"
     ]
    },
    {
     "name": "stderr",
     "output_type": "stream",
     "text": [
      "/usr/local/lib/python3.8/dist-packages/sklearn/metrics/_classification.py:1318: UndefinedMetricWarning: Precision is ill-defined and being set to 0.0 due to no predicted samples. Use `zero_division` parameter to control this behavior.\n",
      "  _warn_prf(average, modifier, msg_start, len(result))\n"
     ]
    },
    {
     "name": "stdout",
     "output_type": "stream",
     "text": [
      "1/1 [==============================] - 0s 40ms/step\n",
      "[CV] END batch_size=4, dropout_rate=0.6, epochs=100, hidden_units=256, learning_rate=0.1; total time=   3.5s\n"
     ]
    },
    {
     "name": "stderr",
     "output_type": "stream",
     "text": [
      "/usr/local/lib/python3.8/dist-packages/sklearn/metrics/_classification.py:1318: UndefinedMetricWarning: Precision is ill-defined and being set to 0.0 due to no predicted samples. Use `zero_division` parameter to control this behavior.\n",
      "  _warn_prf(average, modifier, msg_start, len(result))\n"
     ]
    },
    {
     "name": "stdout",
     "output_type": "stream",
     "text": [
      "1/1 [==============================] - 0s 39ms/step\n",
      "[CV] END batch_size=16, dropout_rate=0.4, epochs=100, hidden_units=128, learning_rate=0.005; total time=   2.3s\n",
      "1/1 [==============================] - 0s 38ms/step\n",
      "[CV] END batch_size=16, dropout_rate=0.4, epochs=100, hidden_units=128, learning_rate=0.005; total time=   2.3s\n",
      "1/1 [==============================] - 0s 41ms/step\n",
      "[CV] END batch_size=16, dropout_rate=0.4, epochs=100, hidden_units=128, learning_rate=0.005; total time=   2.4s\n",
      "1/1 [==============================] - 0s 39ms/step\n",
      "[CV] END batch_size=8, dropout_rate=0.4, epochs=100, hidden_units=256, learning_rate=0.1; total time=   2.7s\n"
     ]
    },
    {
     "name": "stderr",
     "output_type": "stream",
     "text": [
      "/usr/local/lib/python3.8/dist-packages/sklearn/metrics/_classification.py:1318: UndefinedMetricWarning: Precision is ill-defined and being set to 0.0 due to no predicted samples. Use `zero_division` parameter to control this behavior.\n",
      "  _warn_prf(average, modifier, msg_start, len(result))\n"
     ]
    },
    {
     "name": "stdout",
     "output_type": "stream",
     "text": [
      "1/1 [==============================] - 0s 39ms/step\n",
      "[CV] END batch_size=8, dropout_rate=0.4, epochs=100, hidden_units=256, learning_rate=0.1; total time=   2.7s\n",
      "1/1 [==============================] - 0s 39ms/step\n",
      "[CV] END batch_size=8, dropout_rate=0.4, epochs=100, hidden_units=256, learning_rate=0.1; total time=   2.7s\n"
     ]
    },
    {
     "name": "stderr",
     "output_type": "stream",
     "text": [
      "/usr/local/lib/python3.8/dist-packages/sklearn/metrics/_classification.py:1318: UndefinedMetricWarning: Precision is ill-defined and being set to 0.0 due to no predicted samples. Use `zero_division` parameter to control this behavior.\n",
      "  _warn_prf(average, modifier, msg_start, len(result))\n"
     ]
    },
    {
     "name": "stdout",
     "output_type": "stream",
     "text": [
      "1/1 [==============================] - 0s 50ms/step\n",
      "[CV] END batch_size=4, dropout_rate=0.4, epochs=100, hidden_units=512, learning_rate=0.001; total time=   4.2s\n",
      "1/1 [==============================] - 0s 51ms/step\n",
      "[CV] END batch_size=4, dropout_rate=0.4, epochs=100, hidden_units=512, learning_rate=0.001; total time=   3.6s\n",
      "1/1 [==============================] - 0s 47ms/step\n",
      "[CV] END batch_size=4, dropout_rate=0.4, epochs=100, hidden_units=512, learning_rate=0.001; total time=   4.0s\n",
      "1/1 [==============================] - 0s 53ms/step\n",
      "[CV] END batch_size=2, dropout_rate=0.4, epochs=100, hidden_units=128, learning_rate=0.01; total time=   5.1s\n"
     ]
    },
    {
     "name": "stderr",
     "output_type": "stream",
     "text": [
      "/usr/local/lib/python3.8/dist-packages/sklearn/metrics/_classification.py:1318: UndefinedMetricWarning: Precision is ill-defined and being set to 0.0 due to no predicted samples. Use `zero_division` parameter to control this behavior.\n",
      "  _warn_prf(average, modifier, msg_start, len(result))\n"
     ]
    },
    {
     "name": "stdout",
     "output_type": "stream",
     "text": [
      "1/1 [==============================] - 0s 44ms/step\n",
      "[CV] END batch_size=2, dropout_rate=0.4, epochs=100, hidden_units=128, learning_rate=0.01; total time=   4.7s\n",
      "1/1 [==============================] - 0s 41ms/step\n",
      "[CV] END batch_size=2, dropout_rate=0.4, epochs=100, hidden_units=128, learning_rate=0.01; total time=   5.0s\n"
     ]
    },
    {
     "data": {
      "text/plain": [
       "RandomizedSearchCV(cv=3,\n",
       "                   estimator=<keras.wrappers.scikit_learn.KerasClassifier object at 0x7fe0cbf74370>,\n",
       "                   n_iter=100,\n",
       "                   param_distributions={'batch_size': [1, 2, 4, 8, 16],\n",
       "                                        'dropout_rate': [0.4, 0.5, 0.6],\n",
       "                                        'epochs': [100],\n",
       "                                        'hidden_units': [64, 128, 256, 512],\n",
       "                                        'learning_rate': [0.001, 0.005, 0.01,\n",
       "                                                          0.05, 0.1]},\n",
       "                   random_state=28, scoring=make_scorer(custom_scorer),\n",
       "                   verbose=2)"
      ]
     },
     "execution_count": 100,
     "metadata": {},
     "output_type": "execute_result"
    }
   ],
   "source": [
    "from tensorflow.keras.wrappers.scikit_learn import KerasClassifier\n",
    "from sklearn.model_selection import RandomizedSearchCV\n",
    "from sklearn.metrics import make_scorer, accuracy_score, recall_score, precision_score\n",
    "\n",
    "RANDOM_SEED=28\n",
    "\n",
    "# Define a function to create your Keras model\n",
    "def create_model(input_dim, hidden_units=128, dropout_rate=0.5, learning_rate=0.001):\n",
    "    \n",
    "    model = Sequential([\n",
    "        Dense(hidden_units, activation='relu', input_dim=input_dim),\n",
    "        Dropout(dropout_rate),\n",
    "        Dense(hidden_units // 2, activation='relu'),\n",
    "        Dropout(dropout_rate),\n",
    "        Dense(hidden_units // 2, activation='relu'),\n",
    "        Dropout(dropout_rate),\n",
    "        Dense(1, activation='sigmoid')\n",
    "    ])\n",
    "    \n",
    "    model.compile(optimizer=tf.keras.optimizers.Adam(learning_rate=learning_rate),\n",
    "                  loss='binary_crossentropy',\n",
    "                  metrics=[\n",
    "                      tf.keras.metrics.BinaryAccuracy(name='accuracy'),\n",
    "                      tf.keras.metrics.Recall(name='recall'),\n",
    "                      tf.keras.metrics.Precision(name='precision')\n",
    "                  ]\n",
    "                 )\n",
    "    \n",
    "    return model\n",
    "\n",
    "# Create a KerasClassifier for scikit-learn compatibility\n",
    "model = KerasClassifier(build_fn=create_model, input_dim=N_FEATURES, verbose=0)\n",
    "\n",
    "# Define the hyperparameter grid\n",
    "param_grid = {\n",
    "    'hidden_units': [64, 128, 256, 512],\n",
    "    'dropout_rate': [0.4, 0.5, 0.6],\n",
    "    'learning_rate': [0.001, 0.005, 0.01, 0.05, 0.1],\n",
    "    'batch_size': [1, 2, 4, 8, 16], # 32\n",
    "    'epochs': [100] # 50\n",
    "}\n",
    "\n",
    "# Define a custom scoring function that combines accuracy, precision, and recall\n",
    "def custom_scorer(y_true, y_pred):\n",
    "    accuracy = accuracy_score(y_true, y_pred)\n",
    "    precision = precision_score(y_true, y_pred)\n",
    "    recall = recall_score(y_true, y_pred)\n",
    "    \n",
    "    # You can assign weights to each metric as needed\n",
    "    combined_score = 0.6 * accuracy + 0.15 * precision + 0.25 * recall\n",
    "    \n",
    "    return combined_score\n",
    "\n",
    "# Create a scorer based on the custom scoring function\n",
    "scoring = make_scorer(custom_scorer)\n",
    "\n",
    "# Create a RandomizedSearchCV instance\n",
    "random_search = RandomizedSearchCV(model, param_distributions=param_grid, scoring=scoring,\n",
    "                                   n_iter=100, cv=3, verbose=2, random_state=RANDOM_SEED, refit=True)\n",
    "\n",
    "# Fit the RandomizedSearchCV to your data\n",
    "random_search.fit(X,y) # X_train, y_train"
   ]
  },
  {
   "cell_type": "code",
   "execution_count": 101,
   "metadata": {},
   "outputs": [
    {
     "name": "stdout",
     "output_type": "stream",
     "text": [
      "Best Hyperparameters: {'learning_rate': 0.01, 'hidden_units': 512, 'epochs': 100, 'dropout_rate': 0.6, 'batch_size': 8}\n"
     ]
    }
   ],
   "source": [
    "# Print the best hyperparameters\n",
    "print(\"Best Hyperparameters:\", random_search.best_params_)"
   ]
  },
  {
   "cell_type": "markdown",
   "metadata": {},
   "source": [
    "## Instantiating the architecture of the Multi-Layer Perceptron (MLP) Neural Network "
   ]
  },
  {
   "cell_type": "code",
   "execution_count": 24,
   "metadata": {},
   "outputs": [],
   "source": [
    "def mlp_model():\n",
    "    \n",
    "    # Defining the Sequential model\n",
    "    model = Sequential([\n",
    "        Dense(1024, activation='relu', input_dim=N_FEATURES),\n",
    "        Dropout(0.6),\n",
    "        \n",
    "        Dense(1024 // 2, activation='relu'),\n",
    "        Dropout(0.6),\n",
    "        \n",
    "        # Extra layer\n",
    "        Dense(1024 // 2, activation='relu'),\n",
    "        Dropout(0.6),\n",
    "        \n",
    "        Dense(1024 // 4, activation='relu'),\n",
    "        Dropout(0.6),\n",
    "        \n",
    "        Dense(1, activation='sigmoid')\n",
    "    ])\n",
    "\n",
    "    # Compiling the model\n",
    "    model.compile(optimizer=tf.keras.optimizers.Adam(learning_rate=0.01),\n",
    "                  loss='binary_crossentropy',\n",
    "                  metrics=[\n",
    "                      tf.keras.metrics.BinaryAccuracy(name='accuracy'),\n",
    "                      tf.keras.metrics.Recall(name='recall'),\n",
    "                      tf.keras.metrics.Precision(name='precision')\n",
    "                  ]\n",
    "                 )\n",
    "    \n",
    "    return model\n",
    "\n",
    "# Train the model with early stopping to prevent overfitting \n",
    "# (does not work to LOOCV, only when we specify validation data)\n",
    "# early_stopping = tf.keras.callbacks.EarlyStopping(\n",
    "#     monitor='val_loss',\n",
    "#     patience=10,  # You can adjust the patience as needed\n",
    "#     restore_best_weights=True\n",
    "# )"
   ]
  },
  {
   "cell_type": "markdown",
   "metadata": {},
   "source": [
    "## Test: LOOCV"
   ]
  },
  {
   "cell_type": "code",
   "execution_count": 27,
   "metadata": {},
   "outputs": [],
   "source": [
    "# Define the number of epochs\n",
    "N_EPOCHS=200 #150\n",
    "THRESHOLD_VAL=0.5\n",
    "BATCH_SIZE=2 # 4\n",
    "\n",
    "# Initialize lists to store predicted probabilities and binary predictions\n",
    "probs_preds_list = []\n",
    "binary_preds_list = []\n",
    "\n",
    "# Initialize lists to store training history metrics for plotting\n",
    "loss_list = []\n",
    "accuracy_list = []\n",
    "y_list = []\n",
    "\n",
    "# Define the feature and label datasets\n",
    "X = pd.DataFrame(X)\n",
    "y = y\n",
    "\n",
    "# 'val_accuracy', 'val_loss'"
   ]
  },
  {
   "cell_type": "code",
   "execution_count": null,
   "metadata": {},
   "outputs": [
    {
     "name": "stdout",
     "output_type": "stream",
     "text": [
      "Epoch 1/200\n",
      "25/25 [==============================] - 2s 3ms/step - loss: 35.7532 - accuracy: 0.6800 - recall: 0.6842 - precision: 0.5652\n",
      "Epoch 2/200\n",
      "25/25 [==============================] - 0s 2ms/step - loss: 48.2073 - accuracy: 0.6200 - recall: 0.5789 - precision: 0.5000\n",
      "Epoch 3/200\n",
      "25/25 [==============================] - 0s 3ms/step - loss: 150.2428 - accuracy: 0.4600 - recall: 0.1579 - precision: 0.2143      \n",
      "Epoch 4/200\n",
      "25/25 [==============================] - 0s 2ms/step - loss: 76.6195 - accuracy: 0.4800 - recall: 0.3684 - precision: 0.3333\n",
      "Epoch 5/200\n",
      "25/25 [==============================] - 0s 3ms/step - loss: 126.5593 - accuracy: 0.5800 - recall: 0.4737 - precision: 0.4500 \n",
      "Epoch 6/200\n",
      "25/25 [==============================] - 0s 3ms/step - loss: 122.3593 - accuracy: 0.5000 - recall: 0.1053 - precision: 0.2000   \n",
      "Epoch 7/200\n",
      "25/25 [==============================] - 0s 3ms/step - loss: 40.4053 - accuracy: 0.5200 - recall: 0.6316 - precision: 0.4138\n",
      "Epoch 8/200\n",
      "25/25 [==============================] - 0s 3ms/step - loss: 85.7564 - accuracy: 0.5400 - recall: 0.3158 - precision: 0.3750       \n",
      "Epoch 9/200\n",
      "25/25 [==============================] - 0s 3ms/step - loss: 110.5362 - accuracy: 0.5600 - recall: 0.3158 - precision: 0.4000\n",
      "Epoch 10/200\n",
      "25/25 [==============================] - 0s 3ms/step - loss: 41.2377 - accuracy: 0.4200 - recall: 0.2105 - precision: 0.2222 \n",
      "Epoch 11/200\n",
      "25/25 [==============================] - 0s 2ms/step - loss: 15.1707 - accuracy: 0.5400 - recall: 0.4737 - precision: 0.4091      \n",
      "Epoch 12/200\n",
      "25/25 [==============================] - 0s 3ms/step - loss: 81.7103 - accuracy: 0.6200 - recall: 0.3158 - precision: 0.5000 \n",
      "Epoch 13/200\n",
      "25/25 [==============================] - 0s 3ms/step - loss: 7.1475 - accuracy: 0.6800 - recall: 0.6842 - precision: 0.5652   \n",
      "Epoch 14/200\n",
      "25/25 [==============================] - 0s 3ms/step - loss: 23.7415 - accuracy: 0.6000 - recall: 0.4737 - precision: 0.4737     \n",
      "Epoch 15/200\n",
      "25/25 [==============================] - 0s 3ms/step - loss: 16.3325 - accuracy: 0.5600 - recall: 0.3158 - precision: 0.4000      \n",
      "Epoch 16/200\n",
      "25/25 [==============================] - 0s 3ms/step - loss: 12.5405 - accuracy: 0.6200 - recall: 0.4737 - precision: 0.5000\n",
      "Epoch 17/200\n",
      "25/25 [==============================] - 0s 2ms/step - loss: 4.4124 - accuracy: 0.6000 - recall: 0.7895 - precision: 0.4839\n",
      "Epoch 18/200\n",
      "25/25 [==============================] - 0s 3ms/step - loss: 27.7004 - accuracy: 0.5400 - recall: 0.4211 - precision: 0.4000\n",
      "Epoch 19/200\n",
      "25/25 [==============================] - 0s 3ms/step - loss: 20.8419 - accuracy: 0.6200 - recall: 0.3684 - precision: 0.5000\n",
      "Epoch 20/200\n",
      "25/25 [==============================] - 0s 3ms/step - loss: 16.5864 - accuracy: 0.5800 - recall: 0.6842 - precision: 0.4643\n",
      "Epoch 21/200\n",
      "25/25 [==============================] - 0s 3ms/step - loss: 10.8251 - accuracy: 0.5400 - recall: 0.3684 - precision: 0.3889 \n",
      "Epoch 22/200\n",
      "25/25 [==============================] - 0s 2ms/step - loss: 7.7084 - accuracy: 0.6200 - recall: 0.7368 - precision: 0.5000   \n",
      "Epoch 23/200\n",
      "25/25 [==============================] - 0s 2ms/step - loss: 11.7951 - accuracy: 0.4800 - recall: 0.4211 - precision: 0.3478\n",
      "Epoch 24/200\n",
      "25/25 [==============================] - 0s 2ms/step - loss: 17.7229 - accuracy: 0.5200 - recall: 0.7895 - precision: 0.4286     \n",
      "Epoch 25/200\n",
      "25/25 [==============================] - 0s 2ms/step - loss: 4.0151 - accuracy: 0.6000 - recall: 0.5789 - precision: 0.4783   \n",
      "Epoch 26/200\n",
      "25/25 [==============================] - 0s 2ms/step - loss: 5.1719 - accuracy: 0.5400 - recall: 0.5263 - precision: 0.4167\n",
      "Epoch 27/200\n",
      "25/25 [==============================] - 0s 2ms/step - loss: 1.5666 - accuracy: 0.4200 - recall: 0.4737 - precision: 0.3214       \n",
      "Epoch 28/200\n",
      "25/25 [==============================] - 0s 3ms/step - loss: 2.9580 - accuracy: 0.5600 - recall: 0.6316 - precision: 0.4444\n",
      "Epoch 29/200\n",
      "25/25 [==============================] - 0s 3ms/step - loss: 1.2515 - accuracy: 0.6200 - recall: 0.4211 - precision: 0.5000       \n",
      "Epoch 30/200\n",
      "25/25 [==============================] - 0s 2ms/step - loss: 1.7705 - accuracy: 0.6200 - recall: 0.2632 - precision: 0.5000   \n",
      "Epoch 31/200\n",
      "25/25 [==============================] - 0s 2ms/step - loss: 1.3457 - accuracy: 0.4800 - recall: 0.3158 - precision: 0.3158\n",
      "Epoch 32/200\n",
      "25/25 [==============================] - 0s 2ms/step - loss: 0.7642 - accuracy: 0.5600 - recall: 0.7368 - precision: 0.4516\n",
      "Epoch 33/200\n",
      "25/25 [==============================] - 0s 2ms/step - loss: 1.4132 - accuracy: 0.5000 - recall: 0.3158 - precision: 0.3333\n",
      "Epoch 34/200\n",
      "25/25 [==============================] - 0s 2ms/step - loss: 0.6002 - accuracy: 0.5800 - recall: 0.4211 - precision: 0.4444   \n",
      "Epoch 35/200\n",
      "25/25 [==============================] - 0s 2ms/step - loss: 7.1485 - accuracy: 0.6000 - recall: 0.3684 - precision: 0.4667       \n",
      "Epoch 36/200\n",
      "25/25 [==============================] - 0s 3ms/step - loss: 16.4584 - accuracy: 0.5200 - recall: 0.6316 - precision: 0.4138\n",
      "Epoch 37/200\n",
      "25/25 [==============================] - 0s 2ms/step - loss: 1.1352 - accuracy: 0.6400 - recall: 0.5263 - precision: 0.5263   \n",
      "Epoch 38/200\n",
      "25/25 [==============================] - 0s 2ms/step - loss: 7.4341 - accuracy: 0.4800 - recall: 0.3684 - precision: 0.3333       \n",
      "Epoch 39/200\n",
      "25/25 [==============================] - 0s 2ms/step - loss: 0.8657 - accuracy: 0.5200 - recall: 0.4211 - precision: 0.3810   \n",
      "Epoch 40/200\n",
      "25/25 [==============================] - 0s 2ms/step - loss: 0.5645 - accuracy: 0.6600 - recall: 0.2105 - precision: 0.6667   \n",
      "Epoch 41/200\n",
      "25/25 [==============================] - 0s 2ms/step - loss: 0.6334 - accuracy: 0.6200 - recall: 0.1053 - precision: 0.5000   \n",
      "Epoch 42/200\n",
      "25/25 [==============================] - 0s 2ms/step - loss: 1.9450 - accuracy: 0.7600 - recall: 0.6316 - precision: 0.7059    \n",
      "Epoch 43/200\n",
      "25/25 [==============================] - 0s 2ms/step - loss: 10.3222 - accuracy: 0.5600 - recall: 0.2105 - precision: 0.3636 \n",
      "Epoch 44/200\n",
      "25/25 [==============================] - 0s 2ms/step - loss: 1.2417 - accuracy: 0.6200 - recall: 0.2105 - precision: 0.5000   \n",
      "Epoch 45/200\n",
      "25/25 [==============================] - 0s 2ms/step - loss: 17.2185 - accuracy: 0.5200 - recall: 0.2105 - precision: 0.3077 \n",
      "Epoch 46/200\n",
      "25/25 [==============================] - 0s 3ms/step - loss: 8.3777 - accuracy: 0.5800 - recall: 0.3158 - precision: 0.4286   \n",
      "Epoch 47/200\n",
      "25/25 [==============================] - 0s 2ms/step - loss: 0.7575 - accuracy: 0.6600 - recall: 0.4737 - precision: 0.5625   \n",
      "Epoch 48/200\n",
      "25/25 [==============================] - 0s 2ms/step - loss: 0.6815 - accuracy: 0.5800 - recall: 0.2632 - precision: 0.4167       \n",
      "Epoch 49/200\n",
      "25/25 [==============================] - 0s 2ms/step - loss: 1.0216 - accuracy: 0.5800 - recall: 0.1579 - precision: 0.3750   \n",
      "Epoch 50/200\n",
      "25/25 [==============================] - 0s 2ms/step - loss: 1.3505 - accuracy: 0.6200 - recall: 0.1053 - precision: 0.5000\n",
      "Epoch 51/200\n",
      "25/25 [==============================] - 0s 2ms/step - loss: 1.9192 - accuracy: 0.5600 - recall: 0.4211 - precision: 0.4211   \n",
      "Epoch 52/200\n",
      "25/25 [==============================] - 0s 2ms/step - loss: 14.2636 - accuracy: 0.5200 - recall: 0.3158 - precision: 0.3529 \n",
      "Epoch 53/200\n",
      "25/25 [==============================] - 0s 3ms/step - loss: 6.1211 - accuracy: 0.5800 - recall: 0.3158 - precision: 0.4286   \n",
      "Epoch 54/200\n",
      "25/25 [==============================] - 0s 3ms/step - loss: 11.4588 - accuracy: 0.4800 - recall: 0.1053 - precision: 0.1818 \n",
      "Epoch 55/200\n",
      "25/25 [==============================] - 0s 2ms/step - loss: 0.7173 - accuracy: 0.6200 - recall: 0.1579 - precision: 0.5000   \n",
      "Epoch 56/200\n",
      "25/25 [==============================] - 0s 2ms/step - loss: 0.6054 - accuracy: 0.5600 - recall: 0.3158 - precision: 0.4000   \n",
      "Epoch 57/200\n",
      "25/25 [==============================] - 0s 2ms/step - loss: 6.2117 - accuracy: 0.6000 - recall: 0.0526 - precision: 0.3333   \n",
      "Epoch 58/200\n",
      "25/25 [==============================] - 0s 2ms/step - loss: 3.0570 - accuracy: 0.6200 - recall: 0.2105 - precision: 0.5000   \n",
      "Epoch 59/200\n"
     ]
    },
    {
     "name": "stdout",
     "output_type": "stream",
     "text": [
      "25/25 [==============================] - 0s 3ms/step - loss: 0.6575 - accuracy: 0.6000 - recall: 0.0526 - precision: 0.3333   \n",
      "Epoch 60/200\n",
      "25/25 [==============================] - 0s 3ms/step - loss: 0.8576 - accuracy: 0.6200 - recall: 0.4211 - precision: 0.5000   \n",
      "Epoch 61/200\n",
      "25/25 [==============================] - 0s 2ms/step - loss: 15.0477 - accuracy: 0.5400 - recall: 0.1579 - precision: 0.3000 \n",
      "Epoch 62/200\n",
      "25/25 [==============================] - 0s 2ms/step - loss: 1.8436 - accuracy: 0.6400 - recall: 0.1053 - precision: 0.6667   \n",
      "Epoch 63/200\n",
      "25/25 [==============================] - 0s 3ms/step - loss: 6.7354 - accuracy: 0.5600 - recall: 0.2632 - precision: 0.3846\n",
      "Epoch 64/200\n",
      "25/25 [==============================] - 0s 3ms/step - loss: 8.1321 - accuracy: 0.5600 - recall: 0.3684 - precision: 0.4118\n",
      "Epoch 65/200\n",
      "25/25 [==============================] - 0s 3ms/step - loss: 47.8132 - accuracy: 0.5600 - recall: 0.2105 - precision: 0.3636 \n",
      "Epoch 66/200\n",
      "25/25 [==============================] - 0s 3ms/step - loss: 5.5817 - accuracy: 0.6600 - recall: 0.2632 - precision: 0.6250   \n",
      "Epoch 67/200\n",
      "25/25 [==============================] - 0s 2ms/step - loss: 2.7394 - accuracy: 0.6600 - recall: 0.2632 - precision: 0.6250   \n",
      "Epoch 68/200\n",
      " 1/25 [>.............................] - ETA: 0s - loss: 0.7049 - accuracy: 0.5000 - recall: 0.5000 - precision: 1.0000"
     ]
    }
   ],
   "source": [
    "# Perform LOOCV\n",
    "loo = LeaveOneOut()\n",
    "for train_index, test_index in loo.split(X):\n",
    "    X_train, X_test = X.iloc[train_index], X.iloc[test_index] \n",
    "    y_train, y_test = y.iloc[train_index], y.iloc[test_index]\n",
    "    \n",
    "    # Instantiate the model\n",
    "    model = mlp_model()\n",
    "    \n",
    "    # Fit the model on the training data\n",
    "    history = model.fit(X_train, y_train, batch_size=BATCH_SIZE, epochs=N_EPOCHS, \n",
    "                        verbose=1) # callbacks=[early_stopping], use_multiprocessing=True\n",
    "\n",
    "     # Evaluate the model on the test data and store predictions\n",
    "    y_probs = model.predict(X_test)\n",
    "    y_pred_binary = (y_probs >= THRESHOLD_VAL).astype(int)\n",
    "    \n",
    "    # Store predicted probabilities and binary predictions for this fold\n",
    "    # along with it's true label\n",
    "    probs_preds_list.append(y_probs[0][0])\n",
    "    binary_preds_list.append(y_pred_binary[0][0])\n",
    "    y_list.append(y_test.values[0][0])\n",
    "\n",
    "    # Store the training history metrics for this fold\n",
    "    loss_list.append(history.history['loss'])\n",
    "    accuracy_list.append(history.history['accuracy'])\n",
    "\n"
   ]
  },
  {
   "cell_type": "code",
   "execution_count": 124,
   "metadata": {},
   "outputs": [
    {
     "name": "stdout",
     "output_type": "stream",
     "text": [
      "Overall Accuracy: 0.65\n",
      "Overall Precision: 0.52\n",
      "Overall Recall: 0.63\n",
      "Overall F1 Score: 0.57\n"
     ]
    }
   ],
   "source": [
    "binary_list = binary_preds_list\n",
    "probs_list = probs_preds_list\n",
    "y_list = y_list\n",
    "\n",
    "# Calculate and print the overall metrics after LOOCV\n",
    "overall_accuracy = accuracy_score(y_list, binary_list)\n",
    "overall_precision = precision_score(y_list, binary_list)\n",
    "overall_recall = recall_score(y_list, binary_list)\n",
    "overall_f1 = f1_score(y_list, binary_list)\n",
    "\n",
    "print(f'Overall Accuracy: {overall_accuracy:.2f}')\n",
    "print(f'Overall Precision: {overall_precision:.2f}')\n",
    "print(f'Overall Recall: {overall_recall:.2f}')\n",
    "print(f'Overall F1 Score: {overall_f1:.2f}')"
   ]
  },
  {
   "cell_type": "code",
   "execution_count": 125,
   "metadata": {},
   "outputs": [
    {
     "data": {
      "text/plain": [
       "Text(0.5, 1.0, 'Overall Confusion Matrix')"
      ]
     },
     "execution_count": 125,
     "metadata": {},
     "output_type": "execute_result"
    },
    {
     "data": {
      "image/png": "[encoded data removed]",
      "text/plain": [
       "<Figure size 640x480 with 2 Axes>"
      ]
     },
     "metadata": {},
     "output_type": "display_data"
    }
   ],
   "source": [
    "# Calculate and plot the overall confusion matrix\n",
    "overall_cm = confusion_matrix(y_list, binary_list)\n",
    "ConfusionMatrixDisplay(overall_cm, display_labels=['True', \"False\"]).plot()\n",
    "plt.title('Overall Confusion Matrix')"
   ]
  },
  {
   "cell_type": "code",
   "execution_count": 126,
   "metadata": {},
   "outputs": [
    {
     "data": {
      "image/png": "[encoded data removed]",
      "text/plain": [
       "<Figure size 1000x400 with 1 Axes>"
      ]
     },
     "metadata": {},
     "output_type": "display_data"
    }
   ],
   "source": [
    "# Calculate and plot the overall ROC curve and AUC\n",
    "fpr, tpr, _ = roc_curve(y_list, probs_list)\n",
    "roc_auc = auc(fpr, tpr)\n",
    "\n",
    "plt.figure(figsize=(10, 4))\n",
    "plt.subplot(1, 2, 1)\n",
    "plt.plot(fpr, tpr, color='darkorange', lw=2, label=f'ROC curve (AUC = {roc_auc:.2f})')\n",
    "plt.plot([0, 1], [0, 1], color='navy', lw=2, linestyle='--')\n",
    "plt.xlim([0.0, 1.0])\n",
    "plt.ylim([0.0, 1.05])\n",
    "plt.xlabel('False Positive Rate')\n",
    "plt.ylabel('True Positive Rate')\n",
    "plt.title('Overall ROC Curve')\n",
    "plt.legend(loc='lower right')\n",
    "plt.grid(True)\n"
   ]
  },
  {
   "cell_type": "code",
   "execution_count": null,
   "metadata": {},
   "outputs": [],
   "source": []
  },
  {
   "cell_type": "code",
   "execution_count": null,
   "metadata": {},
   "outputs": [],
   "source": []
  },
  {
   "cell_type": "code",
   "execution_count": null,
   "metadata": {},
   "outputs": [],
   "source": []
  },
  {
   "cell_type": "code",
   "execution_count": null,
   "metadata": {},
   "outputs": [],
   "source": []
  },
  {
   "cell_type": "code",
   "execution_count": null,
   "metadata": {},
   "outputs": [],
   "source": []
  },
  {
   "cell_type": "code",
   "execution_count": null,
   "metadata": {},
   "outputs": [],
   "source": []
  },
  {
   "cell_type": "code",
   "execution_count": null,
   "metadata": {},
   "outputs": [],
   "source": []
  },
  {
   "cell_type": "markdown",
   "metadata": {},
   "source": [
    "# -------------------------------------------- Draft ------------------------------------------------------ #"
   ]
  },
  {
   "cell_type": "markdown",
   "metadata": {},
   "source": [
    "## Test: CV-KFold (futuro)"
   ]
  },
  {
   "cell_type": "code",
   "execution_count": null,
   "metadata": {},
   "outputs": [],
   "source": [
    "# Define the number of epochs\n",
    "N_EPOCHS=100\n",
    "RANDOM_SEED=759\n",
    "N_SAMPLES=10 # number of rowKFolds in each validation fold\n",
    "\n",
    "# Initialize lists to store predicted probabilities and binary predictions\n",
    "probs_preds_list = []\n",
    "binary_preds_list = []\n",
    "\n",
    "# Initialize lists to store training history metrics for plotting\n",
    "loss_list = []\n",
    "accuracy_list = []\n",
    "precision_list = []\n",
    "recall_list = []\n",
    "y_list = []\n",
    "\n",
    "# Define the feature and label datasets\n",
    "X = X_scaled\n",
    "y = y\n",
    "\n",
    "# Perform LOOCV\n",
    "# loo = LeaveOneOut()\n",
    "\n",
    "# Calculate the number of splits based on the number of rows\n",
    "N_SPLITS = len(X) // N_SAMPLES\n",
    "\n",
    "# Create the KFold cross-validator\n",
    "kf = KFold(n_splits=N_SPLITS, shuffle=True, random_state=RANDOM_SEED)\n"
   ]
  },
  {
   "cell_type": "code",
   "execution_count": null,
   "metadata": {},
   "outputs": [],
   "source": [
    "for train_index, test_index in kf.split(X): # loo.split(X)\n",
    "    X_train, X_test = X.iloc[train_index], X.iloc[test_index]\n",
    "    y_train, y_test = y.iloc[train_index], y.iloc[test_index]\n",
    "    \n",
    "    # Instantiate the model\n",
    "    model = mlp_model()\n",
    "    \n",
    "    # Fit the model on the training data\n",
    "    history = model.fit(X_train, y_train, epochs=N_EPOCHS, callbacks=[early_stopping], verbose=1)\n",
    "    # usar validation_data aqui no fit msm ????\n",
    "    \n",
    "    # Evaluate the model on the test data and store predictions\n",
    "    y_probs = model.predict(X_test)\n",
    "    y_pred_binary = (y_probs > 0.5).astype(int)\n",
    "    \n",
    "    y_list.append(y_test.values[0][0])\n",
    "\n",
    "    # Store predicted probabilities and binary predictions for this fold\n",
    "    probs_preds_list.append(y_probs)\n",
    "    binary_preds_list.append(y_pred_binary)\n",
    "\n",
    "    # Store the training history metrics for this fold\n",
    "    loss_list.append(history.history['loss'])\n",
    "    accuracy_list.append(history.history['accuracy'])\n",
    "    recall_list.append(history.history['recall'])\n",
    "    precision_list.append(history.history['precision'])\n",
    "    \n",
    "   # 'val_accuracy', 'val_loss' \n"
   ]
  },
  {
   "cell_type": "code",
   "execution_count": null,
   "metadata": {},
   "outputs": [],
   "source": [
    "# ta errado, só faz sentido calcular a média da amostra de validação\n",
    "\n",
    "# Convert the lists to NumPy arrays\n",
    "probs_array = np.concatenate(probs_list)\n",
    "binary_preds_array = np.concatenate(binary_preds_list)\n",
    "loss_array = np.concatenate(loss_list)\n",
    "accuracy_array = np.concatenate(accuracy_list)\n",
    "precision_array = np.concatenate(precision_list)\n",
    "recall_array = np.concatenate(recall_list)\n",
    "f1_array = np.concatenate(f1_list)\n",
    "\n",
    "# Calculate and print the overall metrics after LOOCV\n",
    "overall_accuracy = accuracy_score(y, binary_preds_array)\n",
    "overall_precision = precision_score(y, binary_preds_array)\n",
    "overall_recall = recall_score(y, binary_preds_array)\n",
    "overall_f1 = f1_score(y, binary_preds_array)\n",
    "\n",
    "print(f'Overall Accuracy: {overall_accuracy:.2f}')\n",
    "print(f'Overall Precision: {overall_precision:.2f}')\n",
    "print(f'Overall Recall: {overall_recall:.2f}')\n",
    "print(f'Overall F1 Score: {overall_f1:.2f}')\n",
    "\n"
   ]
  },
  {
   "cell_type": "code",
   "execution_count": null,
   "metadata": {},
   "outputs": [],
   "source": [
    "# Calculate and plot the overall confusion matrix\n",
    "overall_cm = confusion_matrix(y, binary_preds_array)\n",
    "ConfusionMatrixDisplay(overall_cm, display_labels=['Class 0', 'Class 1']).plot()\n",
    "plt.title('Overall Confusion Matrix')"
   ]
  },
  {
   "cell_type": "code",
   "execution_count": null,
   "metadata": {},
   "outputs": [],
   "source": [
    "# Calculate and plot the overall ROC curve and AUC\n",
    "fpr, tpr, _ = roc_curve(y, probs_array)\n",
    "roc_auc = auc(fpr, tpr)\n",
    "\n",
    "plt.figure(figsize=(12, 6))\n",
    "plt.subplot(1, 2, 1)\n",
    "plt.plot(fpr, tpr, color='darkorange', lw=2, label=f'ROC curve (AUC = {roc_auc:.2f})')\n",
    "plt.plot([0, 1], [0, 1], color='navy', lw=2, linestyle='--')\n",
    "plt.xlim([0.0, 1.0])\n",
    "plt.ylim([0.0, 1.05])\n",
    "plt.xlabel('False Positive Rate')\n",
    "plt.ylabel('True Positive Rate')\n",
    "plt.title('Overall ROC Curve')\n",
    "plt.legend(loc='lower right')\n",
    "plt.grid(True)\n"
   ]
  },
  {
   "cell_type": "code",
   "execution_count": null,
   "metadata": {},
   "outputs": [],
   "source": [
    "# Plot the training history for all folds in the same plot\n",
    "# plt.subplot(1, 2, 2)\n",
    "\n",
    "rcParams['figure.figsize'] = (15, 8)\n",
    "rcParams['axes.spines.top'] = False\n",
    "rcParams['axes.spines.right'] = False\n",
    "\n",
    "for i, loss in enumerate(loss_list):\n",
    "    plt.plot(loss, label=f'Fold {i + 1} Loss', linestyle='--')\n",
    "    plt.plot(accuracy_list[i], label=f'Fold {i + 1} Accuracy', linestyle='-')\n",
    "    plt.plot(precision_list[i], label=f'Fold {i + 1} Precision', linestyle='-.')\n",
    "    plt.plot(recall_list[i], label=f'Fold {i + 1} Recall', linestyle=':')\n",
    "\n",
    "\n",
    "plt.title('Training Metrics')\n",
    "plt.xlabel('Epochs')\n",
    "plt.ylabel('Metrics')\n",
    "# plt.legend()\n",
    "plt.grid(True)\n",
    "\n",
    "plt.tight_layout()\n",
    "plt.show()"
   ]
  },
  {
   "cell_type": "markdown",
   "metadata": {},
   "source": [
    "# --------------------------------------------- Draft ------------------------------------------------- #"
   ]
  },
  {
   "cell_type": "code",
   "execution_count": null,
   "metadata": {},
   "outputs": [],
   "source": []
  }
 ],
 "metadata": {
  "kernelspec": {
   "display_name": "Python 3 (ipykernel)",
   "language": "python",
   "name": "python3"
  },
  "language_info": {
   "codemirror_mode": {
    "name": "ipython",
    "version": 3
   },
   "file_extension": ".py",
   "mimetype": "text/x-python",
   "name": "python",
   "nbconvert_exporter": "python",
   "pygments_lexer": "ipython3",
   "version": "3.8.10"
  },
  "vscode": {
   "interpreter": {
    "hash": "916dbcbb3f70747c44a77c7bcd40155683ae19c65e1c03b4aa3499c5328201f1"
   }
  }
 },
 "nbformat": 4,
 "nbformat_minor": 2
}
